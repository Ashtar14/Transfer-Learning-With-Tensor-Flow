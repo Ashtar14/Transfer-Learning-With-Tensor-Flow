{
  "nbformat": 4,
  "nbformat_minor": 0,
  "metadata": {
    "colab": {
      "provenance": []
    },
    "kernelspec": {
      "name": "python3",
      "display_name": "Python 3"
    },
    "language_info": {
      "name": "python"
    },
    "accelerator": "GPU",
    "gpuClass": "standard"
  },
  "cells": [
    {
      "cell_type": "markdown",
      "source": [
        "# Transfer learning with TensorFlow part 1 : Feature extraction\n",
        "There are two main benefits to using transfer learning:\n",
        "\n",
        "Can leverage an existing neural network architecture proven to work on problems similar to our own.\n",
        "Can leverage a working neural network architecture which has already learned patterns on similar data to our own. This often results in achieving great results with less custom data."
      ],
      "metadata": {
        "id": "alsybYx5QSnd"
      }
    },
    {
      "cell_type": "code",
      "source": [
        "# Are we using a GPU\n",
        "!nvidia-smi"
      ],
      "metadata": {
        "colab": {
          "base_uri": "https://localhost:8080/"
        },
        "id": "Ob44xwlBRLx-",
        "outputId": "f165f498-5b7a-46aa-da2e-00d0adb1fe1a"
      },
      "execution_count": 1,
      "outputs": [
        {
          "output_type": "stream",
          "name": "stdout",
          "text": [
            "Sun Dec 25 08:05:20 2022       \n",
            "+-----------------------------------------------------------------------------+\n",
            "| NVIDIA-SMI 460.32.03    Driver Version: 460.32.03    CUDA Version: 11.2     |\n",
            "|-------------------------------+----------------------+----------------------+\n",
            "| GPU  Name        Persistence-M| Bus-Id        Disp.A | Volatile Uncorr. ECC |\n",
            "| Fan  Temp  Perf  Pwr:Usage/Cap|         Memory-Usage | GPU-Util  Compute M. |\n",
            "|                               |                      |               MIG M. |\n",
            "|===============================+======================+======================|\n",
            "|   0  Tesla T4            Off  | 00000000:00:04.0 Off |                    0 |\n",
            "| N/A   68C    P0    31W /  70W |      0MiB / 15109MiB |      0%      Default |\n",
            "|                               |                      |                  N/A |\n",
            "+-------------------------------+----------------------+----------------------+\n",
            "                                                                               \n",
            "+-----------------------------------------------------------------------------+\n",
            "| Processes:                                                                  |\n",
            "|  GPU   GI   CI        PID   Type   Process name                  GPU Memory |\n",
            "|        ID   ID                                                   Usage      |\n",
            "|=============================================================================|\n",
            "|  No running processes found                                                 |\n",
            "+-----------------------------------------------------------------------------+\n"
          ]
        }
      ]
    },
    {
      "cell_type": "markdown",
      "source": [
        "## Download and become one with the data"
      ],
      "metadata": {
        "id": "-bte3H7yUEnI"
      }
    },
    {
      "cell_type": "code",
      "source": [
        "# Get 10 percent of ten food classes from Food101\n",
        "import zipfile\n",
        "\n",
        "# Download the data\n",
        "!wget https://storage.googleapis.com/ztm_tf_course/food_vision/10_food_classes_10_percent.zip\n",
        "# Unzip the downloaded file\n",
        "zip_ref = zipfile.ZipFile(\"10_food_classes_10_percent.zip\")\n",
        "zip_ref.extractall()\n",
        "zip_ref.close"
      ],
      "metadata": {
        "colab": {
          "base_uri": "https://localhost:8080/"
        },
        "id": "JGjEvgmLUWCi",
        "outputId": "108ef4d8-380d-41b7-ceee-00a9bb45e370"
      },
      "execution_count": 3,
      "outputs": [
        {
          "output_type": "stream",
          "name": "stdout",
          "text": [
            "--2022-12-25 08:10:42--  https://storage.googleapis.com/ztm_tf_course/food_vision/10_food_classes_10_percent.zip\n",
            "Resolving storage.googleapis.com (storage.googleapis.com)... 142.251.163.128, 142.251.167.128, 142.250.188.208, ...\n",
            "Connecting to storage.googleapis.com (storage.googleapis.com)|142.251.163.128|:443... connected.\n",
            "HTTP request sent, awaiting response... 200 OK\n",
            "Length: 168546183 (161M) [application/zip]\n",
            "Saving to: ‘10_food_classes_10_percent.zip.1’\n",
            "\n",
            "10_food_classes_10_ 100%[===================>] 160.74M   284MB/s    in 0.6s    \n",
            "\n",
            "2022-12-25 08:10:43 (284 MB/s) - ‘10_food_classes_10_percent.zip.1’ saved [168546183/168546183]\n",
            "\n"
          ]
        },
        {
          "output_type": "execute_result",
          "data": {
            "text/plain": [
              "<bound method ZipFile.close of <zipfile.ZipFile filename='10_food_classes_10_percent.zip' mode='r'>>"
            ]
          },
          "metadata": {},
          "execution_count": 3
        }
      ]
    },
    {
      "cell_type": "code",
      "source": [
        "# How many images in each folder\n",
        "import os\n",
        "\n",
        "# Walk through 10 percent data directory and list number of file\n",
        "for dirpath, dirnames, filenames in os.walk(\"10_food_classes_10_percent\"):\n",
        "  print(f\"There are {len(dirnames)} directories and {len(filenames)} images in ' {dirpath} '.\")"
      ],
      "metadata": {
        "colab": {
          "base_uri": "https://localhost:8080/"
        },
        "id": "eMTzwq8DVTJN",
        "outputId": "030d649c-edbf-44d6-ec15-4f92d0c02a7c"
      },
      "execution_count": 4,
      "outputs": [
        {
          "output_type": "stream",
          "name": "stdout",
          "text": [
            "There are 2 directories and 0 images in ' 10_food_classes_10_percent '.\n",
            "There are 10 directories and 0 images in ' 10_food_classes_10_percent/test '.\n",
            "There are 0 directories and 250 images in ' 10_food_classes_10_percent/test/steak '.\n",
            "There are 0 directories and 250 images in ' 10_food_classes_10_percent/test/ice_cream '.\n",
            "There are 0 directories and 250 images in ' 10_food_classes_10_percent/test/hamburger '.\n",
            "There are 0 directories and 250 images in ' 10_food_classes_10_percent/test/chicken_wings '.\n",
            "There are 0 directories and 250 images in ' 10_food_classes_10_percent/test/chicken_curry '.\n",
            "There are 0 directories and 250 images in ' 10_food_classes_10_percent/test/pizza '.\n",
            "There are 0 directories and 250 images in ' 10_food_classes_10_percent/test/grilled_salmon '.\n",
            "There are 0 directories and 250 images in ' 10_food_classes_10_percent/test/ramen '.\n",
            "There are 0 directories and 250 images in ' 10_food_classes_10_percent/test/sushi '.\n",
            "There are 0 directories and 250 images in ' 10_food_classes_10_percent/test/fried_rice '.\n",
            "There are 10 directories and 0 images in ' 10_food_classes_10_percent/train '.\n",
            "There are 0 directories and 75 images in ' 10_food_classes_10_percent/train/steak '.\n",
            "There are 0 directories and 75 images in ' 10_food_classes_10_percent/train/ice_cream '.\n",
            "There are 0 directories and 75 images in ' 10_food_classes_10_percent/train/hamburger '.\n",
            "There are 0 directories and 75 images in ' 10_food_classes_10_percent/train/chicken_wings '.\n",
            "There are 0 directories and 75 images in ' 10_food_classes_10_percent/train/chicken_curry '.\n",
            "There are 0 directories and 75 images in ' 10_food_classes_10_percent/train/pizza '.\n",
            "There are 0 directories and 75 images in ' 10_food_classes_10_percent/train/grilled_salmon '.\n",
            "There are 0 directories and 75 images in ' 10_food_classes_10_percent/train/ramen '.\n",
            "There are 0 directories and 75 images in ' 10_food_classes_10_percent/train/sushi '.\n",
            "There are 0 directories and 75 images in ' 10_food_classes_10_percent/train/fried_rice '.\n"
          ]
        }
      ]
    },
    {
      "cell_type": "markdown",
      "source": [
        "## Creating data loaders (preparing the data)\n",
        "we will use the ImageDataGenerator Class to load in our data"
      ],
      "metadata": {
        "id": "Rv1lMb3pWZ0a"
      }
    },
    {
      "cell_type": "code",
      "source": [
        "# Setup data inputs\n",
        "from tensorflow.keras.preprocessing.image import ImageDataGenerator\n",
        "IMAGE_SHAPE =(224,224)\n",
        "BATCH_SIZE = 32\n",
        "train_dir = \"10_food_classes_10_percent/train/\"\n",
        "test_dir = \"10_food_classes_10_percent/test/\"\n",
        "train_datagen = ImageDataGenerator(rescale = 1/255.)\n",
        "test_datagen = ImageDataGenerator(rescale = 1/255.)\n",
        "test_data_10_percent = train_datagen.flow_from_directory(train_dir,\n",
        "                                                         target_size = IMAGE_SHAPE,\n",
        "                                                         batch_size = BATCH_SIZE,\n",
        "                                                         class_mode = \"categorical\")\n",
        "print(\"Testing images:\")\n",
        "test_data = test_datagen.flow_from_directory(test_dir,\n",
        "                                             target_size = IMAGE_SHAPE,\n",
        "                                             batch_size = BATCH_SIZE,\n",
        "                                             class_mode = \"categorical\")\n"
      ],
      "metadata": {
        "colab": {
          "base_uri": "https://localhost:8080/"
        },
        "id": "HS1buvfmW-bM",
        "outputId": "6d2b176d-82ff-4114-ba58-85c9c47b6340"
      },
      "execution_count": 7,
      "outputs": [
        {
          "output_type": "stream",
          "name": "stdout",
          "text": [
            "Found 750 images belonging to 10 classes.\n",
            "Testing images:\n",
            "Found 2500 images belonging to 10 classes.\n"
          ]
        }
      ]
    },
    {
      "cell_type": "markdown",
      "source": [
        "## Setting up call backs (things to run whilst our model trains)\n",
        "callbacks are extra functionality you can add to your mdoels\n",
        "to be performed during or after training Some of the most popular callabacks are:\n",
        "* Tracking experiments with the TensorBoard callback\n",
        "* Model checkpoint with the ModelCheckpoint callback\n",
        "* Stopping a model from training (before it trains too long and overfits) with the EarlyStopping callbacks "
      ],
      "metadata": {
        "id": "vMoDBYxJYpHB"
      }
    },
    {
      "cell_type": "code",
      "source": [
        "#  Create tensorboard call back and functionize it\n",
        "import datetime\n",
        "\n",
        "def create_tensorboard_callback(dir_name,experiment_name):\n",
        "  log_dir = dir_name + \"/\" + experiment_name + \"/\" + datetime.datetime.now().strftime(\"%Y%m%d-%H%M\")\n",
        "  tensorboard_callback = tf.keras.callabacks.TensorBoard(log_dir = logd_dir)\n",
        "  print(f\"Saving TensorBoard log files to: {log_dir}\")\n",
        "  return(tensorboard_callback)"
      ],
      "metadata": {
        "id": "3OoVIyjTZ7I7"
      },
      "execution_count": 8,
      "outputs": []
    },
    {
      "cell_type": "markdown",
      "source": [
        "## Creating model using tensorflow hub\n",
        "In the past we have used tensor flow to write our models line by line.\n",
        "Now we are going to do a similar process except the majority of our model layers are going to come from tensorflow hub.\n",
        "\n",
        "We can access  pretrained models on https://tfhub.dev/"
      ],
      "metadata": {
        "id": "OH43IE8Ccrxf"
      }
    },
    {
      "cell_type": "code",
      "source": [],
      "metadata": {
        "id": "3P16vSK8AXFM"
      },
      "execution_count": null,
      "outputs": []
    }
  ]
}