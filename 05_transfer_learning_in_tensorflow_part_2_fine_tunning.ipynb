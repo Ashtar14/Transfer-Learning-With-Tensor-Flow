{
  "nbformat": 4,
  "nbformat_minor": 0,
  "metadata": {
    "colab": {
      "provenance": []
    },
    "kernelspec": {
      "name": "python3",
      "display_name": "Python 3"
    },
    "language_info": {
      "name": "python"
    },
    "accelerator": "GPU",
    "gpuClass": "standard"
  },
  "cells": [
    {
      "cell_type": "markdown",
      "source": [
        "## Transfer_learning with Tensorflow Part 2 Fine Tunning"
      ],
      "metadata": {
        "id": "9jGgnENIwerk"
      }
    },
    {
      "cell_type": "code",
      "source": [
        "# Check if we are using GPU\n",
        "!nvidia-smi"
      ],
      "metadata": {
        "colab": {
          "base_uri": "https://localhost:8080/"
        },
        "id": "jVRaXjvFyU1N",
        "outputId": "74a9fde2-3f46-401f-c4c3-9e7ff707e327"
      },
      "execution_count": null,
      "outputs": [
        {
          "output_type": "stream",
          "name": "stdout",
          "text": [
            "Mon Jan  2 14:02:28 2023       \n",
            "+-----------------------------------------------------------------------------+\n",
            "| NVIDIA-SMI 460.32.03    Driver Version: 460.32.03    CUDA Version: 11.2     |\n",
            "|-------------------------------+----------------------+----------------------+\n",
            "| GPU  Name        Persistence-M| Bus-Id        Disp.A | Volatile Uncorr. ECC |\n",
            "| Fan  Temp  Perf  Pwr:Usage/Cap|         Memory-Usage | GPU-Util  Compute M. |\n",
            "|                               |                      |               MIG M. |\n",
            "|===============================+======================+======================|\n",
            "|   0  Tesla T4            Off  | 00000000:00:04.0 Off |                    0 |\n",
            "| N/A   67C    P0    29W /  70W |      0MiB / 15109MiB |      0%      Default |\n",
            "|                               |                      |                  N/A |\n",
            "+-------------------------------+----------------------+----------------------+\n",
            "                                                                               \n",
            "+-----------------------------------------------------------------------------+\n",
            "| Processes:                                                                  |\n",
            "|  GPU   GI   CI        PID   Type   Process name                  GPU Memory |\n",
            "|        ID   ID                                                   Usage      |\n",
            "|=============================================================================|\n",
            "|  No running processes found                                                 |\n",
            "+-----------------------------------------------------------------------------+\n"
          ]
        }
      ]
    },
    {
      "cell_type": "markdown",
      "source": [
        "## Creating helper functions\n",
        "In previous notebooks we have created a bunch of helper functions in previous notebooks"
      ],
      "metadata": {
        "id": "u8ThONAPydZl"
      }
    },
    {
      "cell_type": "code",
      "source": [
        "!wget https://raw.githubusercontent.com/mrdbourke/tensorflow-deep-learning/main/extras/helper_functions.py"
      ],
      "metadata": {
        "colab": {
          "base_uri": "https://localhost:8080/"
        },
        "id": "yNSIaDE0y69U",
        "outputId": "bfde23c6-b918-4135-d6d6-605c7dcf532d"
      },
      "execution_count": null,
      "outputs": [
        {
          "output_type": "stream",
          "name": "stdout",
          "text": [
            "--2023-01-02 14:06:45--  https://raw.githubusercontent.com/mrdbourke/tensorflow-deep-learning/main/extras/helper_functions.py\n",
            "Resolving raw.githubusercontent.com (raw.githubusercontent.com)... 185.199.108.133, 185.199.109.133, 185.199.110.133, ...\n",
            "Connecting to raw.githubusercontent.com (raw.githubusercontent.com)|185.199.108.133|:443... connected.\n",
            "HTTP request sent, awaiting response... 200 OK\n",
            "Length: 10246 (10K) [text/plain]\n",
            "Saving to: ‘helper_functions.py’\n",
            "\n",
            "\rhelper_functions.py   0%[                    ]       0  --.-KB/s               \rhelper_functions.py 100%[===================>]  10.01K  --.-KB/s    in 0s      \n",
            "\n",
            "2023-01-02 14:06:45 (114 MB/s) - ‘helper_functions.py’ saved [10246/10246]\n",
            "\n"
          ]
        }
      ]
    },
    {
      "cell_type": "code",
      "source": [
        "# Import helper functions we are oin to use in this notebook\n",
        "from helper_functions import create_tensorboard_callback, plot_loss_curves,unzip_data, walk_through_dir"
      ],
      "metadata": {
        "id": "WQOe5UutznCU"
      },
      "execution_count": null,
      "outputs": []
    },
    {
      "cell_type": "markdown",
      "source": [
        "We have imported these helper functions from mrdbourke github"
      ],
      "metadata": {
        "id": "hwZ48Zqpz9Zs"
      }
    },
    {
      "cell_type": "markdown",
      "source": [
        "## Lets get data ready \n",
        "\n",
        "We will import the models using tf.keras.applications and apply them to our own problem recognizing images of food "
      ],
      "metadata": {
        "id": "Cue1EDFW0fSg"
      }
    },
    {
      "cell_type": "code",
      "source": [
        "# Get 10% of training data of 10 classes of Food101\n",
        "!wget https://storage.googleapis.com/ztm_tf_course/food_vision/10_food_classes_10_percent.zip\n",
        "\n",
        "unzip_data(\"10_food_classes_10_percent.zip\")"
      ],
      "metadata": {
        "colab": {
          "base_uri": "https://localhost:8080/"
        },
        "id": "J5l2YEWA08M0",
        "outputId": "b0c1f79e-829e-45fc-f698-9a15c95dad43"
      },
      "execution_count": null,
      "outputs": [
        {
          "output_type": "stream",
          "name": "stdout",
          "text": [
            "--2023-01-02 14:15:14--  https://storage.googleapis.com/ztm_tf_course/food_vision/10_food_classes_10_percent.zip\n",
            "Resolving storage.googleapis.com (storage.googleapis.com)... 172.217.12.240, 172.217.164.144, 172.253.62.128, ...\n",
            "Connecting to storage.googleapis.com (storage.googleapis.com)|172.217.12.240|:443... connected.\n",
            "HTTP request sent, awaiting response... 200 OK\n",
            "Length: 168546183 (161M) [application/zip]\n",
            "Saving to: ‘10_food_classes_10_percent.zip’\n",
            "\n",
            "10_food_classes_10_ 100%[===================>] 160.74M   199MB/s    in 0.8s    \n",
            "\n",
            "2023-01-02 14:15:14 (199 MB/s) - ‘10_food_classes_10_percent.zip’ saved [168546183/168546183]\n",
            "\n"
          ]
        }
      ]
    },
    {
      "cell_type": "code",
      "source": [
        "# Check out how many images and subdirectories are there \n",
        "walk_through_dir(\"10_food_classes_10_percent\")"
      ],
      "metadata": {
        "colab": {
          "base_uri": "https://localhost:8080/"
        },
        "id": "trUE2dLJ1jNN",
        "outputId": "738b9902-abcd-463a-882e-33001b923beb"
      },
      "execution_count": null,
      "outputs": [
        {
          "output_type": "stream",
          "name": "stdout",
          "text": [
            "There are 2 directories and 0 images in '10_food_classes_10_percent'.\n",
            "There are 10 directories and 0 images in '10_food_classes_10_percent/test'.\n",
            "There are 0 directories and 250 images in '10_food_classes_10_percent/test/steak'.\n",
            "There are 0 directories and 250 images in '10_food_classes_10_percent/test/ice_cream'.\n",
            "There are 0 directories and 250 images in '10_food_classes_10_percent/test/hamburger'.\n",
            "There are 0 directories and 250 images in '10_food_classes_10_percent/test/chicken_wings'.\n",
            "There are 0 directories and 250 images in '10_food_classes_10_percent/test/chicken_curry'.\n",
            "There are 0 directories and 250 images in '10_food_classes_10_percent/test/pizza'.\n",
            "There are 0 directories and 250 images in '10_food_classes_10_percent/test/grilled_salmon'.\n",
            "There are 0 directories and 250 images in '10_food_classes_10_percent/test/ramen'.\n",
            "There are 0 directories and 250 images in '10_food_classes_10_percent/test/sushi'.\n",
            "There are 0 directories and 250 images in '10_food_classes_10_percent/test/fried_rice'.\n",
            "There are 10 directories and 0 images in '10_food_classes_10_percent/train'.\n",
            "There are 0 directories and 75 images in '10_food_classes_10_percent/train/steak'.\n",
            "There are 0 directories and 75 images in '10_food_classes_10_percent/train/ice_cream'.\n",
            "There are 0 directories and 75 images in '10_food_classes_10_percent/train/hamburger'.\n",
            "There are 0 directories and 75 images in '10_food_classes_10_percent/train/chicken_wings'.\n",
            "There are 0 directories and 75 images in '10_food_classes_10_percent/train/chicken_curry'.\n",
            "There are 0 directories and 75 images in '10_food_classes_10_percent/train/pizza'.\n",
            "There are 0 directories and 75 images in '10_food_classes_10_percent/train/grilled_salmon'.\n",
            "There are 0 directories and 75 images in '10_food_classes_10_percent/train/ramen'.\n",
            "There are 0 directories and 75 images in '10_food_classes_10_percent/train/sushi'.\n",
            "There are 0 directories and 75 images in '10_food_classes_10_percent/train/fried_rice'.\n"
          ]
        }
      ]
    },
    {
      "cell_type": "code",
      "source": [
        "# Create training and test directories path\n",
        "train_dir = \"10_food_classes_10_percent/train\"\n",
        "test_dir = \"10_food_classes_10_percent/test\""
      ],
      "metadata": {
        "id": "0h73wHqo1t60"
      },
      "execution_count": null,
      "outputs": []
    },
    {
      "cell_type": "code",
      "source": [
        "import tensorflow as tf\n",
        "IMG_SIZE =(224,224)\n",
        "BATCH_SIZE = 32\n",
        "train_data_10_percent = tf.keras.preprocessing.image_dataset_from_directory(directory = train_dir,\n",
        "                                                                            image_size = IMG_SIZE,\n",
        "                                                                            label_mode = \"categorical\",\n",
        "                                                                            batch_size=BATCH_SIZE)\n",
        "test_data = tf.keras.preprocessing.image_dataset_from_directory(directory = test_dir,\n",
        "                                                                image_size = IMG_SIZE,\n",
        "                                                                label_mode = \"categorical\",\n",
        "                                                                batch_size = BATCH_SIZE)\n"
      ],
      "metadata": {
        "colab": {
          "base_uri": "https://localhost:8080/"
        },
        "id": "7dspHrHX2Dl0",
        "outputId": "08270883-770a-4440-868e-df1cc3bfe8e2"
      },
      "execution_count": null,
      "outputs": [
        {
          "output_type": "stream",
          "name": "stdout",
          "text": [
            "Found 750 files belonging to 10 classes.\n",
            "Found 2500 files belonging to 10 classes.\n"
          ]
        }
      ]
    },
    {
      "cell_type": "code",
      "source": [
        "train_data_10_percent"
      ],
      "metadata": {
        "colab": {
          "base_uri": "https://localhost:8080/"
        },
        "id": "H7SP_Q3J32Dp",
        "outputId": "b8a7c6a8-7b75-4873-d11a-e9019738a194"
      },
      "execution_count": null,
      "outputs": [
        {
          "output_type": "execute_result",
          "data": {
            "text/plain": [
              "<BatchDataset element_spec=(TensorSpec(shape=(None, 224, 224, 3), dtype=tf.float32, name=None), TensorSpec(shape=(None, 10), dtype=tf.float32, name=None))>"
            ]
          },
          "metadata": {},
          "execution_count": 12
        }
      ]
    },
    {
      "cell_type": "code",
      "source": [
        "# Check out class names of our dataset\n",
        "train_data_10_percent.class_names"
      ],
      "metadata": {
        "colab": {
          "base_uri": "https://localhost:8080/"
        },
        "id": "TpomNjVQ4CXE",
        "outputId": "ec4a4cde-3c78-4430-f1e7-bca3f7e92e6b"
      },
      "execution_count": null,
      "outputs": [
        {
          "output_type": "execute_result",
          "data": {
            "text/plain": [
              "['chicken_curry',\n",
              " 'chicken_wings',\n",
              " 'fried_rice',\n",
              " 'grilled_salmon',\n",
              " 'hamburger',\n",
              " 'ice_cream',\n",
              " 'pizza',\n",
              " 'ramen',\n",
              " 'steak',\n",
              " 'sushi']"
            ]
          },
          "metadata": {},
          "execution_count": 13
        }
      ]
    },
    {
      "cell_type": "code",
      "source": [
        "# See example of batch data\n",
        "for images,labels in train_data_10_percent.take(1):\n",
        "  print(images,labels)"
      ],
      "metadata": {
        "colab": {
          "base_uri": "https://localhost:8080/"
        },
        "id": "lHO-LZkc4qI1",
        "outputId": "59314e65-9f23-40f0-9255-3cbd10e9f14b"
      },
      "execution_count": null,
      "outputs": [
        {
          "output_type": "stream",
          "name": "stdout",
          "text": [
            "tf.Tensor(\n",
            "[[[[4.83571434e+01 5.23571434e+01 5.33571434e+01]\n",
            "   [4.83571434e+01 5.23571434e+01 5.33571434e+01]\n",
            "   [4.77142868e+01 5.12857132e+01 5.02857132e+01]\n",
            "   ...\n",
            "   [7.19234314e+01 6.99234314e+01 7.09234314e+01]\n",
            "   [6.41529312e+01 6.21529312e+01 6.31529312e+01]\n",
            "   [3.02340965e+01 2.82340965e+01 2.92340965e+01]]\n",
            "\n",
            "  [[5.00714302e+01 5.40714302e+01 5.50714302e+01]\n",
            "   [5.21377563e+01 5.61377563e+01 5.71377563e+01]\n",
            "   [5.20153046e+01 5.55867348e+01 5.61581612e+01]\n",
            "   ...\n",
            "   [6.67448959e+01 6.47448959e+01 6.57448959e+01]\n",
            "   [5.05915680e+01 4.85915680e+01 4.95915680e+01]\n",
            "   [1.71938133e+01 1.51938124e+01 1.61938133e+01]]\n",
            "\n",
            "  [[5.22908173e+01 5.62908173e+01 5.72908173e+01]\n",
            "   [5.56428566e+01 5.96428566e+01 6.06428566e+01]\n",
            "   [5.73571434e+01 6.09285698e+01 6.15000000e+01]\n",
            "   ...\n",
            "   [5.89386292e+01 5.69386292e+01 5.79386292e+01]\n",
            "   [2.59896774e+01 2.39896774e+01 2.49896774e+01]\n",
            "   [1.38672924e+01 1.18672924e+01 1.28672924e+01]]\n",
            "\n",
            "  ...\n",
            "\n",
            "  [[1.58081650e+02 1.64867355e+02 1.57071396e+02]\n",
            "   [1.58872452e+02 1.65056137e+02 1.60413254e+02]\n",
            "   [1.40219406e+02 1.45882675e+02 1.46051041e+02]\n",
            "   ...\n",
            "   [1.20260239e+02 1.04260239e+02 8.92602386e+01]\n",
            "   [1.19357147e+02 1.03357147e+02 8.83571472e+01]\n",
            "   [1.18785767e+02 1.02785767e+02 8.77857666e+01]]\n",
            "\n",
            "  [[1.61285751e+02 1.65428574e+02 1.51331573e+02]\n",
            "   [1.58132629e+02 1.63132599e+02 1.55867294e+02]\n",
            "   [1.46714371e+02 1.52714371e+02 1.51255157e+02]\n",
            "   ...\n",
            "   [1.21801041e+02 1.05801041e+02 9.08010406e+01]\n",
            "   [1.19137718e+02 1.03137718e+02 8.81377182e+01]\n",
            "   [1.19428589e+02 1.03428589e+02 8.84285889e+01]]\n",
            "\n",
            "  [[1.62025513e+02 1.65255096e+02 1.47795929e+02]\n",
            "   [1.55020416e+02 1.60877548e+02 1.49352066e+02]\n",
            "   [1.55704056e+02 1.62346924e+02 1.60561203e+02]\n",
            "   ...\n",
            "   [1.21285706e+02 1.05285706e+02 9.02857056e+01]\n",
            "   [1.18617340e+02 1.02617340e+02 8.76173401e+01]\n",
            "   [1.18642883e+02 1.02642883e+02 8.76428833e+01]]]\n",
            "\n",
            "\n",
            " [[[0.00000000e+00 2.09183669e+00 1.38163261e+01]\n",
            "   [4.28571463e-01 3.22448993e+00 1.28367348e+01]\n",
            "   [2.85714388e-01 3.28571439e+00 1.13673468e+01]\n",
            "   ...\n",
            "   [2.36163284e+02 2.05591812e+02 1.09693832e+02]\n",
            "   [2.34122482e+02 2.07714279e+02 1.15948898e+02]\n",
            "   [2.31520401e+02 2.07806122e+02 1.19040825e+02]]\n",
            "\n",
            "  [[1.42857134e-01 3.14285707e+00 9.99999905e+00]\n",
            "   [1.00000000e+00 4.00000000e+00 9.93877602e+00]\n",
            "   [1.00000000e+00 4.00000000e+00 9.67346859e+00]\n",
            "   ...\n",
            "   [2.53285706e+02 2.32795837e+02 1.65989655e+02]\n",
            "   [2.53061249e+02 2.42826462e+02 1.84969208e+02]\n",
            "   [2.49173462e+02 2.44816330e+02 1.92408188e+02]]\n",
            "\n",
            "  [[1.42857134e-01 4.14285707e+00 6.71428537e+00]\n",
            "   [1.42857146e+00 5.42857170e+00 8.00000000e+00]\n",
            "   [2.00000000e+00 6.00000000e+00 8.57142830e+00]\n",
            "   ...\n",
            "   [2.48489761e+02 2.41632553e+02 1.83203888e+02]\n",
            "   [2.48408249e+02 2.52040756e+02 2.06734467e+02]\n",
            "   [2.42071411e+02 2.52040802e+02 2.14602051e+02]]\n",
            "\n",
            "  ...\n",
            "\n",
            "  [[2.01071411e+02 1.47071411e+02 4.84183846e+01]\n",
            "   [1.94122437e+02 1.40122437e+02 4.01224365e+01]\n",
            "   [1.96398010e+02 1.42398010e+02 4.23980064e+01]\n",
            "   ...\n",
            "   [1.49265320e+02 1.01204102e+02 1.82652550e+01]\n",
            "   [1.46163269e+02 9.75000305e+01 1.77346230e+01]\n",
            "   [1.43989807e+02 9.49898071e+01 1.64183331e+01]]\n",
            "\n",
            "  [[1.90928696e+02 1.37928696e+02 4.19286880e+01]\n",
            "   [1.95887772e+02 1.42887772e+02 4.68877602e+01]\n",
            "   [2.02316315e+02 1.49979553e+02 5.19897957e+01]\n",
            "   ...\n",
            "   [1.46949036e+02 9.89286194e+01 1.56633253e+01]\n",
            "   [1.46285767e+02 9.76837387e+01 1.74898262e+01]\n",
            "   [1.46224533e+02 9.72245331e+01 1.82245312e+01]]\n",
            "\n",
            "  [[2.03724289e+02 1.50724289e+02 5.67242966e+01]\n",
            "   [1.97540771e+02 1.44540771e+02 5.05407715e+01]\n",
            "   [2.02387772e+02 1.49387772e+02 5.44694481e+01]\n",
            "   ...\n",
            "   [1.49214172e+02 1.00214172e+02 2.22958431e+01]\n",
            "   [1.48785645e+02 9.97856445e+01 2.29897404e+01]\n",
            "   [1.46765167e+02 9.77651672e+01 2.11223431e+01]]]\n",
            "\n",
            "\n",
            " [[[4.20867348e+01 4.60867348e+01 5.50867348e+01]\n",
            "   [4.39999962e+01 4.79999962e+01 5.69999962e+01]\n",
            "   [3.80000000e+01 4.17857132e+01 5.03571434e+01]\n",
            "   ...\n",
            "   [6.59286118e+01 1.35714064e+01 5.35714293e+00]\n",
            "   [6.83826599e+01 1.63826580e+01 5.38265753e+00]\n",
            "   [6.94847031e+01 1.74847069e+01 6.48470640e+00]]\n",
            "\n",
            "  [[4.50459175e+01 4.90459175e+01 5.80459175e+01]\n",
            "   [4.50765305e+01 4.90765305e+01 5.80765305e+01]\n",
            "   [4.61275520e+01 4.91275520e+01 5.61275520e+01]\n",
            "   ...\n",
            "   [6.98418427e+01 1.48724480e+01 7.85714340e+00]\n",
            "   [7.18571548e+01 1.68571568e+01 9.85715675e+00]\n",
            "   [7.37142868e+01 1.97142868e+01 9.71428680e+00]]\n",
            "\n",
            "  [[4.31428566e+01 4.61428566e+01 5.47142868e+01]\n",
            "   [4.41275520e+01 4.71275520e+01 5.41275520e+01]\n",
            "   [4.88112259e+01 5.11683693e+01 5.83826523e+01]\n",
            "   ...\n",
            "   [7.10000229e+01 1.34031000e+01 7.21426392e+00]\n",
            "   [7.38571548e+01 1.64285851e+01 9.64286995e+00]\n",
            "   [7.59286041e+01 1.85000343e+01 1.17143202e+01]]\n",
            "\n",
            "  ...\n",
            "\n",
            "  [[5.53622360e+01 1.15713634e+01 7.92857170e+00]\n",
            "   [5.52551041e+01 1.40867329e+01 1.01428566e+01]\n",
            "   [5.45714493e+01 1.48316278e+01 1.22806635e+01]\n",
            "   ...\n",
            "   [1.02709808e+02 3.29953918e+01 2.89953918e+01]\n",
            "   [1.03944290e+02 3.57604599e+01 2.47604599e+01]\n",
            "   [1.03061569e+02 3.69185638e+01 2.05614166e+01]]\n",
            "\n",
            "  [[5.36173401e+01 1.17143116e+01 8.00001335e+00]\n",
            "   [5.40765190e+01 1.32091951e+01 9.14285660e+00]\n",
            "   [5.06428299e+01 1.07857141e+01 8.71427250e+00]\n",
            "   ...\n",
            "   [8.40457993e+01 1.33315668e+01 7.58659649e+00]\n",
            "   [8.55764542e+01 1.28622208e+01 5.72954512e+00]\n",
            "   [9.06428833e+01 1.79286499e+01 9.07153320e+00]]\n",
            "\n",
            "  [[5.25153275e+01 1.50561695e+01 9.28574944e+00]\n",
            "   [5.15459518e+01 1.44541187e+01 8.50003433e+00]\n",
            "   [4.77143555e+01 1.27908936e+01 9.21946526e+00]\n",
            "   ...\n",
            "   [8.15562363e+01 2.45564194e+01 1.32604456e+01]\n",
            "   [7.86635056e+01 2.10922146e+01 1.34493923e+01]\n",
            "   [7.78574219e+01 2.02861328e+01 1.46433105e+01]]]\n",
            "\n",
            "\n",
            " ...\n",
            "\n",
            "\n",
            " [[[1.40000000e+01 1.00000000e+01 7.00000000e+00]\n",
            "   [1.40000000e+01 1.00000000e+01 7.00000000e+00]\n",
            "   [1.40000000e+01 1.00000000e+01 7.00000000e+00]\n",
            "   ...\n",
            "   [4.59387817e+01 2.29387817e+01 1.69387817e+01]\n",
            "   [4.59540749e+01 2.29540730e+01 1.69540730e+01]\n",
            "   [4.47142868e+01 2.17142849e+01 1.57142859e+01]]\n",
            "\n",
            "  [[1.40000000e+01 1.00000000e+01 7.00000000e+00]\n",
            "   [1.40000000e+01 1.00000000e+01 7.00000000e+00]\n",
            "   [1.40000000e+01 1.00000000e+01 7.00000000e+00]\n",
            "   ...\n",
            "   [4.61428337e+01 2.31428356e+01 1.71428356e+01]\n",
            "   [4.48622475e+01 2.18622456e+01 1.58622456e+01]\n",
            "   [4.59540825e+01 2.29540844e+01 1.69540844e+01]]\n",
            "\n",
            "  [[1.47857141e+01 1.00000000e+01 7.00000000e+00]\n",
            "   [1.47857141e+01 1.00000000e+01 7.00000000e+00]\n",
            "   [1.47857141e+01 1.00000000e+01 7.00000000e+00]\n",
            "   ...\n",
            "   [4.52142639e+01 2.22142639e+01 1.62142639e+01]\n",
            "   [4.38010216e+01 2.08010235e+01 1.48010235e+01]\n",
            "   [4.58622513e+01 2.28622532e+01 1.68622532e+01]]\n",
            "\n",
            "  ...\n",
            "\n",
            "  [[2.48505096e+02 2.52505096e+02 2.53505096e+02]\n",
            "   [2.49984695e+02 2.53984695e+02 2.54984695e+02]\n",
            "   [2.51045914e+02 2.55000000e+02 2.54831635e+02]\n",
            "   ...\n",
            "   [2.40040955e+02 2.42331833e+02 2.37331863e+02]\n",
            "   [2.45199020e+02 2.47056137e+02 2.46127579e+02]\n",
            "   [2.49433716e+02 2.48709167e+02 2.46785706e+02]]\n",
            "\n",
            "  [[2.47668350e+02 2.51668350e+02 2.52668350e+02]\n",
            "   [2.49928574e+02 2.53928574e+02 2.54928574e+02]\n",
            "   [2.51015305e+02 2.55000000e+02 2.54801025e+02]\n",
            "   ...\n",
            "   [2.37683685e+02 2.42755219e+02 2.38540955e+02]\n",
            "   [2.42489792e+02 2.46071411e+02 2.45142853e+02]\n",
            "   [2.49117432e+02 2.47045898e+02 2.43545898e+02]]\n",
            "\n",
            "  [[2.46229599e+02 2.50229599e+02 2.51229599e+02]\n",
            "   [2.48928574e+02 2.52928574e+02 2.53928574e+02]\n",
            "   [2.51000000e+02 2.55000000e+02 2.54785721e+02]\n",
            "   ...\n",
            "   [2.37280685e+02 2.43066422e+02 2.38913376e+02]\n",
            "   [2.43214325e+02 2.46928558e+02 2.46000000e+02]\n",
            "   [2.49658325e+02 2.47586792e+02 2.43943970e+02]]]\n",
            "\n",
            "\n",
            " [[[1.61000000e+02 1.39000000e+02 1.25000000e+02]\n",
            "   [1.61206146e+02 1.40206146e+02 1.23206154e+02]\n",
            "   [1.62573669e+02 1.41573669e+02 1.22145088e+02]\n",
            "   ...\n",
            "   [1.79091110e+02 1.63091110e+02 1.39448318e+02]\n",
            "   [1.76002213e+02 1.59002213e+02 1.39002213e+02]\n",
            "   [1.76268707e+02 1.59268707e+02 1.41268707e+02]]\n",
            "\n",
            "  [[1.61124359e+02 1.39124359e+02 1.25124359e+02]\n",
            "   [1.63274719e+02 1.42274719e+02 1.25274712e+02]\n",
            "   [1.64299103e+02 1.43299103e+02 1.23870537e+02]\n",
            "   ...\n",
            "   [1.78101730e+02 1.62101730e+02 1.38458939e+02]\n",
            "   [1.76888214e+02 1.59888214e+02 1.39888214e+02]\n",
            "   [1.73331894e+02 1.56331894e+02 1.38331894e+02]]\n",
            "\n",
            "  [[1.61752075e+02 1.39752075e+02 1.25752075e+02]\n",
            "   [1.66379471e+02 1.45379471e+02 1.28379471e+02]\n",
            "   [1.67294006e+02 1.46294006e+02 1.26865433e+02]\n",
            "   ...\n",
            "   [1.76333374e+02 1.60333374e+02 1.36690582e+02]\n",
            "   [1.76980392e+02 1.59980392e+02 1.39980392e+02]\n",
            "   [1.74897583e+02 1.57897583e+02 1.39897583e+02]]\n",
            "\n",
            "  ...\n",
            "\n",
            "  [[1.02560997e+02 8.31100693e+01 7.38355331e+01]\n",
            "   [9.63946533e+01 7.69437256e+01 6.56691895e+01]\n",
            "   [8.35521088e+01 6.48854675e+01 5.06123581e+01]\n",
            "   ...\n",
            "   [1.57155441e+02 1.38369705e+02 1.20726913e+02]\n",
            "   [1.58000000e+02 1.39000000e+02 1.24000000e+02]\n",
            "   [1.56368286e+02 1.37368286e+02 1.23368286e+02]]\n",
            "\n",
            "  [[8.25335007e+01 6.45335007e+01 5.45335045e+01]\n",
            "   [8.57410889e+01 6.77410889e+01 5.58217621e+01]\n",
            "   [9.02991180e+01 7.25134048e+01 5.80848312e+01]\n",
            "   ...\n",
            "   [1.57121002e+02 1.38335266e+02 1.20692474e+02]\n",
            "   [1.58524384e+02 1.39524384e+02 1.24524384e+02]\n",
            "   [1.55642822e+02 1.36642822e+02 1.22642822e+02]]\n",
            "\n",
            "  [[8.32271271e+01 6.49218063e+01 5.58377609e+01]\n",
            "   [8.55876541e+01 6.75876541e+01 5.57305069e+01]\n",
            "   [8.21009521e+01 6.43152390e+01 4.98866653e+01]\n",
            "   ...\n",
            "   [1.58740875e+02 1.39955139e+02 1.22312340e+02]\n",
            "   [1.54837341e+02 1.35837341e+02 1.20898415e+02]\n",
            "   [1.57352600e+02 1.37497711e+02 1.26062378e+02]]]\n",
            "\n",
            "\n",
            " [[[2.57040825e+01 1.65306151e+00 5.83163261e+00]\n",
            "   [5.64540901e+01 2.32806206e+01 1.01479626e+01]\n",
            "   [1.18698982e+02 7.60714264e+01 2.13571415e+01]\n",
            "   ...\n",
            "   [7.92551270e+01 1.08265991e+01 8.04086304e+00]\n",
            "   [8.74133759e+01 2.24133778e+01 1.84133778e+01]\n",
            "   [1.08219635e+02 4.32196350e+01 3.92196350e+01]]\n",
            "\n",
            "  [[4.35663300e+01 1.24030657e+01 0.00000000e+00]\n",
            "   [1.42280624e+02 1.04709190e+02 5.93673515e+01]\n",
            "   [1.49561218e+02 1.03775513e+02 3.43163261e+01]\n",
            "   ...\n",
            "   [7.32550812e+01 4.82655525e+00 2.04081917e+00]\n",
            "   [7.41275711e+01 6.12757444e+00 3.12757444e+00]\n",
            "   [7.74031296e+01 9.40312958e+00 6.40312958e+00]]\n",
            "\n",
            "  [[1.13938782e+02 7.62091827e+01 1.72653065e+01]\n",
            "   [1.38591843e+02 9.61785736e+01 2.06887741e+01]\n",
            "   [1.45826523e+02 9.43265305e+01 7.75000048e+00]\n",
            "   ...\n",
            "   [7.10459137e+01 1.04591370e+00 0.00000000e+00]\n",
            "   [7.41989899e+01 4.19898939e+00 2.41327524e+00]\n",
            "   [7.46377487e+01 4.71428490e+00 3.14285660e+00]]\n",
            "\n",
            "  ...\n",
            "\n",
            "  [[1.87994843e+02 1.88209106e+02 1.59566315e+02]\n",
            "   [1.96499893e+02 1.97499893e+02 1.66499893e+02]\n",
            "   [1.95688690e+02 1.95923416e+02 1.65137680e+02]\n",
            "   ...\n",
            "   [3.30459099e+01 0.00000000e+00 0.00000000e+00]\n",
            "   [3.60714417e+01 1.64291382e+00 8.57177734e-01]\n",
            "   [3.59234695e+01 1.57147217e+00 7.85736084e-01]]\n",
            "\n",
            "  [[1.83249832e+02 1.86249832e+02 1.57249832e+02]\n",
            "   [1.72428604e+02 1.73428604e+02 1.42428604e+02]\n",
            "   [2.00484634e+02 2.01056061e+02 1.70056061e+02]\n",
            "   ...\n",
            "   [3.25714722e+01 0.00000000e+00 0.00000000e+00]\n",
            "   [3.60714417e+01 2.07144165e+00 1.07144165e+00]\n",
            "   [3.69285583e+01 2.92855835e+00 1.92855835e+00]]\n",
            "\n",
            "  [[1.84898224e+02 1.87898224e+02 1.58898224e+02]\n",
            "   [1.91025482e+02 1.91954056e+02 1.61168335e+02]\n",
            "   [1.96142578e+02 1.96714005e+02 1.64928299e+02]\n",
            "   ...\n",
            "   [3.27857361e+01 2.14263916e-01 0.00000000e+00]\n",
            "   [3.50459251e+01 1.04592431e+00 4.59242836e-02]\n",
            "   [3.42856445e+01 4.13220465e-01 0.00000000e+00]]]], shape=(32, 224, 224, 3), dtype=float32) tf.Tensor(\n",
            "[[0. 0. 0. 0. 0. 0. 0. 0. 1. 0.]\n",
            " [0. 0. 0. 0. 0. 1. 0. 0. 0. 0.]\n",
            " [0. 0. 0. 0. 0. 0. 0. 1. 0. 0.]\n",
            " [0. 0. 0. 0. 0. 0. 0. 1. 0. 0.]\n",
            " [0. 0. 0. 0. 0. 1. 0. 0. 0. 0.]\n",
            " [0. 1. 0. 0. 0. 0. 0. 0. 0. 0.]\n",
            " [0. 0. 0. 0. 1. 0. 0. 0. 0. 0.]\n",
            " [0. 0. 0. 0. 0. 0. 0. 1. 0. 0.]\n",
            " [0. 0. 1. 0. 0. 0. 0. 0. 0. 0.]\n",
            " [0. 0. 1. 0. 0. 0. 0. 0. 0. 0.]\n",
            " [1. 0. 0. 0. 0. 0. 0. 0. 0. 0.]\n",
            " [0. 0. 1. 0. 0. 0. 0. 0. 0. 0.]\n",
            " [0. 0. 0. 0. 0. 0. 1. 0. 0. 0.]\n",
            " [0. 0. 0. 0. 0. 0. 0. 0. 1. 0.]\n",
            " [0. 0. 1. 0. 0. 0. 0. 0. 0. 0.]\n",
            " [0. 0. 0. 1. 0. 0. 0. 0. 0. 0.]\n",
            " [0. 0. 0. 0. 0. 1. 0. 0. 0. 0.]\n",
            " [0. 0. 0. 1. 0. 0. 0. 0. 0. 0.]\n",
            " [0. 0. 0. 0. 0. 0. 0. 0. 1. 0.]\n",
            " [0. 0. 1. 0. 0. 0. 0. 0. 0. 0.]\n",
            " [0. 0. 0. 0. 0. 0. 1. 0. 0. 0.]\n",
            " [0. 0. 0. 1. 0. 0. 0. 0. 0. 0.]\n",
            " [0. 0. 0. 0. 0. 0. 0. 0. 1. 0.]\n",
            " [0. 0. 0. 1. 0. 0. 0. 0. 0. 0.]\n",
            " [0. 0. 0. 0. 1. 0. 0. 0. 0. 0.]\n",
            " [0. 1. 0. 0. 0. 0. 0. 0. 0. 0.]\n",
            " [0. 1. 0. 0. 0. 0. 0. 0. 0. 0.]\n",
            " [0. 0. 0. 0. 1. 0. 0. 0. 0. 0.]\n",
            " [0. 0. 0. 1. 0. 0. 0. 0. 0. 0.]\n",
            " [1. 0. 0. 0. 0. 0. 0. 0. 0. 0.]\n",
            " [0. 0. 0. 0. 0. 1. 0. 0. 0. 0.]\n",
            " [0. 0. 0. 0. 0. 0. 0. 1. 0. 0.]], shape=(32, 10), dtype=float32)\n"
          ]
        }
      ]
    },
    {
      "cell_type": "markdown",
      "source": [
        "## Model 0 : Building a transfer learning model using the keras functional api\n",
        "\n",
        "The functional api gives us more flexibility with oour models"
      ],
      "metadata": {
        "id": "X2QRFRep5Cyl"
      }
    },
    {
      "cell_type": "code",
      "source": [
        "#  1. Creating base model with tf.keras.applications\n",
        "base_model = tf.keras.applications.EfficientNetB0(include_top=False)\n",
        "\n",
        "# 2. Freeze the base model\n",
        "base_model.trainable = False\n",
        "\n",
        "# 3 Create inputs into our model\n",
        "inputs = tf.keras.layers.Input(shape=(224,224,3),name = \"input_layer\")\n",
        "\n",
        "# 4. If using ResNet50V2 you will need to normalize inputs\n",
        "#x = tf.keras.layers.experimental.preprocessing.Rescaling(1./255)(inputs)\n",
        "\n",
        "# 5.  Pass the inputs to the base models\n",
        "x = base_model(inputs)\n",
        "print(f\"Shape after passing inputs through base model: {x.shape}\")\n",
        "\n",
        "# 6. Average pool the outputs of the base model (aggregate all the most important information,reduse number of computations)\n",
        "x = tf.keras.layers.GlobalAveragePooling2D(name = \"global_average_pooling_layer\")(x)\n",
        "print(f\"Shape after GlobalAveragePooling2D: {x.shape}\")\n",
        "\n",
        "# Create output activation layer\n",
        "outputs = tf.keras.layers.Dense(10,activation=\"softmax\",name=\"output_layers\")(x)\n",
        "\n",
        "# 8 combine the inputs with outputs into the model\n",
        "model_0 = tf.keras.Model(inputs,outputs)\n",
        "\n",
        "# 9. Compile the model\n",
        "model_0.compile(loss='categorical_crossentropy',\n",
        "              optimizer=tf.keras.optimizers.Adam(),\n",
        "              metrics=[\"accuracy\"])\n",
        "\n",
        "# 10. Fit the model (we use less steps for validation so it's faster)\n",
        "history_10_percent = model_0.fit(train_data_10_percent,\n",
        "                                 epochs=5,\n",
        "                                 steps_per_epoch=len(train_data_10_percent),\n",
        "                                 validation_data=test_data,\n",
        "                                 # Go through less of the validation data so epochs are faster (we want faster experiments!)\n",
        "                                 validation_steps=int(0.25 * len(test_data)), \n",
        "                                 # Track our model's training logs for visualization later\n",
        "                                 callbacks=[create_tensorboard_callback(dir_name=\"transfer_learning\",experiment_name= \"10_percent_feature_extract\")])\n",
        "     "
      ],
      "metadata": {
        "colab": {
          "base_uri": "https://localhost:8080/"
        },
        "id": "LAQORlW77ICV",
        "outputId": "5f5478dd-028d-46fa-99eb-e72fe6f6b47b"
      },
      "execution_count": null,
      "outputs": [
        {
          "output_type": "stream",
          "name": "stdout",
          "text": [
            "Shape after passing inputs through base model: (None, 7, 7, 1280)\n",
            "Shape after GlobalAveragePooling2D: (None, 1280)\n",
            "Saving TensorBoard log files to: transfer_learning/10_percent_feature_extract/20230102-150259\n",
            "Epoch 1/5\n",
            "24/24 [==============================] - 19s 271ms/step - loss: 1.8430 - accuracy: 0.4373 - val_loss: 1.3069 - val_accuracy: 0.7122\n",
            "Epoch 2/5\n",
            "24/24 [==============================] - 4s 154ms/step - loss: 1.0750 - accuracy: 0.7720 - val_loss: 0.8852 - val_accuracy: 0.8207\n",
            "Epoch 3/5\n",
            "24/24 [==============================] - 5s 187ms/step - loss: 0.7776 - accuracy: 0.8307 - val_loss: 0.7271 - val_accuracy: 0.8503\n",
            "Epoch 4/5\n",
            "24/24 [==============================] - 5s 185ms/step - loss: 0.6361 - accuracy: 0.8493 - val_loss: 0.6126 - val_accuracy: 0.8635\n",
            "Epoch 5/5\n",
            "24/24 [==============================] - 5s 187ms/step - loss: 0.5481 - accuracy: 0.8733 - val_loss: 0.5528 - val_accuracy: 0.8799\n"
          ]
        }
      ]
    },
    {
      "cell_type": "code",
      "source": [],
      "metadata": {
        "id": "Wfw3a1bJ_3ox"
      },
      "execution_count": null,
      "outputs": []
    }
  ]
}