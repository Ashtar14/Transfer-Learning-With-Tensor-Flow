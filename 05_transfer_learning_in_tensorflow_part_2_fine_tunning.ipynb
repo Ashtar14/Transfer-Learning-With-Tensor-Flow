{
  "nbformat": 4,
  "nbformat_minor": 0,
  "metadata": {
    "colab": {
      "provenance": []
    },
    "kernelspec": {
      "name": "python3",
      "display_name": "Python 3"
    },
    "language_info": {
      "name": "python"
    },
    "accelerator": "GPU",
    "gpuClass": "standard"
  },
  "cells": [
    {
      "cell_type": "markdown",
      "source": [
        "## Transfer_learning with Tensorflow Part 2 Fine Tunning"
      ],
      "metadata": {
        "id": "9jGgnENIwerk"
      }
    },
    {
      "cell_type": "code",
      "source": [
        "# Check if we are using GPU\n",
        "!nvidia-smi"
      ],
      "metadata": {
        "colab": {
          "base_uri": "https://localhost:8080/"
        },
        "id": "jVRaXjvFyU1N",
        "outputId": "0599a29b-1516-4221-b9e4-08e948ab6003"
      },
      "execution_count": null,
      "outputs": [
        {
          "output_type": "stream",
          "name": "stdout",
          "text": [
            "Thu Jan  5 14:00:33 2023       \n",
            "+-----------------------------------------------------------------------------+\n",
            "| NVIDIA-SMI 460.32.03    Driver Version: 460.32.03    CUDA Version: 11.2     |\n",
            "|-------------------------------+----------------------+----------------------+\n",
            "| GPU  Name        Persistence-M| Bus-Id        Disp.A | Volatile Uncorr. ECC |\n",
            "| Fan  Temp  Perf  Pwr:Usage/Cap|         Memory-Usage | GPU-Util  Compute M. |\n",
            "|                               |                      |               MIG M. |\n",
            "|===============================+======================+======================|\n",
            "|   0  Tesla T4            Off  | 00000000:00:04.0 Off |                    0 |\n",
            "| N/A   46C    P0    28W /  70W |   4978MiB / 15109MiB |      0%      Default |\n",
            "|                               |                      |                  N/A |\n",
            "+-------------------------------+----------------------+----------------------+\n",
            "                                                                               \n",
            "+-----------------------------------------------------------------------------+\n",
            "| Processes:                                                                  |\n",
            "|  GPU   GI   CI        PID   Type   Process name                  GPU Memory |\n",
            "|        ID   ID                                                   Usage      |\n",
            "|=============================================================================|\n",
            "+-----------------------------------------------------------------------------+\n"
          ]
        }
      ]
    },
    {
      "cell_type": "markdown",
      "source": [
        "## Creating helper functions\n",
        "In previous notebooks we have created a bunch of helper functions in previous notebooks"
      ],
      "metadata": {
        "id": "u8ThONAPydZl"
      }
    },
    {
      "cell_type": "code",
      "source": [
        "!wget https://raw.githubusercontent.com/mrdbourke/tensorflow-deep-learning/main/extras/helper_functions.py"
      ],
      "metadata": {
        "colab": {
          "base_uri": "https://localhost:8080/"
        },
        "id": "yNSIaDE0y69U",
        "outputId": "03697085-f8f0-473e-8ff0-60d74b4cbf4d"
      },
      "execution_count": null,
      "outputs": [
        {
          "output_type": "stream",
          "name": "stdout",
          "text": [
            "--2023-01-05 14:00:34--  https://raw.githubusercontent.com/mrdbourke/tensorflow-deep-learning/main/extras/helper_functions.py\n",
            "Resolving raw.githubusercontent.com (raw.githubusercontent.com)... 185.199.109.133, 185.199.108.133, 185.199.110.133, ...\n",
            "Connecting to raw.githubusercontent.com (raw.githubusercontent.com)|185.199.109.133|:443... connected.\n",
            "HTTP request sent, awaiting response... 200 OK\n",
            "Length: 10246 (10K) [text/plain]\n",
            "Saving to: ‘helper_functions.py.1’\n",
            "\n",
            "\rhelper_functions.py   0%[                    ]       0  --.-KB/s               \rhelper_functions.py 100%[===================>]  10.01K  --.-KB/s    in 0s      \n",
            "\n",
            "2023-01-05 14:00:34 (97.4 MB/s) - ‘helper_functions.py.1’ saved [10246/10246]\n",
            "\n"
          ]
        }
      ]
    },
    {
      "cell_type": "code",
      "source": [
        "# Import helper functions we are oin to use in this notebook\n",
        "from helper_functions import create_tensorboard_callback, plot_loss_curves,unzip_data, walk_through_dir"
      ],
      "metadata": {
        "id": "WQOe5UutznCU"
      },
      "execution_count": null,
      "outputs": []
    },
    {
      "cell_type": "markdown",
      "source": [
        "We have imported these helper functions from mrdbourke github"
      ],
      "metadata": {
        "id": "hwZ48Zqpz9Zs"
      }
    },
    {
      "cell_type": "markdown",
      "source": [
        "## Lets get data ready \n",
        "\n",
        "We will import the models using tf.keras.applications and apply them to our own problem recognizing images of food "
      ],
      "metadata": {
        "id": "Cue1EDFW0fSg"
      }
    },
    {
      "cell_type": "code",
      "source": [
        "# Get 10% of training data of 10 classes of Food101\n",
        "!wget https://storage.googleapis.com/ztm_tf_course/food_vision/10_food_classes_10_percent.zip\n",
        "\n",
        "unzip_data(\"10_food_classes_10_percent.zip\")"
      ],
      "metadata": {
        "colab": {
          "base_uri": "https://localhost:8080/"
        },
        "id": "J5l2YEWA08M0",
        "outputId": "eff8307e-6a88-4ba1-c760-3ee01523de38"
      },
      "execution_count": null,
      "outputs": [
        {
          "output_type": "stream",
          "name": "stdout",
          "text": [
            "--2023-01-05 14:00:34--  https://storage.googleapis.com/ztm_tf_course/food_vision/10_food_classes_10_percent.zip\n",
            "Resolving storage.googleapis.com (storage.googleapis.com)... 142.250.153.128, 142.250.145.128, 74.125.128.128, ...\n",
            "Connecting to storage.googleapis.com (storage.googleapis.com)|142.250.153.128|:443... connected.\n",
            "HTTP request sent, awaiting response... 200 OK\n",
            "Length: 168546183 (161M) [application/zip]\n",
            "Saving to: ‘10_food_classes_10_percent.zip.1’\n",
            "\n",
            "10_food_classes_10_ 100%[===================>] 160.74M  41.0MB/s    in 4.5s    \n",
            "\n",
            "2023-01-05 14:00:40 (35.5 MB/s) - ‘10_food_classes_10_percent.zip.1’ saved [168546183/168546183]\n",
            "\n"
          ]
        }
      ]
    },
    {
      "cell_type": "code",
      "source": [
        "# Check out how many images and subdirectories are there \n",
        "walk_through_dir(\"10_food_classes_10_percent\")"
      ],
      "metadata": {
        "colab": {
          "base_uri": "https://localhost:8080/"
        },
        "id": "trUE2dLJ1jNN",
        "outputId": "5814b3ac-1a6c-42e4-f94d-51605dc3822b"
      },
      "execution_count": null,
      "outputs": [
        {
          "output_type": "stream",
          "name": "stdout",
          "text": [
            "There are 2 directories and 0 images in '10_food_classes_10_percent'.\n",
            "There are 10 directories and 0 images in '10_food_classes_10_percent/train'.\n",
            "There are 0 directories and 75 images in '10_food_classes_10_percent/train/ramen'.\n",
            "There are 0 directories and 75 images in '10_food_classes_10_percent/train/hamburger'.\n",
            "There are 0 directories and 75 images in '10_food_classes_10_percent/train/pizza'.\n",
            "There are 0 directories and 75 images in '10_food_classes_10_percent/train/steak'.\n",
            "There are 0 directories and 75 images in '10_food_classes_10_percent/train/sushi'.\n",
            "There are 0 directories and 75 images in '10_food_classes_10_percent/train/chicken_curry'.\n",
            "There are 0 directories and 75 images in '10_food_classes_10_percent/train/ice_cream'.\n",
            "There are 0 directories and 75 images in '10_food_classes_10_percent/train/chicken_wings'.\n",
            "There are 0 directories and 75 images in '10_food_classes_10_percent/train/grilled_salmon'.\n",
            "There are 0 directories and 75 images in '10_food_classes_10_percent/train/fried_rice'.\n",
            "There are 10 directories and 0 images in '10_food_classes_10_percent/test'.\n",
            "There are 0 directories and 250 images in '10_food_classes_10_percent/test/ramen'.\n",
            "There are 0 directories and 250 images in '10_food_classes_10_percent/test/hamburger'.\n",
            "There are 0 directories and 250 images in '10_food_classes_10_percent/test/pizza'.\n",
            "There are 0 directories and 250 images in '10_food_classes_10_percent/test/steak'.\n",
            "There are 0 directories and 250 images in '10_food_classes_10_percent/test/sushi'.\n",
            "There are 0 directories and 250 images in '10_food_classes_10_percent/test/chicken_curry'.\n",
            "There are 0 directories and 250 images in '10_food_classes_10_percent/test/ice_cream'.\n",
            "There are 0 directories and 250 images in '10_food_classes_10_percent/test/chicken_wings'.\n",
            "There are 0 directories and 250 images in '10_food_classes_10_percent/test/grilled_salmon'.\n",
            "There are 0 directories and 250 images in '10_food_classes_10_percent/test/fried_rice'.\n"
          ]
        }
      ]
    },
    {
      "cell_type": "code",
      "source": [
        "# Create training and test directories path\n",
        "train_dir = \"10_food_classes_10_percent/train\"\n",
        "test_dir = \"10_food_classes_10_percent/test\""
      ],
      "metadata": {
        "id": "0h73wHqo1t60"
      },
      "execution_count": null,
      "outputs": []
    },
    {
      "cell_type": "code",
      "source": [
        "import tensorflow as tf\n",
        "IMG_SIZE =(224,224)\n",
        "BATCH_SIZE = 32\n",
        "train_data_10_percent = tf.keras.preprocessing.image_dataset_from_directory(directory = train_dir,\n",
        "                                                                            image_size = IMG_SIZE,\n",
        "                                                                            label_mode = \"categorical\",\n",
        "                                                                            batch_size=BATCH_SIZE)\n",
        "test_data = tf.keras.preprocessing.image_dataset_from_directory(directory = test_dir,\n",
        "                                                                image_size = IMG_SIZE,\n",
        "                                                                label_mode = \"categorical\",\n",
        "                                                                batch_size = BATCH_SIZE)\n"
      ],
      "metadata": {
        "colab": {
          "base_uri": "https://localhost:8080/"
        },
        "id": "7dspHrHX2Dl0",
        "outputId": "b3948e4f-4048-44fc-813f-37216a22388e"
      },
      "execution_count": null,
      "outputs": [
        {
          "output_type": "stream",
          "name": "stdout",
          "text": [
            "Found 750 files belonging to 10 classes.\n",
            "Found 2500 files belonging to 10 classes.\n"
          ]
        }
      ]
    },
    {
      "cell_type": "code",
      "source": [
        "train_data_10_percent"
      ],
      "metadata": {
        "colab": {
          "base_uri": "https://localhost:8080/"
        },
        "id": "H7SP_Q3J32Dp",
        "outputId": "6b6be117-84b2-41c4-8545-fbb59276cf04"
      },
      "execution_count": null,
      "outputs": [
        {
          "output_type": "execute_result",
          "data": {
            "text/plain": [
              "<BatchDataset element_spec=(TensorSpec(shape=(None, 224, 224, 3), dtype=tf.float32, name=None), TensorSpec(shape=(None, 10), dtype=tf.float32, name=None))>"
            ]
          },
          "metadata": {},
          "execution_count": 80
        }
      ]
    },
    {
      "cell_type": "code",
      "source": [
        "# Check out class names of our dataset\n",
        "train_data_10_percent.class_names"
      ],
      "metadata": {
        "colab": {
          "base_uri": "https://localhost:8080/"
        },
        "id": "TpomNjVQ4CXE",
        "outputId": "8ab8e2cb-c728-4e8b-e38f-8244102c8bd7"
      },
      "execution_count": null,
      "outputs": [
        {
          "output_type": "execute_result",
          "data": {
            "text/plain": [
              "['chicken_curry',\n",
              " 'chicken_wings',\n",
              " 'fried_rice',\n",
              " 'grilled_salmon',\n",
              " 'hamburger',\n",
              " 'ice_cream',\n",
              " 'pizza',\n",
              " 'ramen',\n",
              " 'steak',\n",
              " 'sushi']"
            ]
          },
          "metadata": {},
          "execution_count": 81
        }
      ]
    },
    {
      "cell_type": "code",
      "source": [
        "# See example of batch data\n",
        "for images,labels in train_data_10_percent.take(1):\n",
        "  print(images,labels)"
      ],
      "metadata": {
        "colab": {
          "base_uri": "https://localhost:8080/"
        },
        "id": "lHO-LZkc4qI1",
        "outputId": "5b33cec0-39fa-4a82-a310-e276f0a1497f"
      },
      "execution_count": null,
      "outputs": [
        {
          "output_type": "stream",
          "name": "stdout",
          "text": [
            "tf.Tensor(\n",
            "[[[[1.93571434e+01 2.53571434e+01 2.53571434e+01]\n",
            "   [1.93571434e+01 2.53571434e+01 2.53571434e+01]\n",
            "   [1.93571434e+01 2.53571434e+01 2.53571434e+01]\n",
            "   ...\n",
            "   [8.21377335e+01 9.51479263e+01 1.06642830e+02]\n",
            "   [7.62397232e+01 8.82397232e+01 1.00239723e+02]\n",
            "   [7.75714188e+01 8.88571320e+01 1.00857132e+02]]\n",
            "\n",
            "  [[1.95255108e+01 2.85255108e+01 2.75255108e+01]\n",
            "   [1.89285717e+01 2.79285717e+01 2.69285717e+01]\n",
            "   [1.89285717e+01 2.79285717e+01 2.69285717e+01]\n",
            "   ...\n",
            "   [9.63877258e+01 1.14214256e+02 1.28142822e+02]\n",
            "   [9.05713806e+01 1.08285667e+02 1.22214233e+02]\n",
            "   [9.00918350e+01 1.07806122e+02 1.20540825e+02]]\n",
            "\n",
            "  [[1.82908154e+01 2.72908154e+01 2.62908154e+01]\n",
            "   [1.77295914e+01 2.67295914e+01 2.57295914e+01]\n",
            "   [1.63826542e+01 2.53826542e+01 2.43826542e+01]\n",
            "   ...\n",
            "   [1.06806107e+02 1.30571411e+02 1.48831619e+02]\n",
            "   [1.07428604e+02 1.31056168e+02 1.47428574e+02]\n",
            "   [1.07790825e+02 1.31433685e+02 1.47647964e+02]]\n",
            "\n",
            "  ...\n",
            "\n",
            "  [[1.52571472e+02 1.82132645e+02 2.03637756e+02]\n",
            "   [1.56158249e+02 1.84801041e+02 2.06586777e+02]\n",
            "   [1.55122482e+02 1.83765274e+02 2.05551010e+02]\n",
            "   ...\n",
            "   [1.46617294e+02 1.67617294e+02 1.86617294e+02]\n",
            "   [1.40913132e+02 1.61913132e+02 1.80913132e+02]\n",
            "   [1.37285706e+02 1.56714233e+02 1.73714233e+02]]\n",
            "\n",
            "  [[1.55045914e+02 1.81045914e+02 2.04045914e+02]\n",
            "   [1.58862228e+02 1.84862228e+02 2.07862228e+02]\n",
            "   [1.56428574e+02 1.82428574e+02 2.05428574e+02]\n",
            "   ...\n",
            "   [1.44642822e+02 1.64999939e+02 1.84214233e+02]\n",
            "   [1.41071350e+02 1.59071350e+02 1.79071350e+02]\n",
            "   [1.36571411e+02 1.55571411e+02 1.72571411e+02]]\n",
            "\n",
            "  [[1.55459198e+02 1.79459198e+02 2.03459198e+02]\n",
            "   [1.56714249e+02 1.80714249e+02 2.04714249e+02]\n",
            "   [1.58204102e+02 1.82204102e+02 2.06204102e+02]\n",
            "   ...\n",
            "   [1.38714172e+02 1.59071289e+02 1.78285583e+02]\n",
            "   [1.34214111e+02 1.52214111e+02 1.72214111e+02]\n",
            "   [1.28642731e+02 1.47642731e+02 1.64642731e+02]]]\n",
            "\n",
            "\n",
            " [[[1.64477676e+02 1.80477676e+02 1.96477676e+02]\n",
            "   [1.64477676e+02 1.80477676e+02 1.96477676e+02]\n",
            "   [1.64906250e+02 1.80263397e+02 1.96477676e+02]\n",
            "   ...\n",
            "   [3.76987495e+01 3.10559578e+01 3.21091576e+01]\n",
            "   [3.68229904e+01 3.29285583e+01 3.39285583e+01]\n",
            "   [3.30932808e+01 3.18076363e+01 3.44504585e+01]]\n",
            "\n",
            "  [[1.63000000e+02 1.79000000e+02 1.95000000e+02]\n",
            "   [1.63000000e+02 1.79000000e+02 1.95000000e+02]\n",
            "   [1.63428574e+02 1.78785721e+02 1.95000000e+02]\n",
            "   ...\n",
            "   [3.83047943e+01 3.19977455e+01 3.61147194e+01]\n",
            "   [3.76560669e+01 3.22010498e+01 3.39285583e+01]\n",
            "   [3.51479378e+01 3.22953300e+01 3.36510315e+01]]\n",
            "\n",
            "  [[1.64305801e+02 1.80305801e+02 1.96305801e+02]\n",
            "   [1.65234375e+02 1.81234375e+02 1.97234375e+02]\n",
            "   [1.66214920e+02 1.80851242e+02 1.97305801e+02]\n",
            "   ...\n",
            "   [4.16257248e+01 3.51718102e+01 4.26481667e+01]\n",
            "   [3.95620117e+01 3.34964714e+01 3.60425377e+01]\n",
            "   [3.96317673e+01 3.30201607e+01 3.24085503e+01]]\n",
            "\n",
            "  ...\n",
            "\n",
            "  [[1.10662926e+02 6.46629257e+01 7.56629257e+01]\n",
            "   [1.12807556e+02 6.68075562e+01 7.98075562e+01]\n",
            "   [1.12000000e+02 6.40000000e+01 7.84285736e+01]\n",
            "   ...\n",
            "   [3.30395164e+01 1.81882610e+01 1.51882610e+01]\n",
            "   [3.40000000e+01 1.90000000e+01 1.60000000e+01]\n",
            "   [3.25336037e+01 1.75336018e+01 1.45336027e+01]]\n",
            "\n",
            "  [[1.08924095e+02 6.29240990e+01 7.39240952e+01]\n",
            "   [1.12770248e+02 6.67702484e+01 7.97702484e+01]\n",
            "   [1.14216522e+02 6.62165222e+01 8.06450958e+01]\n",
            "   ...\n",
            "   [3.36450500e+01 1.88593140e+01 1.58593140e+01]\n",
            "   [3.42879639e+01 1.92879639e+01 1.62879639e+01]\n",
            "   [3.38593445e+01 1.88593445e+01 1.58593445e+01]]\n",
            "\n",
            "  [[1.07093262e+02 6.10932655e+01 7.20932617e+01]\n",
            "   [1.12714287e+02 6.67142868e+01 7.97142868e+01]\n",
            "   [1.15738861e+02 6.77388611e+01 8.21674347e+01]\n",
            "   ...\n",
            "   [3.44285278e+01 1.96427917e+01 1.66427917e+01]\n",
            "   [3.50714417e+01 2.00714417e+01 1.70714417e+01]\n",
            "   [3.46428223e+01 1.96428223e+01 1.66428223e+01]]]\n",
            "\n",
            "\n",
            " [[[1.23727674e+01 1.47756701e+01 1.56506701e+01]\n",
            "   [1.32745552e+01 1.26875000e+01 1.14118309e+01]\n",
            "   [1.60926342e+01 1.25156250e+01 7.82366037e+00]\n",
            "   ...\n",
            "   [2.49640579e+02 2.25151871e+02 1.98886246e+02]\n",
            "   [2.17929352e+02 2.04011993e+02 1.80960693e+02]\n",
            "   [1.95593475e+02 1.89950653e+02 1.68665009e+02]]\n",
            "\n",
            "  [[3.01517868e+01 1.59955349e+01 2.74218750e+00]\n",
            "   [2.82589302e+01 1.80301342e+01 5.68750143e+00]\n",
            "   [2.65803566e+01 1.96529026e+01 1.07176342e+01]\n",
            "   ...\n",
            "   [2.54912949e+02 2.34676514e+02 2.09611740e+02]\n",
            "   [1.96882812e+02 1.85168579e+02 1.62976654e+02]\n",
            "   [1.92887405e+02 1.86732330e+02 1.67268066e+02]]\n",
            "\n",
            "  [[1.42012268e+02 1.07493301e+02 7.47220993e+01]\n",
            "   [8.75055771e+01 5.90256653e+01 3.31004410e+01]\n",
            "   [5.71328125e+01 3.85513382e+01 2.13694191e+01]\n",
            "   ...\n",
            "   [2.34847809e+02 2.16529785e+02 1.95042084e+02]\n",
            "   [1.93585983e+02 1.82776871e+02 1.63504562e+02]\n",
            "   [1.97131744e+02 1.92131744e+02 1.73131744e+02]]\n",
            "\n",
            "  ...\n",
            "\n",
            "  [[2.24208710e+02 2.18208710e+02 2.06208710e+02]\n",
            "   [2.22712051e+02 2.16712051e+02 2.04712051e+02]\n",
            "   [2.20426346e+02 2.14426346e+02 2.02426346e+02]\n",
            "   ...\n",
            "   [1.48428528e+02 1.24428528e+02 1.00428528e+02]\n",
            "   [1.44857117e+02 1.20857117e+02 9.62008667e+01]\n",
            "   [1.40074722e+02 1.16074722e+02 9.00747223e+01]]\n",
            "\n",
            "  [[2.16578125e+02 2.08578125e+02 1.97578125e+02]\n",
            "   [2.15041290e+02 2.07041290e+02 1.96041290e+02]\n",
            "   [2.14187500e+02 2.06187500e+02 1.95187500e+02]\n",
            "   ...\n",
            "   [1.48236542e+02 1.24472054e+02 1.01016655e+02]\n",
            "   [1.44465378e+02 1.20871628e+02 9.68716278e+01]\n",
            "   [1.39879395e+02 1.16285645e+02 9.22856445e+01]]\n",
            "\n",
            "  [[2.08062500e+02 2.00062500e+02 1.89062500e+02]\n",
            "   [2.08062500e+02 2.00062500e+02 1.89062500e+02]\n",
            "   [2.08954239e+02 2.00954239e+02 1.89954239e+02]\n",
            "   ...\n",
            "   [1.47219818e+02 1.25219818e+02 1.02219818e+02]\n",
            "   [1.43610474e+02 1.21610466e+02 9.83448410e+01]\n",
            "   [1.38547943e+02 1.16547943e+02 9.25479431e+01]]]\n",
            "\n",
            "\n",
            " ...\n",
            "\n",
            "\n",
            " [[[5.35408173e+01 1.65408173e+01 7.54081631e+00]\n",
            "   [5.36632652e+01 1.56632652e+01 6.66326523e+00]\n",
            "   [5.49234695e+01 1.69234695e+01 7.92346954e+00]\n",
            "   ...\n",
            "   [2.37857361e+01 1.00000000e+01 1.21426392e+00]\n",
            "   [2.81888103e+01 1.11888103e+01 3.18881011e+00]\n",
            "   [2.85713234e+01 1.15713243e+01 3.57132387e+00]]\n",
            "\n",
            "  [[5.18316307e+01 1.38316326e+01 2.83163190e+00]\n",
            "   [5.30816307e+01 1.50816326e+01 4.08163214e+00]\n",
            "   [5.11581650e+01 1.31581640e+01 2.15816355e+00]\n",
            "   ...\n",
            "   [2.45867767e+01 1.08010406e+01 2.01530457e+00]\n",
            "   [2.72857533e+01 1.02857533e+01 2.28575325e+00]\n",
            "   [2.83315601e+01 1.13315601e+01 3.33156013e+00]]\n",
            "\n",
            "  [[5.48520432e+01 1.64234676e+01 5.63775539e+00]\n",
            "   [5.35714302e+01 1.51428576e+01 4.35714340e+00]\n",
            "   [5.53265305e+01 1.51887751e+01 5.23469353e+00]\n",
            "   ...\n",
            "   [2.45714951e+01 1.07857580e+01 2.00002193e+00]\n",
            "   [2.51428833e+01 8.14288330e+00 1.42883301e-01]\n",
            "   [2.76428223e+01 1.06428223e+01 2.64282227e+00]]\n",
            "\n",
            "  ...\n",
            "\n",
            "  [[2.12092342e+01 8.20923519e+00 2.80619979e-01]\n",
            "   [1.91989594e+01 6.19895935e+00 0.00000000e+00]\n",
            "   [2.03826141e+01 7.38261414e+00 3.36722314e-01]\n",
            "   ...\n",
            "   [4.21426392e+00 5.96882701e-01 0.00000000e+00]\n",
            "   [3.27039814e+00 2.27039814e+00 0.00000000e+00]\n",
            "   [2.78055596e+00 1.78055596e+00 0.00000000e+00]]\n",
            "\n",
            "  [[1.97857265e+01 9.85716915e+00 0.00000000e+00]\n",
            "   [1.61428699e+01 6.14286995e+00 0.00000000e+00]\n",
            "   [1.92857285e+01 9.28572750e+00 2.85727501e-01]\n",
            "   ...\n",
            "   [4.49996948e+00 7.14233398e-01 0.00000000e+00]\n",
            "   [3.00510383e+00 2.00510383e+00 0.00000000e+00]\n",
            "   [2.66833973e+00 1.66833961e+00 0.00000000e+00]]\n",
            "\n",
            "  [[2.28418846e+01 1.38418837e+01 1.27563462e-01]\n",
            "   [1.94286060e+01 9.42860603e+00 0.00000000e+00]\n",
            "   [2.09234619e+01 1.09234619e+01 1.13774776e+00]\n",
            "   ...\n",
            "   [6.42852783e+00 2.64279175e+00 0.00000000e+00]\n",
            "   [3.40310192e+00 2.40310192e+00 0.00000000e+00]\n",
            "   [4.00000000e+00 3.00000000e+00 0.00000000e+00]]]\n",
            "\n",
            "\n",
            " [[[2.37943878e+02 2.37943878e+02 2.03943878e+02]\n",
            "   [2.37714279e+02 2.36714279e+02 2.05714279e+02]\n",
            "   [2.37714279e+02 2.36714279e+02 2.05928558e+02]\n",
            "   ...\n",
            "   [2.54000000e+02 2.54000000e+02 2.54000000e+02]\n",
            "   [2.54000000e+02 2.54000000e+02 2.54000000e+02]\n",
            "   [2.54000000e+02 2.54000000e+02 2.54000000e+02]]\n",
            "\n",
            "  [[2.38928574e+02 2.38928574e+02 2.04928574e+02]\n",
            "   [2.37994904e+02 2.36994904e+02 2.05994904e+02]\n",
            "   [2.36928574e+02 2.35928574e+02 2.05142853e+02]\n",
            "   ...\n",
            "   [2.54000000e+02 2.54000000e+02 2.54000000e+02]\n",
            "   [2.54000000e+02 2.54000000e+02 2.54000000e+02]\n",
            "   [2.54000000e+02 2.54000000e+02 2.54000000e+02]]\n",
            "\n",
            "  [[2.37862244e+02 2.37862244e+02 2.03862244e+02]\n",
            "   [2.37000000e+02 2.36000000e+02 2.05000000e+02]\n",
            "   [2.36214279e+02 2.35214279e+02 2.04428558e+02]\n",
            "   ...\n",
            "   [2.54000000e+02 2.54000000e+02 2.54000000e+02]\n",
            "   [2.54000000e+02 2.54000000e+02 2.54000000e+02]\n",
            "   [2.54000000e+02 2.54000000e+02 2.54000000e+02]]\n",
            "\n",
            "  ...\n",
            "\n",
            "  [[2.13719376e+02 1.99719376e+02 1.60719376e+02]\n",
            "   [2.16714310e+02 2.02714310e+02 1.63714310e+02]\n",
            "   [2.16428528e+02 2.02428528e+02 1.63520355e+02]\n",
            "   ...\n",
            "   [2.32550980e+02 2.34336716e+02 2.20954086e+02]\n",
            "   [2.33127579e+02 2.35127579e+02 2.21913315e+02]\n",
            "   [2.36209305e+02 2.38209305e+02 2.24995041e+02]]\n",
            "\n",
            "  [[2.11025528e+02 1.97025528e+02 1.60025528e+02]\n",
            "   [2.16862244e+02 2.02862244e+02 1.63862244e+02]\n",
            "   [2.14413300e+02 2.00413300e+02 1.61413300e+02]\n",
            "   ...\n",
            "   [2.32056137e+02 2.33627609e+02 2.20841873e+02]\n",
            "   [2.35000000e+02 2.37000000e+02 2.24000000e+02]\n",
            "   [2.34928558e+02 2.36928558e+02 2.23928558e+02]]\n",
            "\n",
            "  [[2.15255127e+02 2.01255127e+02 1.64255127e+02]\n",
            "   [2.15239731e+02 2.01239731e+02 1.62239731e+02]\n",
            "   [2.17352005e+02 2.03352005e+02 1.64352005e+02]\n",
            "   ...\n",
            "   [2.34153061e+02 2.35724533e+02 2.22938797e+02]\n",
            "   [2.34668335e+02 2.36668335e+02 2.25668335e+02]\n",
            "   [2.35484756e+02 2.37484756e+02 2.26484756e+02]]]\n",
            "\n",
            "\n",
            " [[[2.07664062e+02 1.56664062e+02 7.76640625e+01]\n",
            "   [2.06859375e+02 1.55859375e+02 7.48593750e+01]\n",
            "   [2.08859375e+02 1.58859375e+02 7.38593750e+01]\n",
            "   ...\n",
            "   [1.97244400e+02 1.55244400e+02 9.72443924e+01]\n",
            "   [2.00000000e+02 1.55000000e+02 9.80000000e+01]\n",
            "   [2.00642822e+02 1.53642822e+02 9.76428223e+01]]\n",
            "\n",
            "  [[2.06664062e+02 1.55664062e+02 7.66640625e+01]\n",
            "   [2.05156250e+02 1.54156250e+02 7.31562500e+01]\n",
            "   [2.07156250e+02 1.57156250e+02 7.21562500e+01]\n",
            "   ...\n",
            "   [1.97850403e+02 1.55850403e+02 9.78504028e+01]\n",
            "   [1.99608261e+02 1.54608261e+02 9.76082611e+01]\n",
            "   [2.00793503e+02 1.53793503e+02 9.77935028e+01]]\n",
            "\n",
            "  [[2.04760040e+02 1.53760040e+02 7.47600403e+01]\n",
            "   [2.03296875e+02 1.52296875e+02 7.12968750e+01]\n",
            "   [2.04593750e+02 1.54593750e+02 6.92924118e+01]\n",
            "   ...\n",
            "   [1.99282303e+02 1.57282303e+02 9.92823105e+01]\n",
            "   [1.99021210e+02 1.54021210e+02 9.70212097e+01]\n",
            "   [2.00748856e+02 1.53748856e+02 9.77488556e+01]]\n",
            "\n",
            "  ...\n",
            "\n",
            "  [[2.07844864e+02 1.58342636e+02 1.00353790e+02]\n",
            "   [2.04736603e+02 1.58522324e+02 9.86149521e+01]\n",
            "   [2.02443085e+02 1.58443085e+02 9.54430771e+01]\n",
            "   ...\n",
            "   [1.88209824e+02 1.52168503e+02 8.28291321e+01]\n",
            "   [1.89100464e+02 1.50021210e+02 7.28359070e+01]\n",
            "   [1.92809158e+02 1.50760086e+02 6.97979279e+01]]\n",
            "\n",
            "  [[2.10569199e+02 1.62106018e+02 1.06183037e+02]\n",
            "   [2.08414062e+02 1.62819199e+02 1.03581467e+02]\n",
            "   [2.05734375e+02 1.63468750e+02 1.01046875e+02]\n",
            "   ...\n",
            "   [1.90494385e+02 1.56410645e+02 9.17944641e+01]\n",
            "   [1.89000000e+02 1.50608261e+02 7.43961411e+01]\n",
            "   [1.92150681e+02 1.51507858e+02 6.84363251e+01]]\n",
            "\n",
            "  [[2.12266739e+02 1.65668533e+02 1.13256699e+02]\n",
            "   [2.10992188e+02 1.67506699e+02 1.12158478e+02]\n",
            "   [2.10621643e+02 1.70481018e+02 1.09340401e+02]\n",
            "   ...\n",
            "   [1.94190781e+02 1.60435181e+02 1.00452888e+02]\n",
            "   [1.89859375e+02 1.51797974e+02 7.80880814e+01]\n",
            "   [1.92000000e+02 1.51909607e+02 6.65668945e+01]]]], shape=(32, 224, 224, 3), dtype=float32) tf.Tensor(\n",
            "[[0. 0. 0. 0. 0. 0. 0. 0. 0. 1.]\n",
            " [0. 0. 1. 0. 0. 0. 0. 0. 0. 0.]\n",
            " [0. 0. 0. 0. 1. 0. 0. 0. 0. 0.]\n",
            " [0. 0. 0. 0. 0. 0. 0. 0. 0. 1.]\n",
            " [0. 1. 0. 0. 0. 0. 0. 0. 0. 0.]\n",
            " [0. 0. 0. 0. 1. 0. 0. 0. 0. 0.]\n",
            " [0. 0. 0. 0. 0. 1. 0. 0. 0. 0.]\n",
            " [0. 0. 0. 0. 0. 1. 0. 0. 0. 0.]\n",
            " [0. 0. 0. 0. 0. 1. 0. 0. 0. 0.]\n",
            " [0. 0. 0. 0. 0. 1. 0. 0. 0. 0.]\n",
            " [0. 0. 0. 0. 0. 0. 0. 0. 1. 0.]\n",
            " [0. 0. 1. 0. 0. 0. 0. 0. 0. 0.]\n",
            " [0. 0. 0. 0. 0. 0. 0. 1. 0. 0.]\n",
            " [1. 0. 0. 0. 0. 0. 0. 0. 0. 0.]\n",
            " [0. 0. 0. 0. 1. 0. 0. 0. 0. 0.]\n",
            " [0. 0. 1. 0. 0. 0. 0. 0. 0. 0.]\n",
            " [0. 1. 0. 0. 0. 0. 0. 0. 0. 0.]\n",
            " [0. 0. 1. 0. 0. 0. 0. 0. 0. 0.]\n",
            " [0. 1. 0. 0. 0. 0. 0. 0. 0. 0.]\n",
            " [0. 0. 0. 1. 0. 0. 0. 0. 0. 0.]\n",
            " [0. 0. 0. 0. 0. 0. 1. 0. 0. 0.]\n",
            " [0. 0. 0. 0. 0. 0. 0. 0. 1. 0.]\n",
            " [0. 0. 1. 0. 0. 0. 0. 0. 0. 0.]\n",
            " [0. 0. 0. 0. 1. 0. 0. 0. 0. 0.]\n",
            " [0. 0. 0. 0. 0. 0. 1. 0. 0. 0.]\n",
            " [0. 0. 0. 0. 0. 0. 0. 1. 0. 0.]\n",
            " [0. 0. 0. 0. 0. 1. 0. 0. 0. 0.]\n",
            " [0. 0. 0. 1. 0. 0. 0. 0. 0. 0.]\n",
            " [0. 0. 0. 0. 1. 0. 0. 0. 0. 0.]\n",
            " [0. 0. 0. 0. 0. 1. 0. 0. 0. 0.]\n",
            " [0. 0. 0. 0. 0. 1. 0. 0. 0. 0.]\n",
            " [0. 0. 0. 0. 0. 0. 0. 0. 0. 1.]], shape=(32, 10), dtype=float32)\n"
          ]
        }
      ]
    },
    {
      "cell_type": "markdown",
      "source": [
        "## Model 0 : Building a transfer learning model using the keras functional api\n",
        "\n",
        "The functional api gives us more flexibility with oour models"
      ],
      "metadata": {
        "id": "X2QRFRep5Cyl"
      }
    },
    {
      "cell_type": "code",
      "source": [
        "#  1. Creating base model with tf.keras.applications\n",
        "base_model = tf.keras.applications.EfficientNetB0(include_top=False)\n",
        "\n",
        "# 2. Freeze the base model\n",
        "base_model.trainable = False\n",
        "\n",
        "# 3 Create inputs into our model\n",
        "inputs = tf.keras.layers.Input(shape=(224,224,3),name = \"input_layer\")\n",
        "\n",
        "# 4. If using ResNet50V2 you will need to normalize inputs\n",
        "#x = tf.keras.layers.experimental.preprocessing.Rescaling(1./255)(inputs)\n",
        "\n",
        "# 5.  Pass the inputs to the base models\n",
        "x = base_model(inputs)\n",
        "print(f\"Shape after passing inputs through base model: {x.shape}\")\n",
        "\n",
        "# 6. Average pool the outputs of the base model (aggregate all the most important information,reduse number of computations)\n",
        "x = tf.keras.layers.GlobalAveragePooling2D(name = \"global_average_pooling_layer\")(x)\n",
        "print(f\"Shape after GlobalAveragePooling2D: {x.shape}\")\n",
        "\n",
        "# Create output activation layer\n",
        "outputs = tf.keras.layers.Dense(10,activation=\"softmax\",name=\"output_layers\")(x)\n",
        "\n",
        "# 8 combine the inputs with outputs into the model\n",
        "model_0 = tf.keras.Model(inputs,outputs)\n",
        "\n",
        "# 9. Compile the model\n",
        "model_0.compile(loss='categorical_crossentropy',\n",
        "              optimizer=tf.keras.optimizers.Adam(),\n",
        "              metrics=[\"accuracy\"])\n",
        "\n",
        "# 10. Fit the model (we use less steps for validation so it's faster)\n",
        "history_10_percent = model_0.fit(train_data_10_percent,\n",
        "                                 epochs=5,\n",
        "                                 steps_per_epoch=len(train_data_10_percent),\n",
        "                                 validation_data=test_data,\n",
        "                                 # Go through less of the validation data so epochs are faster (we want faster experiments!)\n",
        "                                 validation_steps=int(0.25 * len(test_data)), \n",
        "                                 # Track our model's training logs for visualization later\n",
        "                                 callbacks=[create_tensorboard_callback(dir_name=\"transfer_learning\",experiment_name= \"10_percent_feature_extract\")])\n",
        "     "
      ],
      "metadata": {
        "colab": {
          "base_uri": "https://localhost:8080/"
        },
        "id": "LAQORlW77ICV",
        "outputId": "cba32101-417b-44e6-8f69-79ca51bf376d"
      },
      "execution_count": null,
      "outputs": [
        {
          "output_type": "stream",
          "name": "stdout",
          "text": [
            "Shape after passing inputs through base model: (None, 7, 7, 1280)\n",
            "Shape after GlobalAveragePooling2D: (None, 1280)\n",
            "Saving TensorBoard log files to: transfer_learning/10_percent_feature_extract/20230105-140044\n",
            "Epoch 1/5\n",
            "24/24 [==============================] - 13s 240ms/step - loss: 1.8765 - accuracy: 0.4320 - val_loss: 1.3018 - val_accuracy: 0.7253\n",
            "Epoch 2/5\n",
            "24/24 [==============================] - 4s 159ms/step - loss: 1.0948 - accuracy: 0.7507 - val_loss: 0.8575 - val_accuracy: 0.8174\n",
            "Epoch 3/5\n",
            "24/24 [==============================] - 5s 186ms/step - loss: 0.8032 - accuracy: 0.8147 - val_loss: 0.6942 - val_accuracy: 0.8487\n",
            "Epoch 4/5\n",
            "24/24 [==============================] - 4s 154ms/step - loss: 0.6521 - accuracy: 0.8387 - val_loss: 0.6036 - val_accuracy: 0.8602\n",
            "Epoch 5/5\n",
            "24/24 [==============================] - 5s 185ms/step - loss: 0.5491 - accuracy: 0.8707 - val_loss: 0.5424 - val_accuracy: 0.8635\n"
          ]
        }
      ]
    },
    {
      "cell_type": "code",
      "source": [
        "# Evaluate on th full test dataset\n",
        "model_0.evaluate(test_data)"
      ],
      "metadata": {
        "id": "Wfw3a1bJ_3ox",
        "colab": {
          "base_uri": "https://localhost:8080/"
        },
        "outputId": "0ec82161-d27e-42a3-bb97-9ef3ab2494fc"
      },
      "execution_count": null,
      "outputs": [
        {
          "output_type": "stream",
          "name": "stdout",
          "text": [
            "79/79 [==============================] - 6s 73ms/step - loss: 0.5608 - accuracy: 0.8604\n"
          ]
        },
        {
          "output_type": "execute_result",
          "data": {
            "text/plain": [
              "[0.560799241065979, 0.8604000210762024]"
            ]
          },
          "metadata": {},
          "execution_count": 84
        }
      ]
    },
    {
      "cell_type": "code",
      "source": [
        "# Check the layers in our base model\n",
        "for layer_number,layer in enumerate(base_model.layers):\n",
        "  print(layer_number,layer.name)"
      ],
      "metadata": {
        "colab": {
          "base_uri": "https://localhost:8080/"
        },
        "id": "cdskWa9iy9JE",
        "outputId": "ac10111c-48dc-4210-ad48-c56c3fcb4a54"
      },
      "execution_count": null,
      "outputs": [
        {
          "output_type": "stream",
          "name": "stdout",
          "text": [
            "0 input_4\n",
            "1 rescaling_3\n",
            "2 normalization_3\n",
            "3 tf.math.truediv_3\n",
            "4 stem_conv_pad\n",
            "5 stem_conv\n",
            "6 stem_bn\n",
            "7 stem_activation\n",
            "8 block1a_dwconv\n",
            "9 block1a_bn\n",
            "10 block1a_activation\n",
            "11 block1a_se_squeeze\n",
            "12 block1a_se_reshape\n",
            "13 block1a_se_reduce\n",
            "14 block1a_se_expand\n",
            "15 block1a_se_excite\n",
            "16 block1a_project_conv\n",
            "17 block1a_project_bn\n",
            "18 block2a_expand_conv\n",
            "19 block2a_expand_bn\n",
            "20 block2a_expand_activation\n",
            "21 block2a_dwconv_pad\n",
            "22 block2a_dwconv\n",
            "23 block2a_bn\n",
            "24 block2a_activation\n",
            "25 block2a_se_squeeze\n",
            "26 block2a_se_reshape\n",
            "27 block2a_se_reduce\n",
            "28 block2a_se_expand\n",
            "29 block2a_se_excite\n",
            "30 block2a_project_conv\n",
            "31 block2a_project_bn\n",
            "32 block2b_expand_conv\n",
            "33 block2b_expand_bn\n",
            "34 block2b_expand_activation\n",
            "35 block2b_dwconv\n",
            "36 block2b_bn\n",
            "37 block2b_activation\n",
            "38 block2b_se_squeeze\n",
            "39 block2b_se_reshape\n",
            "40 block2b_se_reduce\n",
            "41 block2b_se_expand\n",
            "42 block2b_se_excite\n",
            "43 block2b_project_conv\n",
            "44 block2b_project_bn\n",
            "45 block2b_drop\n",
            "46 block2b_add\n",
            "47 block3a_expand_conv\n",
            "48 block3a_expand_bn\n",
            "49 block3a_expand_activation\n",
            "50 block3a_dwconv_pad\n",
            "51 block3a_dwconv\n",
            "52 block3a_bn\n",
            "53 block3a_activation\n",
            "54 block3a_se_squeeze\n",
            "55 block3a_se_reshape\n",
            "56 block3a_se_reduce\n",
            "57 block3a_se_expand\n",
            "58 block3a_se_excite\n",
            "59 block3a_project_conv\n",
            "60 block3a_project_bn\n",
            "61 block3b_expand_conv\n",
            "62 block3b_expand_bn\n",
            "63 block3b_expand_activation\n",
            "64 block3b_dwconv\n",
            "65 block3b_bn\n",
            "66 block3b_activation\n",
            "67 block3b_se_squeeze\n",
            "68 block3b_se_reshape\n",
            "69 block3b_se_reduce\n",
            "70 block3b_se_expand\n",
            "71 block3b_se_excite\n",
            "72 block3b_project_conv\n",
            "73 block3b_project_bn\n",
            "74 block3b_drop\n",
            "75 block3b_add\n",
            "76 block4a_expand_conv\n",
            "77 block4a_expand_bn\n",
            "78 block4a_expand_activation\n",
            "79 block4a_dwconv_pad\n",
            "80 block4a_dwconv\n",
            "81 block4a_bn\n",
            "82 block4a_activation\n",
            "83 block4a_se_squeeze\n",
            "84 block4a_se_reshape\n",
            "85 block4a_se_reduce\n",
            "86 block4a_se_expand\n",
            "87 block4a_se_excite\n",
            "88 block4a_project_conv\n",
            "89 block4a_project_bn\n",
            "90 block4b_expand_conv\n",
            "91 block4b_expand_bn\n",
            "92 block4b_expand_activation\n",
            "93 block4b_dwconv\n",
            "94 block4b_bn\n",
            "95 block4b_activation\n",
            "96 block4b_se_squeeze\n",
            "97 block4b_se_reshape\n",
            "98 block4b_se_reduce\n",
            "99 block4b_se_expand\n",
            "100 block4b_se_excite\n",
            "101 block4b_project_conv\n",
            "102 block4b_project_bn\n",
            "103 block4b_drop\n",
            "104 block4b_add\n",
            "105 block4c_expand_conv\n",
            "106 block4c_expand_bn\n",
            "107 block4c_expand_activation\n",
            "108 block4c_dwconv\n",
            "109 block4c_bn\n",
            "110 block4c_activation\n",
            "111 block4c_se_squeeze\n",
            "112 block4c_se_reshape\n",
            "113 block4c_se_reduce\n",
            "114 block4c_se_expand\n",
            "115 block4c_se_excite\n",
            "116 block4c_project_conv\n",
            "117 block4c_project_bn\n",
            "118 block4c_drop\n",
            "119 block4c_add\n",
            "120 block5a_expand_conv\n",
            "121 block5a_expand_bn\n",
            "122 block5a_expand_activation\n",
            "123 block5a_dwconv\n",
            "124 block5a_bn\n",
            "125 block5a_activation\n",
            "126 block5a_se_squeeze\n",
            "127 block5a_se_reshape\n",
            "128 block5a_se_reduce\n",
            "129 block5a_se_expand\n",
            "130 block5a_se_excite\n",
            "131 block5a_project_conv\n",
            "132 block5a_project_bn\n",
            "133 block5b_expand_conv\n",
            "134 block5b_expand_bn\n",
            "135 block5b_expand_activation\n",
            "136 block5b_dwconv\n",
            "137 block5b_bn\n",
            "138 block5b_activation\n",
            "139 block5b_se_squeeze\n",
            "140 block5b_se_reshape\n",
            "141 block5b_se_reduce\n",
            "142 block5b_se_expand\n",
            "143 block5b_se_excite\n",
            "144 block5b_project_conv\n",
            "145 block5b_project_bn\n",
            "146 block5b_drop\n",
            "147 block5b_add\n",
            "148 block5c_expand_conv\n",
            "149 block5c_expand_bn\n",
            "150 block5c_expand_activation\n",
            "151 block5c_dwconv\n",
            "152 block5c_bn\n",
            "153 block5c_activation\n",
            "154 block5c_se_squeeze\n",
            "155 block5c_se_reshape\n",
            "156 block5c_se_reduce\n",
            "157 block5c_se_expand\n",
            "158 block5c_se_excite\n",
            "159 block5c_project_conv\n",
            "160 block5c_project_bn\n",
            "161 block5c_drop\n",
            "162 block5c_add\n",
            "163 block6a_expand_conv\n",
            "164 block6a_expand_bn\n",
            "165 block6a_expand_activation\n",
            "166 block6a_dwconv_pad\n",
            "167 block6a_dwconv\n",
            "168 block6a_bn\n",
            "169 block6a_activation\n",
            "170 block6a_se_squeeze\n",
            "171 block6a_se_reshape\n",
            "172 block6a_se_reduce\n",
            "173 block6a_se_expand\n",
            "174 block6a_se_excite\n",
            "175 block6a_project_conv\n",
            "176 block6a_project_bn\n",
            "177 block6b_expand_conv\n",
            "178 block6b_expand_bn\n",
            "179 block6b_expand_activation\n",
            "180 block6b_dwconv\n",
            "181 block6b_bn\n",
            "182 block6b_activation\n",
            "183 block6b_se_squeeze\n",
            "184 block6b_se_reshape\n",
            "185 block6b_se_reduce\n",
            "186 block6b_se_expand\n",
            "187 block6b_se_excite\n",
            "188 block6b_project_conv\n",
            "189 block6b_project_bn\n",
            "190 block6b_drop\n",
            "191 block6b_add\n",
            "192 block6c_expand_conv\n",
            "193 block6c_expand_bn\n",
            "194 block6c_expand_activation\n",
            "195 block6c_dwconv\n",
            "196 block6c_bn\n",
            "197 block6c_activation\n",
            "198 block6c_se_squeeze\n",
            "199 block6c_se_reshape\n",
            "200 block6c_se_reduce\n",
            "201 block6c_se_expand\n",
            "202 block6c_se_excite\n",
            "203 block6c_project_conv\n",
            "204 block6c_project_bn\n",
            "205 block6c_drop\n",
            "206 block6c_add\n",
            "207 block6d_expand_conv\n",
            "208 block6d_expand_bn\n",
            "209 block6d_expand_activation\n",
            "210 block6d_dwconv\n",
            "211 block6d_bn\n",
            "212 block6d_activation\n",
            "213 block6d_se_squeeze\n",
            "214 block6d_se_reshape\n",
            "215 block6d_se_reduce\n",
            "216 block6d_se_expand\n",
            "217 block6d_se_excite\n",
            "218 block6d_project_conv\n",
            "219 block6d_project_bn\n",
            "220 block6d_drop\n",
            "221 block6d_add\n",
            "222 block7a_expand_conv\n",
            "223 block7a_expand_bn\n",
            "224 block7a_expand_activation\n",
            "225 block7a_dwconv\n",
            "226 block7a_bn\n",
            "227 block7a_activation\n",
            "228 block7a_se_squeeze\n",
            "229 block7a_se_reshape\n",
            "230 block7a_se_reduce\n",
            "231 block7a_se_expand\n",
            "232 block7a_se_excite\n",
            "233 block7a_project_conv\n",
            "234 block7a_project_bn\n",
            "235 top_conv\n",
            "236 top_bn\n",
            "237 top_activation\n"
          ]
        }
      ]
    },
    {
      "cell_type": "code",
      "source": [
        "# How about we get the summary of our base model\n",
        "base_model.summary()"
      ],
      "metadata": {
        "colab": {
          "base_uri": "https://localhost:8080/"
        },
        "id": "_DGi2OVbzYmv",
        "outputId": "68513727-c492-4257-8bb9-6dd92bb23c0a"
      },
      "execution_count": null,
      "outputs": [
        {
          "output_type": "stream",
          "name": "stdout",
          "text": [
            "Model: \"efficientnetb0\"\n",
            "__________________________________________________________________________________________________\n",
            " Layer (type)                   Output Shape         Param #     Connected to                     \n",
            "==================================================================================================\n",
            " input_4 (InputLayer)           [(None, None, None,  0           []                               \n",
            "                                 3)]                                                              \n",
            "                                                                                                  \n",
            " rescaling_3 (Rescaling)        (None, None, None,   0           ['input_4[0][0]']                \n",
            "                                3)                                                                \n",
            "                                                                                                  \n",
            " normalization_3 (Normalization  (None, None, None,   7          ['rescaling_3[0][0]']            \n",
            " )                              3)                                                                \n",
            "                                                                                                  \n",
            " tf.math.truediv_3 (TFOpLambda)  (None, None, None,   0          ['normalization_3[0][0]']        \n",
            "                                3)                                                                \n",
            "                                                                                                  \n",
            " stem_conv_pad (ZeroPadding2D)  (None, None, None,   0           ['tf.math.truediv_3[0][0]']      \n",
            "                                3)                                                                \n",
            "                                                                                                  \n",
            " stem_conv (Conv2D)             (None, None, None,   864         ['stem_conv_pad[0][0]']          \n",
            "                                32)                                                               \n",
            "                                                                                                  \n",
            " stem_bn (BatchNormalization)   (None, None, None,   128         ['stem_conv[0][0]']              \n",
            "                                32)                                                               \n",
            "                                                                                                  \n",
            " stem_activation (Activation)   (None, None, None,   0           ['stem_bn[0][0]']                \n",
            "                                32)                                                               \n",
            "                                                                                                  \n",
            " block1a_dwconv (DepthwiseConv2  (None, None, None,   288        ['stem_activation[0][0]']        \n",
            " D)                             32)                                                               \n",
            "                                                                                                  \n",
            " block1a_bn (BatchNormalization  (None, None, None,   128        ['block1a_dwconv[0][0]']         \n",
            " )                              32)                                                               \n",
            "                                                                                                  \n",
            " block1a_activation (Activation  (None, None, None,   0          ['block1a_bn[0][0]']             \n",
            " )                              32)                                                               \n",
            "                                                                                                  \n",
            " block1a_se_squeeze (GlobalAver  (None, 32)          0           ['block1a_activation[0][0]']     \n",
            " agePooling2D)                                                                                    \n",
            "                                                                                                  \n",
            " block1a_se_reshape (Reshape)   (None, 1, 1, 32)     0           ['block1a_se_squeeze[0][0]']     \n",
            "                                                                                                  \n",
            " block1a_se_reduce (Conv2D)     (None, 1, 1, 8)      264         ['block1a_se_reshape[0][0]']     \n",
            "                                                                                                  \n",
            " block1a_se_expand (Conv2D)     (None, 1, 1, 32)     288         ['block1a_se_reduce[0][0]']      \n",
            "                                                                                                  \n",
            " block1a_se_excite (Multiply)   (None, None, None,   0           ['block1a_activation[0][0]',     \n",
            "                                32)                               'block1a_se_expand[0][0]']      \n",
            "                                                                                                  \n",
            " block1a_project_conv (Conv2D)  (None, None, None,   512         ['block1a_se_excite[0][0]']      \n",
            "                                16)                                                               \n",
            "                                                                                                  \n",
            " block1a_project_bn (BatchNorma  (None, None, None,   64         ['block1a_project_conv[0][0]']   \n",
            " lization)                      16)                                                               \n",
            "                                                                                                  \n",
            " block2a_expand_conv (Conv2D)   (None, None, None,   1536        ['block1a_project_bn[0][0]']     \n",
            "                                96)                                                               \n",
            "                                                                                                  \n",
            " block2a_expand_bn (BatchNormal  (None, None, None,   384        ['block2a_expand_conv[0][0]']    \n",
            " ization)                       96)                                                               \n",
            "                                                                                                  \n",
            " block2a_expand_activation (Act  (None, None, None,   0          ['block2a_expand_bn[0][0]']      \n",
            " ivation)                       96)                                                               \n",
            "                                                                                                  \n",
            " block2a_dwconv_pad (ZeroPaddin  (None, None, None,   0          ['block2a_expand_activation[0][0]\n",
            " g2D)                           96)                              ']                               \n",
            "                                                                                                  \n",
            " block2a_dwconv (DepthwiseConv2  (None, None, None,   864        ['block2a_dwconv_pad[0][0]']     \n",
            " D)                             96)                                                               \n",
            "                                                                                                  \n",
            " block2a_bn (BatchNormalization  (None, None, None,   384        ['block2a_dwconv[0][0]']         \n",
            " )                              96)                                                               \n",
            "                                                                                                  \n",
            " block2a_activation (Activation  (None, None, None,   0          ['block2a_bn[0][0]']             \n",
            " )                              96)                                                               \n",
            "                                                                                                  \n",
            " block2a_se_squeeze (GlobalAver  (None, 96)          0           ['block2a_activation[0][0]']     \n",
            " agePooling2D)                                                                                    \n",
            "                                                                                                  \n",
            " block2a_se_reshape (Reshape)   (None, 1, 1, 96)     0           ['block2a_se_squeeze[0][0]']     \n",
            "                                                                                                  \n",
            " block2a_se_reduce (Conv2D)     (None, 1, 1, 4)      388         ['block2a_se_reshape[0][0]']     \n",
            "                                                                                                  \n",
            " block2a_se_expand (Conv2D)     (None, 1, 1, 96)     480         ['block2a_se_reduce[0][0]']      \n",
            "                                                                                                  \n",
            " block2a_se_excite (Multiply)   (None, None, None,   0           ['block2a_activation[0][0]',     \n",
            "                                96)                               'block2a_se_expand[0][0]']      \n",
            "                                                                                                  \n",
            " block2a_project_conv (Conv2D)  (None, None, None,   2304        ['block2a_se_excite[0][0]']      \n",
            "                                24)                                                               \n",
            "                                                                                                  \n",
            " block2a_project_bn (BatchNorma  (None, None, None,   96         ['block2a_project_conv[0][0]']   \n",
            " lization)                      24)                                                               \n",
            "                                                                                                  \n",
            " block2b_expand_conv (Conv2D)   (None, None, None,   3456        ['block2a_project_bn[0][0]']     \n",
            "                                144)                                                              \n",
            "                                                                                                  \n",
            " block2b_expand_bn (BatchNormal  (None, None, None,   576        ['block2b_expand_conv[0][0]']    \n",
            " ization)                       144)                                                              \n",
            "                                                                                                  \n",
            " block2b_expand_activation (Act  (None, None, None,   0          ['block2b_expand_bn[0][0]']      \n",
            " ivation)                       144)                                                              \n",
            "                                                                                                  \n",
            " block2b_dwconv (DepthwiseConv2  (None, None, None,   1296       ['block2b_expand_activation[0][0]\n",
            " D)                             144)                             ']                               \n",
            "                                                                                                  \n",
            " block2b_bn (BatchNormalization  (None, None, None,   576        ['block2b_dwconv[0][0]']         \n",
            " )                              144)                                                              \n",
            "                                                                                                  \n",
            " block2b_activation (Activation  (None, None, None,   0          ['block2b_bn[0][0]']             \n",
            " )                              144)                                                              \n",
            "                                                                                                  \n",
            " block2b_se_squeeze (GlobalAver  (None, 144)         0           ['block2b_activation[0][0]']     \n",
            " agePooling2D)                                                                                    \n",
            "                                                                                                  \n",
            " block2b_se_reshape (Reshape)   (None, 1, 1, 144)    0           ['block2b_se_squeeze[0][0]']     \n",
            "                                                                                                  \n",
            " block2b_se_reduce (Conv2D)     (None, 1, 1, 6)      870         ['block2b_se_reshape[0][0]']     \n",
            "                                                                                                  \n",
            " block2b_se_expand (Conv2D)     (None, 1, 1, 144)    1008        ['block2b_se_reduce[0][0]']      \n",
            "                                                                                                  \n",
            " block2b_se_excite (Multiply)   (None, None, None,   0           ['block2b_activation[0][0]',     \n",
            "                                144)                              'block2b_se_expand[0][0]']      \n",
            "                                                                                                  \n",
            " block2b_project_conv (Conv2D)  (None, None, None,   3456        ['block2b_se_excite[0][0]']      \n",
            "                                24)                                                               \n",
            "                                                                                                  \n",
            " block2b_project_bn (BatchNorma  (None, None, None,   96         ['block2b_project_conv[0][0]']   \n",
            " lization)                      24)                                                               \n",
            "                                                                                                  \n",
            " block2b_drop (Dropout)         (None, None, None,   0           ['block2b_project_bn[0][0]']     \n",
            "                                24)                                                               \n",
            "                                                                                                  \n",
            " block2b_add (Add)              (None, None, None,   0           ['block2b_drop[0][0]',           \n",
            "                                24)                               'block2a_project_bn[0][0]']     \n",
            "                                                                                                  \n",
            " block3a_expand_conv (Conv2D)   (None, None, None,   3456        ['block2b_add[0][0]']            \n",
            "                                144)                                                              \n",
            "                                                                                                  \n",
            " block3a_expand_bn (BatchNormal  (None, None, None,   576        ['block3a_expand_conv[0][0]']    \n",
            " ization)                       144)                                                              \n",
            "                                                                                                  \n",
            " block3a_expand_activation (Act  (None, None, None,   0          ['block3a_expand_bn[0][0]']      \n",
            " ivation)                       144)                                                              \n",
            "                                                                                                  \n",
            " block3a_dwconv_pad (ZeroPaddin  (None, None, None,   0          ['block3a_expand_activation[0][0]\n",
            " g2D)                           144)                             ']                               \n",
            "                                                                                                  \n",
            " block3a_dwconv (DepthwiseConv2  (None, None, None,   3600       ['block3a_dwconv_pad[0][0]']     \n",
            " D)                             144)                                                              \n",
            "                                                                                                  \n",
            " block3a_bn (BatchNormalization  (None, None, None,   576        ['block3a_dwconv[0][0]']         \n",
            " )                              144)                                                              \n",
            "                                                                                                  \n",
            " block3a_activation (Activation  (None, None, None,   0          ['block3a_bn[0][0]']             \n",
            " )                              144)                                                              \n",
            "                                                                                                  \n",
            " block3a_se_squeeze (GlobalAver  (None, 144)         0           ['block3a_activation[0][0]']     \n",
            " agePooling2D)                                                                                    \n",
            "                                                                                                  \n",
            " block3a_se_reshape (Reshape)   (None, 1, 1, 144)    0           ['block3a_se_squeeze[0][0]']     \n",
            "                                                                                                  \n",
            " block3a_se_reduce (Conv2D)     (None, 1, 1, 6)      870         ['block3a_se_reshape[0][0]']     \n",
            "                                                                                                  \n",
            " block3a_se_expand (Conv2D)     (None, 1, 1, 144)    1008        ['block3a_se_reduce[0][0]']      \n",
            "                                                                                                  \n",
            " block3a_se_excite (Multiply)   (None, None, None,   0           ['block3a_activation[0][0]',     \n",
            "                                144)                              'block3a_se_expand[0][0]']      \n",
            "                                                                                                  \n",
            " block3a_project_conv (Conv2D)  (None, None, None,   5760        ['block3a_se_excite[0][0]']      \n",
            "                                40)                                                               \n",
            "                                                                                                  \n",
            " block3a_project_bn (BatchNorma  (None, None, None,   160        ['block3a_project_conv[0][0]']   \n",
            " lization)                      40)                                                               \n",
            "                                                                                                  \n",
            " block3b_expand_conv (Conv2D)   (None, None, None,   9600        ['block3a_project_bn[0][0]']     \n",
            "                                240)                                                              \n",
            "                                                                                                  \n",
            " block3b_expand_bn (BatchNormal  (None, None, None,   960        ['block3b_expand_conv[0][0]']    \n",
            " ization)                       240)                                                              \n",
            "                                                                                                  \n",
            " block3b_expand_activation (Act  (None, None, None,   0          ['block3b_expand_bn[0][0]']      \n",
            " ivation)                       240)                                                              \n",
            "                                                                                                  \n",
            " block3b_dwconv (DepthwiseConv2  (None, None, None,   6000       ['block3b_expand_activation[0][0]\n",
            " D)                             240)                             ']                               \n",
            "                                                                                                  \n",
            " block3b_bn (BatchNormalization  (None, None, None,   960        ['block3b_dwconv[0][0]']         \n",
            " )                              240)                                                              \n",
            "                                                                                                  \n",
            " block3b_activation (Activation  (None, None, None,   0          ['block3b_bn[0][0]']             \n",
            " )                              240)                                                              \n",
            "                                                                                                  \n",
            " block3b_se_squeeze (GlobalAver  (None, 240)         0           ['block3b_activation[0][0]']     \n",
            " agePooling2D)                                                                                    \n",
            "                                                                                                  \n",
            " block3b_se_reshape (Reshape)   (None, 1, 1, 240)    0           ['block3b_se_squeeze[0][0]']     \n",
            "                                                                                                  \n",
            " block3b_se_reduce (Conv2D)     (None, 1, 1, 10)     2410        ['block3b_se_reshape[0][0]']     \n",
            "                                                                                                  \n",
            " block3b_se_expand (Conv2D)     (None, 1, 1, 240)    2640        ['block3b_se_reduce[0][0]']      \n",
            "                                                                                                  \n",
            " block3b_se_excite (Multiply)   (None, None, None,   0           ['block3b_activation[0][0]',     \n",
            "                                240)                              'block3b_se_expand[0][0]']      \n",
            "                                                                                                  \n",
            " block3b_project_conv (Conv2D)  (None, None, None,   9600        ['block3b_se_excite[0][0]']      \n",
            "                                40)                                                               \n",
            "                                                                                                  \n",
            " block3b_project_bn (BatchNorma  (None, None, None,   160        ['block3b_project_conv[0][0]']   \n",
            " lization)                      40)                                                               \n",
            "                                                                                                  \n",
            " block3b_drop (Dropout)         (None, None, None,   0           ['block3b_project_bn[0][0]']     \n",
            "                                40)                                                               \n",
            "                                                                                                  \n",
            " block3b_add (Add)              (None, None, None,   0           ['block3b_drop[0][0]',           \n",
            "                                40)                               'block3a_project_bn[0][0]']     \n",
            "                                                                                                  \n",
            " block4a_expand_conv (Conv2D)   (None, None, None,   9600        ['block3b_add[0][0]']            \n",
            "                                240)                                                              \n",
            "                                                                                                  \n",
            " block4a_expand_bn (BatchNormal  (None, None, None,   960        ['block4a_expand_conv[0][0]']    \n",
            " ization)                       240)                                                              \n",
            "                                                                                                  \n",
            " block4a_expand_activation (Act  (None, None, None,   0          ['block4a_expand_bn[0][0]']      \n",
            " ivation)                       240)                                                              \n",
            "                                                                                                  \n",
            " block4a_dwconv_pad (ZeroPaddin  (None, None, None,   0          ['block4a_expand_activation[0][0]\n",
            " g2D)                           240)                             ']                               \n",
            "                                                                                                  \n",
            " block4a_dwconv (DepthwiseConv2  (None, None, None,   2160       ['block4a_dwconv_pad[0][0]']     \n",
            " D)                             240)                                                              \n",
            "                                                                                                  \n",
            " block4a_bn (BatchNormalization  (None, None, None,   960        ['block4a_dwconv[0][0]']         \n",
            " )                              240)                                                              \n",
            "                                                                                                  \n",
            " block4a_activation (Activation  (None, None, None,   0          ['block4a_bn[0][0]']             \n",
            " )                              240)                                                              \n",
            "                                                                                                  \n",
            " block4a_se_squeeze (GlobalAver  (None, 240)         0           ['block4a_activation[0][0]']     \n",
            " agePooling2D)                                                                                    \n",
            "                                                                                                  \n",
            " block4a_se_reshape (Reshape)   (None, 1, 1, 240)    0           ['block4a_se_squeeze[0][0]']     \n",
            "                                                                                                  \n",
            " block4a_se_reduce (Conv2D)     (None, 1, 1, 10)     2410        ['block4a_se_reshape[0][0]']     \n",
            "                                                                                                  \n",
            " block4a_se_expand (Conv2D)     (None, 1, 1, 240)    2640        ['block4a_se_reduce[0][0]']      \n",
            "                                                                                                  \n",
            " block4a_se_excite (Multiply)   (None, None, None,   0           ['block4a_activation[0][0]',     \n",
            "                                240)                              'block4a_se_expand[0][0]']      \n",
            "                                                                                                  \n",
            " block4a_project_conv (Conv2D)  (None, None, None,   19200       ['block4a_se_excite[0][0]']      \n",
            "                                80)                                                               \n",
            "                                                                                                  \n",
            " block4a_project_bn (BatchNorma  (None, None, None,   320        ['block4a_project_conv[0][0]']   \n",
            " lization)                      80)                                                               \n",
            "                                                                                                  \n",
            " block4b_expand_conv (Conv2D)   (None, None, None,   38400       ['block4a_project_bn[0][0]']     \n",
            "                                480)                                                              \n",
            "                                                                                                  \n",
            " block4b_expand_bn (BatchNormal  (None, None, None,   1920       ['block4b_expand_conv[0][0]']    \n",
            " ization)                       480)                                                              \n",
            "                                                                                                  \n",
            " block4b_expand_activation (Act  (None, None, None,   0          ['block4b_expand_bn[0][0]']      \n",
            " ivation)                       480)                                                              \n",
            "                                                                                                  \n",
            " block4b_dwconv (DepthwiseConv2  (None, None, None,   4320       ['block4b_expand_activation[0][0]\n",
            " D)                             480)                             ']                               \n",
            "                                                                                                  \n",
            " block4b_bn (BatchNormalization  (None, None, None,   1920       ['block4b_dwconv[0][0]']         \n",
            " )                              480)                                                              \n",
            "                                                                                                  \n",
            " block4b_activation (Activation  (None, None, None,   0          ['block4b_bn[0][0]']             \n",
            " )                              480)                                                              \n",
            "                                                                                                  \n",
            " block4b_se_squeeze (GlobalAver  (None, 480)         0           ['block4b_activation[0][0]']     \n",
            " agePooling2D)                                                                                    \n",
            "                                                                                                  \n",
            " block4b_se_reshape (Reshape)   (None, 1, 1, 480)    0           ['block4b_se_squeeze[0][0]']     \n",
            "                                                                                                  \n",
            " block4b_se_reduce (Conv2D)     (None, 1, 1, 20)     9620        ['block4b_se_reshape[0][0]']     \n",
            "                                                                                                  \n",
            " block4b_se_expand (Conv2D)     (None, 1, 1, 480)    10080       ['block4b_se_reduce[0][0]']      \n",
            "                                                                                                  \n",
            " block4b_se_excite (Multiply)   (None, None, None,   0           ['block4b_activation[0][0]',     \n",
            "                                480)                              'block4b_se_expand[0][0]']      \n",
            "                                                                                                  \n",
            " block4b_project_conv (Conv2D)  (None, None, None,   38400       ['block4b_se_excite[0][0]']      \n",
            "                                80)                                                               \n",
            "                                                                                                  \n",
            " block4b_project_bn (BatchNorma  (None, None, None,   320        ['block4b_project_conv[0][0]']   \n",
            " lization)                      80)                                                               \n",
            "                                                                                                  \n",
            " block4b_drop (Dropout)         (None, None, None,   0           ['block4b_project_bn[0][0]']     \n",
            "                                80)                                                               \n",
            "                                                                                                  \n",
            " block4b_add (Add)              (None, None, None,   0           ['block4b_drop[0][0]',           \n",
            "                                80)                               'block4a_project_bn[0][0]']     \n",
            "                                                                                                  \n",
            " block4c_expand_conv (Conv2D)   (None, None, None,   38400       ['block4b_add[0][0]']            \n",
            "                                480)                                                              \n",
            "                                                                                                  \n",
            " block4c_expand_bn (BatchNormal  (None, None, None,   1920       ['block4c_expand_conv[0][0]']    \n",
            " ization)                       480)                                                              \n",
            "                                                                                                  \n",
            " block4c_expand_activation (Act  (None, None, None,   0          ['block4c_expand_bn[0][0]']      \n",
            " ivation)                       480)                                                              \n",
            "                                                                                                  \n",
            " block4c_dwconv (DepthwiseConv2  (None, None, None,   4320       ['block4c_expand_activation[0][0]\n",
            " D)                             480)                             ']                               \n",
            "                                                                                                  \n",
            " block4c_bn (BatchNormalization  (None, None, None,   1920       ['block4c_dwconv[0][0]']         \n",
            " )                              480)                                                              \n",
            "                                                                                                  \n",
            " block4c_activation (Activation  (None, None, None,   0          ['block4c_bn[0][0]']             \n",
            " )                              480)                                                              \n",
            "                                                                                                  \n",
            " block4c_se_squeeze (GlobalAver  (None, 480)         0           ['block4c_activation[0][0]']     \n",
            " agePooling2D)                                                                                    \n",
            "                                                                                                  \n",
            " block4c_se_reshape (Reshape)   (None, 1, 1, 480)    0           ['block4c_se_squeeze[0][0]']     \n",
            "                                                                                                  \n",
            " block4c_se_reduce (Conv2D)     (None, 1, 1, 20)     9620        ['block4c_se_reshape[0][0]']     \n",
            "                                                                                                  \n",
            " block4c_se_expand (Conv2D)     (None, 1, 1, 480)    10080       ['block4c_se_reduce[0][0]']      \n",
            "                                                                                                  \n",
            " block4c_se_excite (Multiply)   (None, None, None,   0           ['block4c_activation[0][0]',     \n",
            "                                480)                              'block4c_se_expand[0][0]']      \n",
            "                                                                                                  \n",
            " block4c_project_conv (Conv2D)  (None, None, None,   38400       ['block4c_se_excite[0][0]']      \n",
            "                                80)                                                               \n",
            "                                                                                                  \n",
            " block4c_project_bn (BatchNorma  (None, None, None,   320        ['block4c_project_conv[0][0]']   \n",
            " lization)                      80)                                                               \n",
            "                                                                                                  \n",
            " block4c_drop (Dropout)         (None, None, None,   0           ['block4c_project_bn[0][0]']     \n",
            "                                80)                                                               \n",
            "                                                                                                  \n",
            " block4c_add (Add)              (None, None, None,   0           ['block4c_drop[0][0]',           \n",
            "                                80)                               'block4b_add[0][0]']            \n",
            "                                                                                                  \n",
            " block5a_expand_conv (Conv2D)   (None, None, None,   38400       ['block4c_add[0][0]']            \n",
            "                                480)                                                              \n",
            "                                                                                                  \n",
            " block5a_expand_bn (BatchNormal  (None, None, None,   1920       ['block5a_expand_conv[0][0]']    \n",
            " ization)                       480)                                                              \n",
            "                                                                                                  \n",
            " block5a_expand_activation (Act  (None, None, None,   0          ['block5a_expand_bn[0][0]']      \n",
            " ivation)                       480)                                                              \n",
            "                                                                                                  \n",
            " block5a_dwconv (DepthwiseConv2  (None, None, None,   12000      ['block5a_expand_activation[0][0]\n",
            " D)                             480)                             ']                               \n",
            "                                                                                                  \n",
            " block5a_bn (BatchNormalization  (None, None, None,   1920       ['block5a_dwconv[0][0]']         \n",
            " )                              480)                                                              \n",
            "                                                                                                  \n",
            " block5a_activation (Activation  (None, None, None,   0          ['block5a_bn[0][0]']             \n",
            " )                              480)                                                              \n",
            "                                                                                                  \n",
            " block5a_se_squeeze (GlobalAver  (None, 480)         0           ['block5a_activation[0][0]']     \n",
            " agePooling2D)                                                                                    \n",
            "                                                                                                  \n",
            " block5a_se_reshape (Reshape)   (None, 1, 1, 480)    0           ['block5a_se_squeeze[0][0]']     \n",
            "                                                                                                  \n",
            " block5a_se_reduce (Conv2D)     (None, 1, 1, 20)     9620        ['block5a_se_reshape[0][0]']     \n",
            "                                                                                                  \n",
            " block5a_se_expand (Conv2D)     (None, 1, 1, 480)    10080       ['block5a_se_reduce[0][0]']      \n",
            "                                                                                                  \n",
            " block5a_se_excite (Multiply)   (None, None, None,   0           ['block5a_activation[0][0]',     \n",
            "                                480)                              'block5a_se_expand[0][0]']      \n",
            "                                                                                                  \n",
            " block5a_project_conv (Conv2D)  (None, None, None,   53760       ['block5a_se_excite[0][0]']      \n",
            "                                112)                                                              \n",
            "                                                                                                  \n",
            " block5a_project_bn (BatchNorma  (None, None, None,   448        ['block5a_project_conv[0][0]']   \n",
            " lization)                      112)                                                              \n",
            "                                                                                                  \n",
            " block5b_expand_conv (Conv2D)   (None, None, None,   75264       ['block5a_project_bn[0][0]']     \n",
            "                                672)                                                              \n",
            "                                                                                                  \n",
            " block5b_expand_bn (BatchNormal  (None, None, None,   2688       ['block5b_expand_conv[0][0]']    \n",
            " ization)                       672)                                                              \n",
            "                                                                                                  \n",
            " block5b_expand_activation (Act  (None, None, None,   0          ['block5b_expand_bn[0][0]']      \n",
            " ivation)                       672)                                                              \n",
            "                                                                                                  \n",
            " block5b_dwconv (DepthwiseConv2  (None, None, None,   16800      ['block5b_expand_activation[0][0]\n",
            " D)                             672)                             ']                               \n",
            "                                                                                                  \n",
            " block5b_bn (BatchNormalization  (None, None, None,   2688       ['block5b_dwconv[0][0]']         \n",
            " )                              672)                                                              \n",
            "                                                                                                  \n",
            " block5b_activation (Activation  (None, None, None,   0          ['block5b_bn[0][0]']             \n",
            " )                              672)                                                              \n",
            "                                                                                                  \n",
            " block5b_se_squeeze (GlobalAver  (None, 672)         0           ['block5b_activation[0][0]']     \n",
            " agePooling2D)                                                                                    \n",
            "                                                                                                  \n",
            " block5b_se_reshape (Reshape)   (None, 1, 1, 672)    0           ['block5b_se_squeeze[0][0]']     \n",
            "                                                                                                  \n",
            " block5b_se_reduce (Conv2D)     (None, 1, 1, 28)     18844       ['block5b_se_reshape[0][0]']     \n",
            "                                                                                                  \n",
            " block5b_se_expand (Conv2D)     (None, 1, 1, 672)    19488       ['block5b_se_reduce[0][0]']      \n",
            "                                                                                                  \n",
            " block5b_se_excite (Multiply)   (None, None, None,   0           ['block5b_activation[0][0]',     \n",
            "                                672)                              'block5b_se_expand[0][0]']      \n",
            "                                                                                                  \n",
            " block5b_project_conv (Conv2D)  (None, None, None,   75264       ['block5b_se_excite[0][0]']      \n",
            "                                112)                                                              \n",
            "                                                                                                  \n",
            " block5b_project_bn (BatchNorma  (None, None, None,   448        ['block5b_project_conv[0][0]']   \n",
            " lization)                      112)                                                              \n",
            "                                                                                                  \n",
            " block5b_drop (Dropout)         (None, None, None,   0           ['block5b_project_bn[0][0]']     \n",
            "                                112)                                                              \n",
            "                                                                                                  \n",
            " block5b_add (Add)              (None, None, None,   0           ['block5b_drop[0][0]',           \n",
            "                                112)                              'block5a_project_bn[0][0]']     \n",
            "                                                                                                  \n",
            " block5c_expand_conv (Conv2D)   (None, None, None,   75264       ['block5b_add[0][0]']            \n",
            "                                672)                                                              \n",
            "                                                                                                  \n",
            " block5c_expand_bn (BatchNormal  (None, None, None,   2688       ['block5c_expand_conv[0][0]']    \n",
            " ization)                       672)                                                              \n",
            "                                                                                                  \n",
            " block5c_expand_activation (Act  (None, None, None,   0          ['block5c_expand_bn[0][0]']      \n",
            " ivation)                       672)                                                              \n",
            "                                                                                                  \n",
            " block5c_dwconv (DepthwiseConv2  (None, None, None,   16800      ['block5c_expand_activation[0][0]\n",
            " D)                             672)                             ']                               \n",
            "                                                                                                  \n",
            " block5c_bn (BatchNormalization  (None, None, None,   2688       ['block5c_dwconv[0][0]']         \n",
            " )                              672)                                                              \n",
            "                                                                                                  \n",
            " block5c_activation (Activation  (None, None, None,   0          ['block5c_bn[0][0]']             \n",
            " )                              672)                                                              \n",
            "                                                                                                  \n",
            " block5c_se_squeeze (GlobalAver  (None, 672)         0           ['block5c_activation[0][0]']     \n",
            " agePooling2D)                                                                                    \n",
            "                                                                                                  \n",
            " block5c_se_reshape (Reshape)   (None, 1, 1, 672)    0           ['block5c_se_squeeze[0][0]']     \n",
            "                                                                                                  \n",
            " block5c_se_reduce (Conv2D)     (None, 1, 1, 28)     18844       ['block5c_se_reshape[0][0]']     \n",
            "                                                                                                  \n",
            " block5c_se_expand (Conv2D)     (None, 1, 1, 672)    19488       ['block5c_se_reduce[0][0]']      \n",
            "                                                                                                  \n",
            " block5c_se_excite (Multiply)   (None, None, None,   0           ['block5c_activation[0][0]',     \n",
            "                                672)                              'block5c_se_expand[0][0]']      \n",
            "                                                                                                  \n",
            " block5c_project_conv (Conv2D)  (None, None, None,   75264       ['block5c_se_excite[0][0]']      \n",
            "                                112)                                                              \n",
            "                                                                                                  \n",
            " block5c_project_bn (BatchNorma  (None, None, None,   448        ['block5c_project_conv[0][0]']   \n",
            " lization)                      112)                                                              \n",
            "                                                                                                  \n",
            " block5c_drop (Dropout)         (None, None, None,   0           ['block5c_project_bn[0][0]']     \n",
            "                                112)                                                              \n",
            "                                                                                                  \n",
            " block5c_add (Add)              (None, None, None,   0           ['block5c_drop[0][0]',           \n",
            "                                112)                              'block5b_add[0][0]']            \n",
            "                                                                                                  \n",
            " block6a_expand_conv (Conv2D)   (None, None, None,   75264       ['block5c_add[0][0]']            \n",
            "                                672)                                                              \n",
            "                                                                                                  \n",
            " block6a_expand_bn (BatchNormal  (None, None, None,   2688       ['block6a_expand_conv[0][0]']    \n",
            " ization)                       672)                                                              \n",
            "                                                                                                  \n",
            " block6a_expand_activation (Act  (None, None, None,   0          ['block6a_expand_bn[0][0]']      \n",
            " ivation)                       672)                                                              \n",
            "                                                                                                  \n",
            " block6a_dwconv_pad (ZeroPaddin  (None, None, None,   0          ['block6a_expand_activation[0][0]\n",
            " g2D)                           672)                             ']                               \n",
            "                                                                                                  \n",
            " block6a_dwconv (DepthwiseConv2  (None, None, None,   16800      ['block6a_dwconv_pad[0][0]']     \n",
            " D)                             672)                                                              \n",
            "                                                                                                  \n",
            " block6a_bn (BatchNormalization  (None, None, None,   2688       ['block6a_dwconv[0][0]']         \n",
            " )                              672)                                                              \n",
            "                                                                                                  \n",
            " block6a_activation (Activation  (None, None, None,   0          ['block6a_bn[0][0]']             \n",
            " )                              672)                                                              \n",
            "                                                                                                  \n",
            " block6a_se_squeeze (GlobalAver  (None, 672)         0           ['block6a_activation[0][0]']     \n",
            " agePooling2D)                                                                                    \n",
            "                                                                                                  \n",
            " block6a_se_reshape (Reshape)   (None, 1, 1, 672)    0           ['block6a_se_squeeze[0][0]']     \n",
            "                                                                                                  \n",
            " block6a_se_reduce (Conv2D)     (None, 1, 1, 28)     18844       ['block6a_se_reshape[0][0]']     \n",
            "                                                                                                  \n",
            " block6a_se_expand (Conv2D)     (None, 1, 1, 672)    19488       ['block6a_se_reduce[0][0]']      \n",
            "                                                                                                  \n",
            " block6a_se_excite (Multiply)   (None, None, None,   0           ['block6a_activation[0][0]',     \n",
            "                                672)                              'block6a_se_expand[0][0]']      \n",
            "                                                                                                  \n",
            " block6a_project_conv (Conv2D)  (None, None, None,   129024      ['block6a_se_excite[0][0]']      \n",
            "                                192)                                                              \n",
            "                                                                                                  \n",
            " block6a_project_bn (BatchNorma  (None, None, None,   768        ['block6a_project_conv[0][0]']   \n",
            " lization)                      192)                                                              \n",
            "                                                                                                  \n",
            " block6b_expand_conv (Conv2D)   (None, None, None,   221184      ['block6a_project_bn[0][0]']     \n",
            "                                1152)                                                             \n",
            "                                                                                                  \n",
            " block6b_expand_bn (BatchNormal  (None, None, None,   4608       ['block6b_expand_conv[0][0]']    \n",
            " ization)                       1152)                                                             \n",
            "                                                                                                  \n",
            " block6b_expand_activation (Act  (None, None, None,   0          ['block6b_expand_bn[0][0]']      \n",
            " ivation)                       1152)                                                             \n",
            "                                                                                                  \n",
            " block6b_dwconv (DepthwiseConv2  (None, None, None,   28800      ['block6b_expand_activation[0][0]\n",
            " D)                             1152)                            ']                               \n",
            "                                                                                                  \n",
            " block6b_bn (BatchNormalization  (None, None, None,   4608       ['block6b_dwconv[0][0]']         \n",
            " )                              1152)                                                             \n",
            "                                                                                                  \n",
            " block6b_activation (Activation  (None, None, None,   0          ['block6b_bn[0][0]']             \n",
            " )                              1152)                                                             \n",
            "                                                                                                  \n",
            " block6b_se_squeeze (GlobalAver  (None, 1152)        0           ['block6b_activation[0][0]']     \n",
            " agePooling2D)                                                                                    \n",
            "                                                                                                  \n",
            " block6b_se_reshape (Reshape)   (None, 1, 1, 1152)   0           ['block6b_se_squeeze[0][0]']     \n",
            "                                                                                                  \n",
            " block6b_se_reduce (Conv2D)     (None, 1, 1, 48)     55344       ['block6b_se_reshape[0][0]']     \n",
            "                                                                                                  \n",
            " block6b_se_expand (Conv2D)     (None, 1, 1, 1152)   56448       ['block6b_se_reduce[0][0]']      \n",
            "                                                                                                  \n",
            " block6b_se_excite (Multiply)   (None, None, None,   0           ['block6b_activation[0][0]',     \n",
            "                                1152)                             'block6b_se_expand[0][0]']      \n",
            "                                                                                                  \n",
            " block6b_project_conv (Conv2D)  (None, None, None,   221184      ['block6b_se_excite[0][0]']      \n",
            "                                192)                                                              \n",
            "                                                                                                  \n",
            " block6b_project_bn (BatchNorma  (None, None, None,   768        ['block6b_project_conv[0][0]']   \n",
            " lization)                      192)                                                              \n",
            "                                                                                                  \n",
            " block6b_drop (Dropout)         (None, None, None,   0           ['block6b_project_bn[0][0]']     \n",
            "                                192)                                                              \n",
            "                                                                                                  \n",
            " block6b_add (Add)              (None, None, None,   0           ['block6b_drop[0][0]',           \n",
            "                                192)                              'block6a_project_bn[0][0]']     \n",
            "                                                                                                  \n",
            " block6c_expand_conv (Conv2D)   (None, None, None,   221184      ['block6b_add[0][0]']            \n",
            "                                1152)                                                             \n",
            "                                                                                                  \n",
            " block6c_expand_bn (BatchNormal  (None, None, None,   4608       ['block6c_expand_conv[0][0]']    \n",
            " ization)                       1152)                                                             \n",
            "                                                                                                  \n",
            " block6c_expand_activation (Act  (None, None, None,   0          ['block6c_expand_bn[0][0]']      \n",
            " ivation)                       1152)                                                             \n",
            "                                                                                                  \n",
            " block6c_dwconv (DepthwiseConv2  (None, None, None,   28800      ['block6c_expand_activation[0][0]\n",
            " D)                             1152)                            ']                               \n",
            "                                                                                                  \n",
            " block6c_bn (BatchNormalization  (None, None, None,   4608       ['block6c_dwconv[0][0]']         \n",
            " )                              1152)                                                             \n",
            "                                                                                                  \n",
            " block6c_activation (Activation  (None, None, None,   0          ['block6c_bn[0][0]']             \n",
            " )                              1152)                                                             \n",
            "                                                                                                  \n",
            " block6c_se_squeeze (GlobalAver  (None, 1152)        0           ['block6c_activation[0][0]']     \n",
            " agePooling2D)                                                                                    \n",
            "                                                                                                  \n",
            " block6c_se_reshape (Reshape)   (None, 1, 1, 1152)   0           ['block6c_se_squeeze[0][0]']     \n",
            "                                                                                                  \n",
            " block6c_se_reduce (Conv2D)     (None, 1, 1, 48)     55344       ['block6c_se_reshape[0][0]']     \n",
            "                                                                                                  \n",
            " block6c_se_expand (Conv2D)     (None, 1, 1, 1152)   56448       ['block6c_se_reduce[0][0]']      \n",
            "                                                                                                  \n",
            " block6c_se_excite (Multiply)   (None, None, None,   0           ['block6c_activation[0][0]',     \n",
            "                                1152)                             'block6c_se_expand[0][0]']      \n",
            "                                                                                                  \n",
            " block6c_project_conv (Conv2D)  (None, None, None,   221184      ['block6c_se_excite[0][0]']      \n",
            "                                192)                                                              \n",
            "                                                                                                  \n",
            " block6c_project_bn (BatchNorma  (None, None, None,   768        ['block6c_project_conv[0][0]']   \n",
            " lization)                      192)                                                              \n",
            "                                                                                                  \n",
            " block6c_drop (Dropout)         (None, None, None,   0           ['block6c_project_bn[0][0]']     \n",
            "                                192)                                                              \n",
            "                                                                                                  \n",
            " block6c_add (Add)              (None, None, None,   0           ['block6c_drop[0][0]',           \n",
            "                                192)                              'block6b_add[0][0]']            \n",
            "                                                                                                  \n",
            " block6d_expand_conv (Conv2D)   (None, None, None,   221184      ['block6c_add[0][0]']            \n",
            "                                1152)                                                             \n",
            "                                                                                                  \n",
            " block6d_expand_bn (BatchNormal  (None, None, None,   4608       ['block6d_expand_conv[0][0]']    \n",
            " ization)                       1152)                                                             \n",
            "                                                                                                  \n",
            " block6d_expand_activation (Act  (None, None, None,   0          ['block6d_expand_bn[0][0]']      \n",
            " ivation)                       1152)                                                             \n",
            "                                                                                                  \n",
            " block6d_dwconv (DepthwiseConv2  (None, None, None,   28800      ['block6d_expand_activation[0][0]\n",
            " D)                             1152)                            ']                               \n",
            "                                                                                                  \n",
            " block6d_bn (BatchNormalization  (None, None, None,   4608       ['block6d_dwconv[0][0]']         \n",
            " )                              1152)                                                             \n",
            "                                                                                                  \n",
            " block6d_activation (Activation  (None, None, None,   0          ['block6d_bn[0][0]']             \n",
            " )                              1152)                                                             \n",
            "                                                                                                  \n",
            " block6d_se_squeeze (GlobalAver  (None, 1152)        0           ['block6d_activation[0][0]']     \n",
            " agePooling2D)                                                                                    \n",
            "                                                                                                  \n",
            " block6d_se_reshape (Reshape)   (None, 1, 1, 1152)   0           ['block6d_se_squeeze[0][0]']     \n",
            "                                                                                                  \n",
            " block6d_se_reduce (Conv2D)     (None, 1, 1, 48)     55344       ['block6d_se_reshape[0][0]']     \n",
            "                                                                                                  \n",
            " block6d_se_expand (Conv2D)     (None, 1, 1, 1152)   56448       ['block6d_se_reduce[0][0]']      \n",
            "                                                                                                  \n",
            " block6d_se_excite (Multiply)   (None, None, None,   0           ['block6d_activation[0][0]',     \n",
            "                                1152)                             'block6d_se_expand[0][0]']      \n",
            "                                                                                                  \n",
            " block6d_project_conv (Conv2D)  (None, None, None,   221184      ['block6d_se_excite[0][0]']      \n",
            "                                192)                                                              \n",
            "                                                                                                  \n",
            " block6d_project_bn (BatchNorma  (None, None, None,   768        ['block6d_project_conv[0][0]']   \n",
            " lization)                      192)                                                              \n",
            "                                                                                                  \n",
            " block6d_drop (Dropout)         (None, None, None,   0           ['block6d_project_bn[0][0]']     \n",
            "                                192)                                                              \n",
            "                                                                                                  \n",
            " block6d_add (Add)              (None, None, None,   0           ['block6d_drop[0][0]',           \n",
            "                                192)                              'block6c_add[0][0]']            \n",
            "                                                                                                  \n",
            " block7a_expand_conv (Conv2D)   (None, None, None,   221184      ['block6d_add[0][0]']            \n",
            "                                1152)                                                             \n",
            "                                                                                                  \n",
            " block7a_expand_bn (BatchNormal  (None, None, None,   4608       ['block7a_expand_conv[0][0]']    \n",
            " ization)                       1152)                                                             \n",
            "                                                                                                  \n",
            " block7a_expand_activation (Act  (None, None, None,   0          ['block7a_expand_bn[0][0]']      \n",
            " ivation)                       1152)                                                             \n",
            "                                                                                                  \n",
            " block7a_dwconv (DepthwiseConv2  (None, None, None,   10368      ['block7a_expand_activation[0][0]\n",
            " D)                             1152)                            ']                               \n",
            "                                                                                                  \n",
            " block7a_bn (BatchNormalization  (None, None, None,   4608       ['block7a_dwconv[0][0]']         \n",
            " )                              1152)                                                             \n",
            "                                                                                                  \n",
            " block7a_activation (Activation  (None, None, None,   0          ['block7a_bn[0][0]']             \n",
            " )                              1152)                                                             \n",
            "                                                                                                  \n",
            " block7a_se_squeeze (GlobalAver  (None, 1152)        0           ['block7a_activation[0][0]']     \n",
            " agePooling2D)                                                                                    \n",
            "                                                                                                  \n",
            " block7a_se_reshape (Reshape)   (None, 1, 1, 1152)   0           ['block7a_se_squeeze[0][0]']     \n",
            "                                                                                                  \n",
            " block7a_se_reduce (Conv2D)     (None, 1, 1, 48)     55344       ['block7a_se_reshape[0][0]']     \n",
            "                                                                                                  \n",
            " block7a_se_expand (Conv2D)     (None, 1, 1, 1152)   56448       ['block7a_se_reduce[0][0]']      \n",
            "                                                                                                  \n",
            " block7a_se_excite (Multiply)   (None, None, None,   0           ['block7a_activation[0][0]',     \n",
            "                                1152)                             'block7a_se_expand[0][0]']      \n",
            "                                                                                                  \n",
            " block7a_project_conv (Conv2D)  (None, None, None,   368640      ['block7a_se_excite[0][0]']      \n",
            "                                320)                                                              \n",
            "                                                                                                  \n",
            " block7a_project_bn (BatchNorma  (None, None, None,   1280       ['block7a_project_conv[0][0]']   \n",
            " lization)                      320)                                                              \n",
            "                                                                                                  \n",
            " top_conv (Conv2D)              (None, None, None,   409600      ['block7a_project_bn[0][0]']     \n",
            "                                1280)                                                             \n",
            "                                                                                                  \n",
            " top_bn (BatchNormalization)    (None, None, None,   5120        ['top_conv[0][0]']               \n",
            "                                1280)                                                             \n",
            "                                                                                                  \n",
            " top_activation (Activation)    (None, None, None,   0           ['top_bn[0][0]']                 \n",
            "                                1280)                                                             \n",
            "                                                                                                  \n",
            "==================================================================================================\n",
            "Total params: 4,049,571\n",
            "Trainable params: 0\n",
            "Non-trainable params: 4,049,571\n",
            "__________________________________________________________________________________________________\n"
          ]
        }
      ]
    },
    {
      "cell_type": "code",
      "source": [
        "# How about a summary of our whole model?\n",
        "model_0.summary()"
      ],
      "metadata": {
        "colab": {
          "base_uri": "https://localhost:8080/"
        },
        "id": "I0kUskPmzvcJ",
        "outputId": "59d5927b-5bfc-47d7-bd04-ec13ac33c02b"
      },
      "execution_count": null,
      "outputs": [
        {
          "output_type": "stream",
          "name": "stdout",
          "text": [
            "Model: \"model_3\"\n",
            "_________________________________________________________________\n",
            " Layer (type)                Output Shape              Param #   \n",
            "=================================================================\n",
            " input_layer (InputLayer)    [(None, 224, 224, 3)]     0         \n",
            "                                                                 \n",
            " efficientnetb0 (Functional)  (None, None, None, 1280)  4049571  \n",
            "                                                                 \n",
            " global_average_pooling_laye  (None, 1280)             0         \n",
            " r (GlobalAveragePooling2D)                                      \n",
            "                                                                 \n",
            " output_layers (Dense)       (None, 10)                12810     \n",
            "                                                                 \n",
            "=================================================================\n",
            "Total params: 4,062,381\n",
            "Trainable params: 12,810\n",
            "Non-trainable params: 4,049,571\n",
            "_________________________________________________________________\n"
          ]
        }
      ]
    },
    {
      "cell_type": "code",
      "source": [
        "# Check out our models training curves\n",
        "plot_loss_curves(history_10_percent)"
      ],
      "metadata": {
        "colab": {
          "base_uri": "https://localhost:8080/",
          "height": 573
        },
        "id": "USR_Zhi7z-kQ",
        "outputId": "4143941c-32d4-4c85-885b-cb59b6e1dc9c"
      },
      "execution_count": null,
      "outputs": [
        {
          "output_type": "display_data",
          "data": {
            "text/plain": [
              "<Figure size 432x288 with 1 Axes>"
            ],
            "image/png": "[encoded data removed]"
          },
          "metadata": {
            "needs_background": "light"
          }
        },
        {
          "output_type": "display_data",
          "data": {
            "text/plain": [
              "<Figure size 432x288 with 1 Axes>"
            ],
            "image/png": "[encoded data removed]"
          },
          "metadata": {
            "needs_background": "light"
          }
        }
      ]
    },
    {
      "cell_type": "markdown",
      "source": [
        "## Getting a feature vector from a trained model\n",
        "\n",
        "lets demonstrate Global Average pooling layer 2D\n",
        "\n",
        "We have a tensor after our model goes through base_model of shape (None,7,7,1280) .\n",
        "\n",
        "But then when it passes through GlobalAveragePooling2D it turns into (None,1280).\n",
        "\n",
        "Lets use a similar shaped tensor of (1,4,4,3) and then pass it to GlobalAveragePooling2D"
      ],
      "metadata": {
        "id": "rnRR4D-60YfY"
      }
    },
    {
      "cell_type": "code",
      "source": [
        "# Define the input shape\n",
        "input_shape = (1,4,4,3)\n",
        "\n",
        "# Create a random tensor\n",
        "tf.random.set_seed(42)\n",
        "input_tensor = tf.random.normal(input_shape)\n",
        "print(f\"Random input tensor:\\n{input_tensor}\\n\")\n",
        "\n",
        "# Pass the random tensor through a global average pooling 2D layer\n",
        "global_average_pooled_tensor = tf.keras.layers.GlobalAveragePooling2D()(input_tensor)\n",
        "print(f\"2D global average pooled random tensor:\\n{global_average_pooled_tensor}\\n\")"
      ],
      "metadata": {
        "colab": {
          "base_uri": "https://localhost:8080/"
        },
        "id": "jD5Lr_I80uxJ",
        "outputId": "a9878160-7704-460f-c74b-cd0b14453c4d"
      },
      "execution_count": null,
      "outputs": [
        {
          "output_type": "stream",
          "name": "stdout",
          "text": [
            "Random input tensor:\n",
            "[[[[ 0.3274685  -0.8426258   0.3194337 ]\n",
            "   [-1.4075519  -2.3880599  -1.0392479 ]\n",
            "   [-0.5573232   0.539707    1.6994323 ]\n",
            "   [ 0.28893656 -1.5066116  -0.2645474 ]]\n",
            "\n",
            "  [[-0.59722406 -1.9171132  -0.62044144]\n",
            "   [ 0.8504023  -0.40604794 -3.0258412 ]\n",
            "   [ 0.9058464   0.29855987 -0.22561555]\n",
            "   [-0.7616443  -1.8917141  -0.93847126]]\n",
            "\n",
            "  [[ 0.77852213 -0.47338897  0.97772694]\n",
            "   [ 0.24694404  0.20573747 -0.5256233 ]\n",
            "   [ 0.32410017  0.02545409 -0.10638497]\n",
            "   [-0.6369475   1.1603122   0.2507359 ]]\n",
            "\n",
            "  [[-0.41728503  0.4012578  -1.4145443 ]\n",
            "   [-0.5931857  -1.6617213   0.33567193]\n",
            "   [ 0.10815629  0.23479682 -0.56668764]\n",
            "   [-0.35819843  0.88698614  0.52744764]]]]\n",
            "\n",
            "2D global average pooled random tensor:\n",
            "[[-0.09368646 -0.45840448 -0.2885598 ]]\n",
            "\n"
          ]
        }
      ]
    },
    {
      "cell_type": "markdown",
      "source": [
        "## Running a series of transfer learning experiments\n",
        "\n",
        "We have seen the incredible results transferlearning can get with 10 percent of data lets see what we get with 1 percent of data\n",
        "\n",
        "1. model_1: Use feature extraction transfer learning on 1% of the training data with data augmentation.\n",
        "2. model_2: Use feature extraction transfer learning on 10% of the training data with data augmentation.\n",
        "3. model_3: Use fine-tuning transfer learning on 10% of the training data with data augmentation.\n",
        "4. model_4: Use fine-tuning transfer learning on 100% of the training data with data augmentation."
      ],
      "metadata": {
        "id": "vKBleEza3KZz"
      }
    },
    {
      "cell_type": "code",
      "source": [
        "# Download and unzip data\n",
        "!wget https://storage.googleapis.com/ztm_tf_course/food_vision/10_food_classes_1_percent.zip\n",
        "\n",
        "unzip_data(\"10_food_classes_1_percent.zip\")"
      ],
      "metadata": {
        "colab": {
          "base_uri": "https://localhost:8080/"
        },
        "id": "zEeHv2rM7NRW",
        "outputId": "3080e913-4616-4dd4-bd53-54bb69010006"
      },
      "execution_count": null,
      "outputs": [
        {
          "output_type": "stream",
          "name": "stdout",
          "text": [
            "--2023-01-05 14:01:27--  https://storage.googleapis.com/ztm_tf_course/food_vision/10_food_classes_1_percent.zip\n",
            "Resolving storage.googleapis.com (storage.googleapis.com)... 108.177.119.128, 108.177.127.128, 142.250.145.128, ...\n",
            "Connecting to storage.googleapis.com (storage.googleapis.com)|108.177.119.128|:443... connected.\n",
            "HTTP request sent, awaiting response... 200 OK\n",
            "Length: 133612354 (127M) [application/zip]\n",
            "Saving to: ‘10_food_classes_1_percent.zip.1’\n",
            "\n",
            "10_food_classes_1_p 100%[===================>] 127.42M  35.4MB/s    in 4.2s    \n",
            "\n",
            "2023-01-05 14:01:31 (30.6 MB/s) - ‘10_food_classes_1_percent.zip.1’ saved [133612354/133612354]\n",
            "\n"
          ]
        }
      ]
    },
    {
      "cell_type": "code",
      "source": [
        "train_dir_1_percent = \"10_food_classes_1_percent/train\"\n",
        "test_dir_1_percent = \"10_food_classes_1_percent/test\""
      ],
      "metadata": {
        "id": "0dhN6U_m8MG5"
      },
      "execution_count": null,
      "outputs": []
    },
    {
      "cell_type": "code",
      "source": [
        "# How many images are we working with\n",
        "walk_through_dir(\"10_food_classes_1_percent\")"
      ],
      "metadata": {
        "colab": {
          "base_uri": "https://localhost:8080/"
        },
        "id": "qh_jrmcM8oVI",
        "outputId": "bb7cfee3-dfc4-472e-9317-2e6e59332b64"
      },
      "execution_count": null,
      "outputs": [
        {
          "output_type": "stream",
          "name": "stdout",
          "text": [
            "There are 2 directories and 0 images in '10_food_classes_1_percent'.\n",
            "There are 10 directories and 0 images in '10_food_classes_1_percent/train'.\n",
            "There are 0 directories and 7 images in '10_food_classes_1_percent/train/ramen'.\n",
            "There are 0 directories and 7 images in '10_food_classes_1_percent/train/hamburger'.\n",
            "There are 0 directories and 7 images in '10_food_classes_1_percent/train/pizza'.\n",
            "There are 0 directories and 7 images in '10_food_classes_1_percent/train/steak'.\n",
            "There are 0 directories and 7 images in '10_food_classes_1_percent/train/sushi'.\n",
            "There are 0 directories and 7 images in '10_food_classes_1_percent/train/chicken_curry'.\n",
            "There are 0 directories and 7 images in '10_food_classes_1_percent/train/ice_cream'.\n",
            "There are 0 directories and 7 images in '10_food_classes_1_percent/train/chicken_wings'.\n",
            "There are 0 directories and 7 images in '10_food_classes_1_percent/train/grilled_salmon'.\n",
            "There are 0 directories and 7 images in '10_food_classes_1_percent/train/fried_rice'.\n",
            "There are 10 directories and 0 images in '10_food_classes_1_percent/test'.\n",
            "There are 0 directories and 250 images in '10_food_classes_1_percent/test/ramen'.\n",
            "There are 0 directories and 250 images in '10_food_classes_1_percent/test/hamburger'.\n",
            "There are 0 directories and 250 images in '10_food_classes_1_percent/test/pizza'.\n",
            "There are 0 directories and 250 images in '10_food_classes_1_percent/test/steak'.\n",
            "There are 0 directories and 250 images in '10_food_classes_1_percent/test/sushi'.\n",
            "There are 0 directories and 250 images in '10_food_classes_1_percent/test/chicken_curry'.\n",
            "There are 0 directories and 250 images in '10_food_classes_1_percent/test/ice_cream'.\n",
            "There are 0 directories and 250 images in '10_food_classes_1_percent/test/chicken_wings'.\n",
            "There are 0 directories and 250 images in '10_food_classes_1_percent/test/grilled_salmon'.\n",
            "There are 0 directories and 250 images in '10_food_classes_1_percent/test/fried_rice'.\n"
          ]
        }
      ]
    },
    {
      "cell_type": "code",
      "source": [
        "# Set up data loaders\n",
        "IMG_SIZE = (224,224)\n",
        "train_data_1_percent = tf.keras.preprocessing.image_dataset_from_directory(train_dir_1_percent,\n",
        "                                                                           label_mode = \"categorical\",\n",
        "                                                                           image_size = IMG_SIZE,\n",
        "                                                                           batch_size =BATCH_SIZE)# defaul =32\n",
        "test_data_1_percent = tf.keras.preprocessing.image_dataset_from_directory(test_dir_1_percent,\n",
        "                                                                           label_mode = \"categorical\",\n",
        "                                                                           image_size = IMG_SIZE,\n",
        "                                                                           batch_size =BATCH_SIZE)\n"
      ],
      "metadata": {
        "colab": {
          "base_uri": "https://localhost:8080/"
        },
        "id": "G2ZL6E1D8vyY",
        "outputId": "8a828530-60b8-47d1-a653-bb8be3c8bb09"
      },
      "execution_count": null,
      "outputs": [
        {
          "output_type": "stream",
          "name": "stdout",
          "text": [
            "Found 70 files belonging to 10 classes.\n",
            "Found 2500 files belonging to 10 classes.\n"
          ]
        }
      ]
    },
    {
      "cell_type": "markdown",
      "source": [
        "## Adding data augmentation right into model\n",
        " We can add augmentation in model layer"
      ],
      "metadata": {
        "id": "MqN-59Wn98xS"
      }
    },
    {
      "cell_type": "code",
      "source": [
        "import tensorflow as tf\n",
        "from tensorflow.keras import layers\n",
        "from tensorflow.keras.layers.experimental import preprocessing\n",
        "\n",
        "# Create data augmentation stage with horizontal flipping rotation , zooms etc\n",
        "\n",
        "data_augmentation = tf.keras.Sequential([\n",
        "    preprocessing.RandomFlip(\"horizontal\"),\n",
        "    preprocessing.RandomRotation(0.2),\n",
        "    preprocessing.RandomZoom(0.2),\n",
        "    preprocessing.RandomHeight(0.2),\n",
        "    preprocessing.RandomWidth(0.2),\n",
        "    #preprocessing.Rescale(1./255) # Keep for models like ResNet50V2 but EfficientNet have it builtin\n",
        "],name = \"data_augmentation\")\n"
      ],
      "metadata": {
        "id": "4obbpK_C-v8R"
      },
      "execution_count": null,
      "outputs": []
    },
    {
      "cell_type": "markdown",
      "source": [
        "### Visulaize our data augmentation layer (and see what happens to our data)\n"
      ],
      "metadata": {
        "id": "nyleRf66A38r"
      }
    },
    {
      "cell_type": "code",
      "source": [
        "# View a random image\n",
        "import matplotlib.pyplot as plt\n",
        "import matplotlib.image as mpimg\n",
        "import os\n",
        "import random\n",
        "target_class = random.choice(train_data_1_percent.class_names) # choose a random class\n",
        "target_dir = \"10_food_classes_1_percent/train/\" + target_class # create the target directory\n",
        "random_image = random.choice(os.listdir(target_dir)) # choose a random image from target directory\n",
        "random_image_path = target_dir + \"/\" + random_image # create the choosen random image path\n",
        "img = mpimg.imread(random_image_path) # read in the chosen target image\n",
        "plt.imshow(img) # plot the target image\n",
        "plt.title(f\"Original random image from class: {target_class}\")\n",
        "plt.axis(False); # turn off the axes\n",
        "\n",
        "# Augment the image\n",
        "augmented_img = data_augmentation(tf.expand_dims(img, axis=0),training=True) # data augmentation model requires shape (None, height, width, 3)\n",
        "plt.figure()\n",
        "plt.imshow(tf.squeeze(augmented_img)/255.) # requires normalization after augmentation\n",
        "plt.title(f\"Augmented random image from class: {target_class}\")\n",
        "plt.axis(False);"
      ],
      "metadata": {
        "colab": {
          "base_uri": "https://localhost:8080/",
          "height": 511
        },
        "id": "nARJ2INMDGth",
        "outputId": "3a1c80b4-0c24-47f1-a3d6-1cb7bdd50283"
      },
      "execution_count": null,
      "outputs": [
        {
          "output_type": "display_data",
          "data": {
            "text/plain": [
              "<Figure size 432x288 with 1 Axes>"
            ],
            "image/png": "[encoded data removed]"
          },
          "metadata": {
            "needs_background": "light"
          }
        },
        {
          "output_type": "display_data",
          "data": {
            "text/plain": [
              "<Figure size 432x288 with 1 Axes>"
            ],
            "image/png": "[encoded data removed]"
          },
          "metadata": {
            "needs_background": "light"
          }
        }
      ]
    },
    {
      "cell_type": "markdown",
      "source": [
        "## Model_1 Feature extraction transfer learning on 1 percent of data"
      ],
      "metadata": {
        "id": "RH-n95NqE336"
      }
    },
    {
      "cell_type": "code",
      "source": [
        "# Setup the input shape and base model freezing  the base model layers\n",
        "input_shape = (224,224,3)\n",
        "base_model = tf.keras.applications.EfficientNetB0(include_top=False)\n",
        "base_model.trainable = False\n",
        "# Creating input layer\n",
        "inputs = layers.Input(shape = input_shape, name =\"input_layer\")\n",
        "\n",
        "# Add in data augmentation Sequential model as layer\n",
        "x = data_augmentation(inputs)\n",
        "\n",
        "# Give base model inputs (after augmentation) and dont train it \n",
        "x = base_model(x,training=False)\n",
        "\n",
        "# Pool the outputfeatures of the base model\n",
        "x = layers.GlobalAveragePooling2D()(x)\n",
        "\n",
        "# Put a dense layer on as output\n",
        "outputs = layers.Dense(10,activation=\"softmax\",name=\"output_layer\")(x)\n",
        "\n",
        "# Make a model using inputs and outputs\n",
        "model_1 = tf.keras.Model(inputs,outputs)\n",
        "\n",
        "# Compile the model\n",
        "model_1.compile(loss=\"categorical_crossentropy\",\n",
        "              optimizer=tf.keras.optimizers.Adam(),\n",
        "              metrics=[\"accuracy\"])\n",
        "\n",
        "# Fit the model\n",
        "history_1_percent = model_1.fit(train_data_1_percent,\n",
        "                    epochs=5,\n",
        "                    steps_per_epoch=len(train_data_1_percent),\n",
        "                    validation_data=test_data_1_percent,\n",
        "                    validation_steps=int(0.25* len(test_data_1_percent)), # validate for less steps\n",
        "                    # Track model training logs\n",
        "                    callbacks=[create_tensorboard_callback(dir_name=\"transfer_learning\", experiment_name=\"1_percent_data_aug\")])"
      ],
      "metadata": {
        "colab": {
          "base_uri": "https://localhost:8080/"
        },
        "id": "Ck8WgEX8F4Tp",
        "outputId": "9748e7d2-0813-48d9-8df9-1384e35f79f1"
      },
      "execution_count": null,
      "outputs": [
        {
          "output_type": "stream",
          "name": "stdout",
          "text": [
            "Saving TensorBoard log files to: transfer_learning/1_percent_data_aug/20230105-140135\n",
            "Epoch 1/5\n",
            "3/3 [==============================] - 11s 2s/step - loss: 2.4335 - accuracy: 0.1000 - val_loss: 2.2362 - val_accuracy: 0.1908\n",
            "Epoch 2/5\n",
            "3/3 [==============================] - 3s 1s/step - loss: 2.1656 - accuracy: 0.3286 - val_loss: 2.1146 - val_accuracy: 0.2451\n",
            "Epoch 3/5\n",
            "3/3 [==============================] - 3s 1s/step - loss: 1.9762 - accuracy: 0.3714 - val_loss: 2.0119 - val_accuracy: 0.2928\n",
            "Epoch 4/5\n",
            "3/3 [==============================] - 3s 1s/step - loss: 1.8217 - accuracy: 0.5000 - val_loss: 1.9222 - val_accuracy: 0.3618\n",
            "Epoch 5/5\n",
            "3/3 [==============================] - 3s 1s/step - loss: 1.6859 - accuracy: 0.5714 - val_loss: 1.8345 - val_accuracy: 0.4474\n"
          ]
        }
      ]
    },
    {
      "cell_type": "code",
      "source": [
        "# Check out our model summary()\n",
        "model_1.summary()"
      ],
      "metadata": {
        "colab": {
          "base_uri": "https://localhost:8080/"
        },
        "id": "SwLdsrPNGDMS",
        "outputId": "af4bf28c-08d2-4aec-b839-90423855412e"
      },
      "execution_count": null,
      "outputs": [
        {
          "output_type": "stream",
          "name": "stdout",
          "text": [
            "Model: \"model_4\"\n",
            "_________________________________________________________________\n",
            " Layer (type)                Output Shape              Param #   \n",
            "=================================================================\n",
            " input_layer (InputLayer)    [(None, 224, 224, 3)]     0         \n",
            "                                                                 \n",
            " data_augmentation (Sequenti  (None, None, None, 3)    0         \n",
            " al)                                                             \n",
            "                                                                 \n",
            " efficientnetb0 (Functional)  (None, None, None, 1280)  4049571  \n",
            "                                                                 \n",
            " global_average_pooling2d_4   (None, 1280)             0         \n",
            " (GlobalAveragePooling2D)                                        \n",
            "                                                                 \n",
            " output_layer (Dense)        (None, 10)                12810     \n",
            "                                                                 \n",
            "=================================================================\n",
            "Total params: 4,062,381\n",
            "Trainable params: 12,810\n",
            "Non-trainable params: 4,049,571\n",
            "_________________________________________________________________\n"
          ]
        }
      ]
    },
    {
      "cell_type": "code",
      "source": [
        "# Evaluate on the full test dataset\n",
        "results_1_percent_data_aug = model_1.evaluate(test_data)\n",
        "results_1_percent_data_aug"
      ],
      "metadata": {
        "colab": {
          "base_uri": "https://localhost:8080/"
        },
        "id": "utZvPBzgJ3DB",
        "outputId": "db3dcc93-2ed8-4a51-d4f6-b803a09cd7ae"
      },
      "execution_count": null,
      "outputs": [
        {
          "output_type": "stream",
          "name": "stdout",
          "text": [
            "79/79 [==============================] - 6s 73ms/step - loss: 1.8033 - accuracy: 0.4744\n"
          ]
        },
        {
          "output_type": "execute_result",
          "data": {
            "text/plain": [
              "[1.8032808303833008, 0.47440001368522644]"
            ]
          },
          "metadata": {},
          "execution_count": 98
        }
      ]
    },
    {
      "cell_type": "code",
      "source": [
        "# How do the model with one percent of the data and loss curve look\n",
        "plot_loss_curves(history_1_percent)"
      ],
      "metadata": {
        "colab": {
          "base_uri": "https://localhost:8080/",
          "height": 573
        },
        "id": "FHFtutd5KPWY",
        "outputId": "53454a87-7fbd-40fd-9ccb-bf770e2188ae"
      },
      "execution_count": null,
      "outputs": [
        {
          "output_type": "display_data",
          "data": {
            "text/plain": [
              "<Figure size 432x288 with 1 Axes>"
            ],
            "image/png": "[encoded data removed]"
          },
          "metadata": {
            "needs_background": "light"
          }
        },
        {
          "output_type": "display_data",
          "data": {
            "text/plain": [
              "<Figure size 432x288 with 1 Axes>"
            ],
            "image/png": "[encoded data removed]"
          },
          "metadata": {
            "needs_background": "light"
          }
        }
      ]
    },
    {
      "cell_type": "markdown",
      "source": [
        "# Model2: feature extraction transfer learning model with 10% of data and data augmentation"
      ],
      "metadata": {
        "id": "ytCS_zzAKiD6"
      }
    },
    {
      "cell_type": "code",
      "source": [
        "# Get 10 percent of data\n",
        "#!wget https://storage.googleapis.com/ztm_tf_course/food_vision/10_food_classes_10_percent.zip\n",
        "#unzip_data(10_food_classes_10_percent)\n",
        "train_dir_10_percent = \"10_food_classes_10_percent/train\"\n",
        "test_dir = \"10_food_classes_10_percent/test\""
      ],
      "metadata": {
        "id": "Y2qV2ik03KMV"
      },
      "execution_count": null,
      "outputs": []
    },
    {
      "cell_type": "code",
      "source": [
        "# Set data inputs\n",
        "import tensorflow as tf\n",
        "IMG_SIZE = (224,224)\n",
        "train_data_10_percent = tf.keras.preprocessing.image_dataset_from_directory(train_dir_10_percent,\n",
        "                                                                            label_mode = \"categorical\",\n",
        "                                                                            image_size = IMG_SIZE)\n",
        "test_data = tf.keras.preprocessing.image_dataset_from_directory(test_dir,\n",
        "                                                                label_mode = \"categorical\",\n",
        "                                                                image_size = IMG_SIZE)"
      ],
      "metadata": {
        "colab": {
          "base_uri": "https://localhost:8080/"
        },
        "id": "7ZgjWM_l4bhf",
        "outputId": "b550b986-a925-4a4b-ca1a-b80ff22d3d74"
      },
      "execution_count": null,
      "outputs": [
        {
          "output_type": "stream",
          "name": "stdout",
          "text": [
            "Found 750 files belonging to 10 classes.\n",
            "Found 2500 files belonging to 10 classes.\n"
          ]
        }
      ]
    },
    {
      "cell_type": "code",
      "source": [
        "walk_through_dir(\"10_food_classes_10_percent\")"
      ],
      "metadata": {
        "colab": {
          "base_uri": "https://localhost:8080/"
        },
        "id": "rZMGb9ac5EwG",
        "outputId": "e103e7d4-1ff3-48b2-fa2f-b5b64fbca24e"
      },
      "execution_count": null,
      "outputs": [
        {
          "output_type": "stream",
          "name": "stdout",
          "text": [
            "There are 2 directories and 0 images in '10_food_classes_10_percent'.\n",
            "There are 10 directories and 0 images in '10_food_classes_10_percent/train'.\n",
            "There are 0 directories and 75 images in '10_food_classes_10_percent/train/ramen'.\n",
            "There are 0 directories and 75 images in '10_food_classes_10_percent/train/hamburger'.\n",
            "There are 0 directories and 75 images in '10_food_classes_10_percent/train/pizza'.\n",
            "There are 0 directories and 75 images in '10_food_classes_10_percent/train/steak'.\n",
            "There are 0 directories and 75 images in '10_food_classes_10_percent/train/sushi'.\n",
            "There are 0 directories and 75 images in '10_food_classes_10_percent/train/chicken_curry'.\n",
            "There are 0 directories and 75 images in '10_food_classes_10_percent/train/ice_cream'.\n",
            "There are 0 directories and 75 images in '10_food_classes_10_percent/train/chicken_wings'.\n",
            "There are 0 directories and 75 images in '10_food_classes_10_percent/train/grilled_salmon'.\n",
            "There are 0 directories and 75 images in '10_food_classes_10_percent/train/fried_rice'.\n",
            "There are 10 directories and 0 images in '10_food_classes_10_percent/test'.\n",
            "There are 0 directories and 250 images in '10_food_classes_10_percent/test/ramen'.\n",
            "There are 0 directories and 250 images in '10_food_classes_10_percent/test/hamburger'.\n",
            "There are 0 directories and 250 images in '10_food_classes_10_percent/test/pizza'.\n",
            "There are 0 directories and 250 images in '10_food_classes_10_percent/test/steak'.\n",
            "There are 0 directories and 250 images in '10_food_classes_10_percent/test/sushi'.\n",
            "There are 0 directories and 250 images in '10_food_classes_10_percent/test/chicken_curry'.\n",
            "There are 0 directories and 250 images in '10_food_classes_10_percent/test/ice_cream'.\n",
            "There are 0 directories and 250 images in '10_food_classes_10_percent/test/chicken_wings'.\n",
            "There are 0 directories and 250 images in '10_food_classes_10_percent/test/grilled_salmon'.\n",
            "There are 0 directories and 250 images in '10_food_classes_10_percent/test/fried_rice'.\n"
          ]
        }
      ]
    },
    {
      "cell_type": "code",
      "source": [
        "import tensorflow as tf"
      ],
      "metadata": {
        "id": "m06dfDDE6z3X"
      },
      "execution_count": null,
      "outputs": []
    },
    {
      "cell_type": "code",
      "source": [
        "import tensorflow as tf\n",
        "from tensorflow.keras import layers\n",
        "from tensorflow.keras.layers.experimental import preprocessing\n",
        "\n",
        "# Create data augmentation stage with horizontal flipping rotation , zooms etc\n",
        "\n",
        "data_augmentation = tf.keras.Sequential([\n",
        "    preprocessing.RandomFlip(\"horizontal\"),\n",
        "    preprocessing.RandomRotation(0.2),\n",
        "    preprocessing.RandomZoom(0.2),\n",
        "    preprocessing.RandomHeight(0.2),\n",
        "    preprocessing.RandomWidth(0.2),\n",
        "    #preprocessing.Rescale(1./255) # Keep for models like ResNet50V2 but EfficientNet have it builtin\n",
        "],name = \"data_augmentation\")\n"
      ],
      "metadata": {
        "id": "Jcylh8HO5Zk8"
      },
      "execution_count": null,
      "outputs": []
    },
    {
      "cell_type": "markdown",
      "source": [
        "### Creating a model Checkpoint call back"
      ],
      "metadata": {
        "id": "u1kI8OVm-ucQ"
      }
    },
    {
      "cell_type": "code",
      "source": [
        "# Set check point path \n",
        "checkpoint_path = \"ten_percent_model_checkpoints_weights/checkpoint.ckpt\"\n",
        "\n",
        "# Create a modelcheckpoint\n",
        "model_check_points = tf.keras.callbacks.ModelCheckpoint(filepath = checkpoint_path,\n",
        "                                                 save_weights_only=True,\n",
        "                                                 save_best_only = False,\n",
        "                                                 save_freq = \"epoch\",\n",
        "                                                 verbose = 1)"
      ],
      "metadata": {
        "id": "mut-UhT3-17c"
      },
      "execution_count": null,
      "outputs": []
    },
    {
      "cell_type": "code",
      "source": [
        "# Setup the input shape and base model freezing  the base model layers\n",
        "input_shape = (224,224,3)\n",
        "base_model = tf.keras.applications.EfficientNetB0(include_top=False)\n",
        "base_model.trainable = False\n",
        "# Creating input layer\n",
        "inputs = layers.Input(shape = input_shape, name =\"input_layer\")\n",
        "\n",
        "# Add in data augmentation Sequential model as layer\n",
        "x = data_augmentation(inputs)\n",
        "\n",
        "# Give base model inputs (after augmentation) and dont train it \n",
        "x = base_model(x,training=False)\n",
        "\n",
        "# Pool the outputfeatures of the base model\n",
        "x = layers.GlobalAveragePooling2D()(x)\n",
        "\n",
        "# Put a dense layer on as output\n",
        "outputs = layers.Dense(10,activation=\"softmax\",name=\"output_layer\")(x)\n",
        "\n",
        "# Make a model using inputs and outputs\n",
        "model_2 = tf.keras.Model(inputs,outputs)\n",
        "\n",
        "# Compile the model\n",
        "model_2.compile(loss=\"categorical_crossentropy\",\n",
        "              optimizer=tf.keras.optimizers.Adam(),\n",
        "              metrics=[\"accuracy\"])\n",
        "\n",
        "# Fit the model\n",
        "history_10_percent = model_2.fit(train_data_10_percent,\n",
        "                    epochs=5,\n",
        "                    steps_per_epoch=len(train_data_10_percent),\n",
        "                    validation_data=test_data,\n",
        "                    validation_steps=int(0.25* len(test_data)), # validate for less steps\n",
        "                    # Track model training logs\n",
        "                    callbacks=[create_tensorboard_callback(dir_name=\"transfer_learning\", experiment_name=\"10_percent_data_aug\"),\n",
        "                               model_check_points])"
      ],
      "metadata": {
        "colab": {
          "base_uri": "https://localhost:8080/"
        },
        "id": "FGq3Nixy6v8_",
        "outputId": "2a145f25-215d-4a7a-92a9-a9cfa8412d0e"
      },
      "execution_count": null,
      "outputs": [
        {
          "output_type": "stream",
          "name": "stdout",
          "text": [
            "Saving TensorBoard log files to: transfer_learning/10_percent_data_aug/20230105-140210\n",
            "Epoch 1/5\n",
            "24/24 [==============================] - ETA: 0s - loss: 1.9917 - accuracy: 0.3587\n",
            "Epoch 1: saving model to ten_percent_model_checkpoints_weights/checkpoint.ckpt\n",
            "24/24 [==============================] - 16s 412ms/step - loss: 1.9917 - accuracy: 0.3587 - val_loss: 1.4355 - val_accuracy: 0.7171\n",
            "Epoch 2/5\n",
            "24/24 [==============================] - ETA: 0s - loss: 1.2863 - accuracy: 0.7080\n",
            "Epoch 2: saving model to ten_percent_model_checkpoints_weights/checkpoint.ckpt\n",
            "24/24 [==============================] - 9s 373ms/step - loss: 1.2863 - accuracy: 0.7080 - val_loss: 0.9983 - val_accuracy: 0.7664\n",
            "Epoch 3/5\n",
            "24/24 [==============================] - ETA: 0s - loss: 1.0020 - accuracy: 0.7707\n",
            "Epoch 3: saving model to ten_percent_model_checkpoints_weights/checkpoint.ckpt\n",
            "24/24 [==============================] - 9s 360ms/step - loss: 1.0020 - accuracy: 0.7707 - val_loss: 0.7691 - val_accuracy: 0.8207\n",
            "Epoch 4/5\n",
            "24/24 [==============================] - ETA: 0s - loss: 0.8282 - accuracy: 0.8027\n",
            "Epoch 4: saving model to ten_percent_model_checkpoints_weights/checkpoint.ckpt\n",
            "24/24 [==============================] - 8s 337ms/step - loss: 0.8282 - accuracy: 0.8027 - val_loss: 0.6751 - val_accuracy: 0.8339\n",
            "Epoch 5/5\n",
            "24/24 [==============================] - ETA: 0s - loss: 0.7315 - accuracy: 0.8173\n",
            "Epoch 5: saving model to ten_percent_model_checkpoints_weights/checkpoint.ckpt\n",
            "24/24 [==============================] - 8s 323ms/step - loss: 0.7315 - accuracy: 0.8173 - val_loss: 0.6208 - val_accuracy: 0.8322\n"
          ]
        }
      ]
    },
    {
      "cell_type": "code",
      "source": [
        "# What were model 0 result\n",
        "model_0.evaluate(test_data)"
      ],
      "metadata": {
        "colab": {
          "base_uri": "https://localhost:8080/"
        },
        "id": "AseGT1499esk",
        "outputId": "d2d21772-c508-4b5c-d741-bd2c11174a62"
      },
      "execution_count": null,
      "outputs": [
        {
          "output_type": "stream",
          "name": "stdout",
          "text": [
            "79/79 [==============================] - 7s 73ms/step - loss: 0.5608 - accuracy: 0.8604\n"
          ]
        },
        {
          "output_type": "execute_result",
          "data": {
            "text/plain": [
              "[0.5607993602752686, 0.8604000210762024]"
            ]
          },
          "metadata": {},
          "execution_count": 107
        }
      ]
    },
    {
      "cell_type": "code",
      "source": [
        "results_10_percent_data_aug = model_2.evaluate(test_data)\n",
        "results_10_percent_data_aug"
      ],
      "metadata": {
        "colab": {
          "base_uri": "https://localhost:8080/"
        },
        "id": "2DN5YFaLCA6D",
        "outputId": "9fa1979f-0bc0-460b-a85d-129ce005a9fb"
      },
      "execution_count": null,
      "outputs": [
        {
          "output_type": "stream",
          "name": "stdout",
          "text": [
            "79/79 [==============================] - 7s 86ms/step - loss: 0.6220 - accuracy: 0.8400\n"
          ]
        },
        {
          "output_type": "execute_result",
          "data": {
            "text/plain": [
              "[0.6219929456710815, 0.8399999737739563]"
            ]
          },
          "metadata": {},
          "execution_count": 108
        }
      ]
    },
    {
      "cell_type": "code",
      "source": [
        "# Plot model loss cure\n",
        "plot_loss_curves(history_10_percent)"
      ],
      "metadata": {
        "colab": {
          "base_uri": "https://localhost:8080/",
          "height": 573
        },
        "id": "MDWqFd4TCFkj",
        "outputId": "90499139-0ae1-432a-eea0-3fd1e126926d"
      },
      "execution_count": null,
      "outputs": [
        {
          "output_type": "display_data",
          "data": {
            "text/plain": [
              "<Figure size 432x288 with 1 Axes>"
            ],
            "image/png": "[encoded data removed]"
          },
          "metadata": {
            "needs_background": "light"
          }
        },
        {
          "output_type": "display_data",
          "data": {
            "text/plain": [
              "<Figure size 432x288 with 1 Axes>"
            ],
            "image/png": "[encoded data removed]"
          },
          "metadata": {
            "needs_background": "light"
          }
        }
      ]
    },
    {
      "cell_type": "markdown",
      "source": [
        "### Loading in checkpointed weights returs a model to a specific checkpoint"
      ],
      "metadata": {
        "id": "BmizLzJYHuoJ"
      }
    },
    {
      "cell_type": "code",
      "source": [
        "# Load in saved model weights and evaluate\n",
        "model_2.load_weights(checkpoint_path)"
      ],
      "metadata": {
        "colab": {
          "base_uri": "https://localhost:8080/"
        },
        "id": "XfHTkoKaIhaJ",
        "outputId": "c1a1a80d-12d9-4ecc-bbf4-dbcd8f2a4f34"
      },
      "execution_count": null,
      "outputs": [
        {
          "output_type": "execute_result",
          "data": {
            "text/plain": [
              "<tensorflow.python.training.tracking.util.CheckpointLoadStatus at 0x7fe287ecc910>"
            ]
          },
          "metadata": {},
          "execution_count": 110
        }
      ]
    },
    {
      "cell_type": "code",
      "source": [
        "#Evaluate model_2 with loaded weights\n",
        "loaded_weights_model_results = model_2.evaluate(test_data)"
      ],
      "metadata": {
        "colab": {
          "base_uri": "https://localhost:8080/"
        },
        "id": "Exgxlk_hIxK5",
        "outputId": "035c7797-a49e-4575-e7a9-67bf6ef6a29c"
      },
      "execution_count": null,
      "outputs": [
        {
          "output_type": "stream",
          "name": "stdout",
          "text": [
            "79/79 [==============================] - 6s 75ms/step - loss: 0.6220 - accuracy: 0.8400\n"
          ]
        }
      ]
    },
    {
      "cell_type": "code",
      "source": [
        "# If the result from our previously evaluated model_2 match the loaded weights every thing has gone well\n",
        "results_10_percent_data_aug == loaded_weights_model_results"
      ],
      "metadata": {
        "colab": {
          "base_uri": "https://localhost:8080/"
        },
        "id": "0xrO4CzXI9F5",
        "outputId": "0bd9e2f3-5f4e-4201-8281-3716fed435e0"
      },
      "execution_count": null,
      "outputs": [
        {
          "output_type": "execute_result",
          "data": {
            "text/plain": [
              "True"
            ]
          },
          "metadata": {},
          "execution_count": 112
        }
      ]
    },
    {
      "cell_type": "code",
      "source": [
        "# Check to see if loaded model results are very close to our loaded model results\n",
        "import numpy as np \n",
        "np.isclose(np.array(results_10_percent_data_aug),np.array(loaded_weights_model_results))"
      ],
      "metadata": {
        "colab": {
          "base_uri": "https://localhost:8080/"
        },
        "id": "OVwgucPaJWZR",
        "outputId": "a1f8a764-e1fe-4619-f21f-d9eadebbfe7c"
      },
      "execution_count": null,
      "outputs": [
        {
          "output_type": "execute_result",
          "data": {
            "text/plain": [
              "array([ True,  True])"
            ]
          },
          "metadata": {},
          "execution_count": 113
        }
      ]
    },
    {
      "cell_type": "code",
      "source": [
        "# Check the difference between the two results\n",
        "print(np.array(results_10_percent_data_aug)-np.array(loaded_weights_model_results))"
      ],
      "metadata": {
        "colab": {
          "base_uri": "https://localhost:8080/"
        },
        "id": "nOwMT3L4J_CZ",
        "outputId": "3853f4b9-c342-4cf1-c98c-28c8de92b181"
      },
      "execution_count": null,
      "outputs": [
        {
          "output_type": "stream",
          "name": "stdout",
          "text": [
            "[0. 0.]\n"
          ]
        }
      ]
    },
    {
      "cell_type": "markdown",
      "source": [
        "## Model 3: Fine tunning  an existing model on 10 percent of data\n",
        "it usually works well after pretraining a model for some epochs"
      ],
      "metadata": {
        "id": "fnELDP2uKOMh"
      }
    },
    {
      "cell_type": "code",
      "source": [
        "# Layers in loaded model\n",
        "model_2.layers"
      ],
      "metadata": {
        "colab": {
          "base_uri": "https://localhost:8080/"
        },
        "id": "eYsb_EGjLT8B",
        "outputId": "b27e5578-1d6e-4443-9ff0-ec5fdfa9ca15"
      },
      "execution_count": null,
      "outputs": [
        {
          "output_type": "execute_result",
          "data": {
            "text/plain": [
              "[<keras.engine.input_layer.InputLayer at 0x7fe287efad90>,\n",
              " <keras.engine.sequential.Sequential at 0x7fe283f46220>,\n",
              " <keras.engine.functional.Functional at 0x7fe283c6c310>,\n",
              " <keras.layers.pooling.global_average_pooling2d.GlobalAveragePooling2D at 0x7fe283c42220>,\n",
              " <keras.layers.core.dense.Dense at 0x7fe283c420a0>]"
            ]
          },
          "metadata": {},
          "execution_count": 115
        }
      ]
    },
    {
      "cell_type": "code",
      "source": [
        "# Are these layers trainable\n",
        "for layer in model_2.layers:\n",
        "  print(layer,layer.trainable)"
      ],
      "metadata": {
        "colab": {
          "base_uri": "https://localhost:8080/"
        },
        "id": "RtLGB8OFL_TU",
        "outputId": "95fad8e0-129f-47a4-dbef-6f4c836f9377"
      },
      "execution_count": null,
      "outputs": [
        {
          "output_type": "stream",
          "name": "stdout",
          "text": [
            "<keras.engine.input_layer.InputLayer object at 0x7fe287efad90> True\n",
            "<keras.engine.sequential.Sequential object at 0x7fe283f46220> True\n",
            "<keras.engine.functional.Functional object at 0x7fe283c6c310> False\n",
            "<keras.layers.pooling.global_average_pooling2d.GlobalAveragePooling2D object at 0x7fe283c42220> True\n",
            "<keras.layers.core.dense.Dense object at 0x7fe283c420a0> True\n"
          ]
        }
      ]
    },
    {
      "cell_type": "code",
      "source": [
        "for i,layer in enumerate(model_2.layers[2].layers):\n",
        "  print(i,layer.name,layer.trainable)"
      ],
      "metadata": {
        "colab": {
          "base_uri": "https://localhost:8080/"
        },
        "id": "EsNUrOU1MIoK",
        "outputId": "7a5d52f1-881b-46b4-b8a1-241e075dee72"
      },
      "execution_count": null,
      "outputs": [
        {
          "output_type": "stream",
          "name": "stdout",
          "text": [
            "0 input_6 False\n",
            "1 rescaling_5 False\n",
            "2 normalization_5 False\n",
            "3 tf.math.truediv_5 False\n",
            "4 stem_conv_pad False\n",
            "5 stem_conv False\n",
            "6 stem_bn False\n",
            "7 stem_activation False\n",
            "8 block1a_dwconv False\n",
            "9 block1a_bn False\n",
            "10 block1a_activation False\n",
            "11 block1a_se_squeeze False\n",
            "12 block1a_se_reshape False\n",
            "13 block1a_se_reduce False\n",
            "14 block1a_se_expand False\n",
            "15 block1a_se_excite False\n",
            "16 block1a_project_conv False\n",
            "17 block1a_project_bn False\n",
            "18 block2a_expand_conv False\n",
            "19 block2a_expand_bn False\n",
            "20 block2a_expand_activation False\n",
            "21 block2a_dwconv_pad False\n",
            "22 block2a_dwconv False\n",
            "23 block2a_bn False\n",
            "24 block2a_activation False\n",
            "25 block2a_se_squeeze False\n",
            "26 block2a_se_reshape False\n",
            "27 block2a_se_reduce False\n",
            "28 block2a_se_expand False\n",
            "29 block2a_se_excite False\n",
            "30 block2a_project_conv False\n",
            "31 block2a_project_bn False\n",
            "32 block2b_expand_conv False\n",
            "33 block2b_expand_bn False\n",
            "34 block2b_expand_activation False\n",
            "35 block2b_dwconv False\n",
            "36 block2b_bn False\n",
            "37 block2b_activation False\n",
            "38 block2b_se_squeeze False\n",
            "39 block2b_se_reshape False\n",
            "40 block2b_se_reduce False\n",
            "41 block2b_se_expand False\n",
            "42 block2b_se_excite False\n",
            "43 block2b_project_conv False\n",
            "44 block2b_project_bn False\n",
            "45 block2b_drop False\n",
            "46 block2b_add False\n",
            "47 block3a_expand_conv False\n",
            "48 block3a_expand_bn False\n",
            "49 block3a_expand_activation False\n",
            "50 block3a_dwconv_pad False\n",
            "51 block3a_dwconv False\n",
            "52 block3a_bn False\n",
            "53 block3a_activation False\n",
            "54 block3a_se_squeeze False\n",
            "55 block3a_se_reshape False\n",
            "56 block3a_se_reduce False\n",
            "57 block3a_se_expand False\n",
            "58 block3a_se_excite False\n",
            "59 block3a_project_conv False\n",
            "60 block3a_project_bn False\n",
            "61 block3b_expand_conv False\n",
            "62 block3b_expand_bn False\n",
            "63 block3b_expand_activation False\n",
            "64 block3b_dwconv False\n",
            "65 block3b_bn False\n",
            "66 block3b_activation False\n",
            "67 block3b_se_squeeze False\n",
            "68 block3b_se_reshape False\n",
            "69 block3b_se_reduce False\n",
            "70 block3b_se_expand False\n",
            "71 block3b_se_excite False\n",
            "72 block3b_project_conv False\n",
            "73 block3b_project_bn False\n",
            "74 block3b_drop False\n",
            "75 block3b_add False\n",
            "76 block4a_expand_conv False\n",
            "77 block4a_expand_bn False\n",
            "78 block4a_expand_activation False\n",
            "79 block4a_dwconv_pad False\n",
            "80 block4a_dwconv False\n",
            "81 block4a_bn False\n",
            "82 block4a_activation False\n",
            "83 block4a_se_squeeze False\n",
            "84 block4a_se_reshape False\n",
            "85 block4a_se_reduce False\n",
            "86 block4a_se_expand False\n",
            "87 block4a_se_excite False\n",
            "88 block4a_project_conv False\n",
            "89 block4a_project_bn False\n",
            "90 block4b_expand_conv False\n",
            "91 block4b_expand_bn False\n",
            "92 block4b_expand_activation False\n",
            "93 block4b_dwconv False\n",
            "94 block4b_bn False\n",
            "95 block4b_activation False\n",
            "96 block4b_se_squeeze False\n",
            "97 block4b_se_reshape False\n",
            "98 block4b_se_reduce False\n",
            "99 block4b_se_expand False\n",
            "100 block4b_se_excite False\n",
            "101 block4b_project_conv False\n",
            "102 block4b_project_bn False\n",
            "103 block4b_drop False\n",
            "104 block4b_add False\n",
            "105 block4c_expand_conv False\n",
            "106 block4c_expand_bn False\n",
            "107 block4c_expand_activation False\n",
            "108 block4c_dwconv False\n",
            "109 block4c_bn False\n",
            "110 block4c_activation False\n",
            "111 block4c_se_squeeze False\n",
            "112 block4c_se_reshape False\n",
            "113 block4c_se_reduce False\n",
            "114 block4c_se_expand False\n",
            "115 block4c_se_excite False\n",
            "116 block4c_project_conv False\n",
            "117 block4c_project_bn False\n",
            "118 block4c_drop False\n",
            "119 block4c_add False\n",
            "120 block5a_expand_conv False\n",
            "121 block5a_expand_bn False\n",
            "122 block5a_expand_activation False\n",
            "123 block5a_dwconv False\n",
            "124 block5a_bn False\n",
            "125 block5a_activation False\n",
            "126 block5a_se_squeeze False\n",
            "127 block5a_se_reshape False\n",
            "128 block5a_se_reduce False\n",
            "129 block5a_se_expand False\n",
            "130 block5a_se_excite False\n",
            "131 block5a_project_conv False\n",
            "132 block5a_project_bn False\n",
            "133 block5b_expand_conv False\n",
            "134 block5b_expand_bn False\n",
            "135 block5b_expand_activation False\n",
            "136 block5b_dwconv False\n",
            "137 block5b_bn False\n",
            "138 block5b_activation False\n",
            "139 block5b_se_squeeze False\n",
            "140 block5b_se_reshape False\n",
            "141 block5b_se_reduce False\n",
            "142 block5b_se_expand False\n",
            "143 block5b_se_excite False\n",
            "144 block5b_project_conv False\n",
            "145 block5b_project_bn False\n",
            "146 block5b_drop False\n",
            "147 block5b_add False\n",
            "148 block5c_expand_conv False\n",
            "149 block5c_expand_bn False\n",
            "150 block5c_expand_activation False\n",
            "151 block5c_dwconv False\n",
            "152 block5c_bn False\n",
            "153 block5c_activation False\n",
            "154 block5c_se_squeeze False\n",
            "155 block5c_se_reshape False\n",
            "156 block5c_se_reduce False\n",
            "157 block5c_se_expand False\n",
            "158 block5c_se_excite False\n",
            "159 block5c_project_conv False\n",
            "160 block5c_project_bn False\n",
            "161 block5c_drop False\n",
            "162 block5c_add False\n",
            "163 block6a_expand_conv False\n",
            "164 block6a_expand_bn False\n",
            "165 block6a_expand_activation False\n",
            "166 block6a_dwconv_pad False\n",
            "167 block6a_dwconv False\n",
            "168 block6a_bn False\n",
            "169 block6a_activation False\n",
            "170 block6a_se_squeeze False\n",
            "171 block6a_se_reshape False\n",
            "172 block6a_se_reduce False\n",
            "173 block6a_se_expand False\n",
            "174 block6a_se_excite False\n",
            "175 block6a_project_conv False\n",
            "176 block6a_project_bn False\n",
            "177 block6b_expand_conv False\n",
            "178 block6b_expand_bn False\n",
            "179 block6b_expand_activation False\n",
            "180 block6b_dwconv False\n",
            "181 block6b_bn False\n",
            "182 block6b_activation False\n",
            "183 block6b_se_squeeze False\n",
            "184 block6b_se_reshape False\n",
            "185 block6b_se_reduce False\n",
            "186 block6b_se_expand False\n",
            "187 block6b_se_excite False\n",
            "188 block6b_project_conv False\n",
            "189 block6b_project_bn False\n",
            "190 block6b_drop False\n",
            "191 block6b_add False\n",
            "192 block6c_expand_conv False\n",
            "193 block6c_expand_bn False\n",
            "194 block6c_expand_activation False\n",
            "195 block6c_dwconv False\n",
            "196 block6c_bn False\n",
            "197 block6c_activation False\n",
            "198 block6c_se_squeeze False\n",
            "199 block6c_se_reshape False\n",
            "200 block6c_se_reduce False\n",
            "201 block6c_se_expand False\n",
            "202 block6c_se_excite False\n",
            "203 block6c_project_conv False\n",
            "204 block6c_project_bn False\n",
            "205 block6c_drop False\n",
            "206 block6c_add False\n",
            "207 block6d_expand_conv False\n",
            "208 block6d_expand_bn False\n",
            "209 block6d_expand_activation False\n",
            "210 block6d_dwconv False\n",
            "211 block6d_bn False\n",
            "212 block6d_activation False\n",
            "213 block6d_se_squeeze False\n",
            "214 block6d_se_reshape False\n",
            "215 block6d_se_reduce False\n",
            "216 block6d_se_expand False\n",
            "217 block6d_se_excite False\n",
            "218 block6d_project_conv False\n",
            "219 block6d_project_bn False\n",
            "220 block6d_drop False\n",
            "221 block6d_add False\n",
            "222 block7a_expand_conv False\n",
            "223 block7a_expand_bn False\n",
            "224 block7a_expand_activation False\n",
            "225 block7a_dwconv False\n",
            "226 block7a_bn False\n",
            "227 block7a_activation False\n",
            "228 block7a_se_squeeze False\n",
            "229 block7a_se_reshape False\n",
            "230 block7a_se_reduce False\n",
            "231 block7a_se_expand False\n",
            "232 block7a_se_excite False\n",
            "233 block7a_project_conv False\n",
            "234 block7a_project_bn False\n",
            "235 top_conv False\n",
            "236 top_bn False\n",
            "237 top_activation False\n"
          ]
        }
      ]
    },
    {
      "cell_type": "code",
      "source": [
        "# How many trainable variable are there in our base model\n",
        "print(len(model_2.layers[2].trainable_variables))"
      ],
      "metadata": {
        "colab": {
          "base_uri": "https://localhost:8080/"
        },
        "id": "SDz5TOTBMf0g",
        "outputId": "822698d2-d6f4-429e-e11c-d900bd43193e"
      },
      "execution_count": null,
      "outputs": [
        {
          "output_type": "stream",
          "name": "stdout",
          "text": [
            "0\n"
          ]
        }
      ]
    },
    {
      "cell_type": "code",
      "source": [
        "# To begin fine tuning lets start by setting last 10 layer of our model trainable\n",
        "base_model.trainable = True\n",
        "\n",
        "# Freze all laers except the last 10\n",
        "for layers in base_model.layers[:-10]:\n",
        "  layers.trainable = False\n",
        "# Recompile the model\n",
        "model_2.compile(loss=\"categorical_crossentropy\",\n",
        "                optimizer = tf.keras.optimizers.Adam(lr =0.0001),\n",
        "                metrics = [\"accuracy\"])"
      ],
      "metadata": {
        "colab": {
          "base_uri": "https://localhost:8080/"
        },
        "id": "q_PufEkhNJzw",
        "outputId": "dbf3864c-4e0d-4b0e-ea70-227400457a92"
      },
      "execution_count": null,
      "outputs": [
        {
          "output_type": "stream",
          "name": "stderr",
          "text": [
            "/usr/local/lib/python3.8/dist-packages/keras/optimizers/optimizer_v2/adam.py:110: UserWarning: The `lr` argument is deprecated, use `learning_rate` instead.\n",
            "  super(Adam, self).__init__(name, **kwargs)\n"
          ]
        }
      ]
    },
    {
      "cell_type": "code",
      "source": [
        "# Check which layers are tunable(trainable)\n",
        "for layer_number, layers in enumerate(model_2.layers[2].layers):\n",
        "  print(layer_number,layers.name,layers.trainable)"
      ],
      "metadata": {
        "colab": {
          "base_uri": "https://localhost:8080/"
        },
        "id": "1cqlZ6pgOJmh",
        "outputId": "95a1c4f7-be86-4795-9d63-ab55e81837bf"
      },
      "execution_count": null,
      "outputs": [
        {
          "output_type": "stream",
          "name": "stdout",
          "text": [
            "0 input_6 False\n",
            "1 rescaling_5 False\n",
            "2 normalization_5 False\n",
            "3 tf.math.truediv_5 False\n",
            "4 stem_conv_pad False\n",
            "5 stem_conv False\n",
            "6 stem_bn False\n",
            "7 stem_activation False\n",
            "8 block1a_dwconv False\n",
            "9 block1a_bn False\n",
            "10 block1a_activation False\n",
            "11 block1a_se_squeeze False\n",
            "12 block1a_se_reshape False\n",
            "13 block1a_se_reduce False\n",
            "14 block1a_se_expand False\n",
            "15 block1a_se_excite False\n",
            "16 block1a_project_conv False\n",
            "17 block1a_project_bn False\n",
            "18 block2a_expand_conv False\n",
            "19 block2a_expand_bn False\n",
            "20 block2a_expand_activation False\n",
            "21 block2a_dwconv_pad False\n",
            "22 block2a_dwconv False\n",
            "23 block2a_bn False\n",
            "24 block2a_activation False\n",
            "25 block2a_se_squeeze False\n",
            "26 block2a_se_reshape False\n",
            "27 block2a_se_reduce False\n",
            "28 block2a_se_expand False\n",
            "29 block2a_se_excite False\n",
            "30 block2a_project_conv False\n",
            "31 block2a_project_bn False\n",
            "32 block2b_expand_conv False\n",
            "33 block2b_expand_bn False\n",
            "34 block2b_expand_activation False\n",
            "35 block2b_dwconv False\n",
            "36 block2b_bn False\n",
            "37 block2b_activation False\n",
            "38 block2b_se_squeeze False\n",
            "39 block2b_se_reshape False\n",
            "40 block2b_se_reduce False\n",
            "41 block2b_se_expand False\n",
            "42 block2b_se_excite False\n",
            "43 block2b_project_conv False\n",
            "44 block2b_project_bn False\n",
            "45 block2b_drop False\n",
            "46 block2b_add False\n",
            "47 block3a_expand_conv False\n",
            "48 block3a_expand_bn False\n",
            "49 block3a_expand_activation False\n",
            "50 block3a_dwconv_pad False\n",
            "51 block3a_dwconv False\n",
            "52 block3a_bn False\n",
            "53 block3a_activation False\n",
            "54 block3a_se_squeeze False\n",
            "55 block3a_se_reshape False\n",
            "56 block3a_se_reduce False\n",
            "57 block3a_se_expand False\n",
            "58 block3a_se_excite False\n",
            "59 block3a_project_conv False\n",
            "60 block3a_project_bn False\n",
            "61 block3b_expand_conv False\n",
            "62 block3b_expand_bn False\n",
            "63 block3b_expand_activation False\n",
            "64 block3b_dwconv False\n",
            "65 block3b_bn False\n",
            "66 block3b_activation False\n",
            "67 block3b_se_squeeze False\n",
            "68 block3b_se_reshape False\n",
            "69 block3b_se_reduce False\n",
            "70 block3b_se_expand False\n",
            "71 block3b_se_excite False\n",
            "72 block3b_project_conv False\n",
            "73 block3b_project_bn False\n",
            "74 block3b_drop False\n",
            "75 block3b_add False\n",
            "76 block4a_expand_conv False\n",
            "77 block4a_expand_bn False\n",
            "78 block4a_expand_activation False\n",
            "79 block4a_dwconv_pad False\n",
            "80 block4a_dwconv False\n",
            "81 block4a_bn False\n",
            "82 block4a_activation False\n",
            "83 block4a_se_squeeze False\n",
            "84 block4a_se_reshape False\n",
            "85 block4a_se_reduce False\n",
            "86 block4a_se_expand False\n",
            "87 block4a_se_excite False\n",
            "88 block4a_project_conv False\n",
            "89 block4a_project_bn False\n",
            "90 block4b_expand_conv False\n",
            "91 block4b_expand_bn False\n",
            "92 block4b_expand_activation False\n",
            "93 block4b_dwconv False\n",
            "94 block4b_bn False\n",
            "95 block4b_activation False\n",
            "96 block4b_se_squeeze False\n",
            "97 block4b_se_reshape False\n",
            "98 block4b_se_reduce False\n",
            "99 block4b_se_expand False\n",
            "100 block4b_se_excite False\n",
            "101 block4b_project_conv False\n",
            "102 block4b_project_bn False\n",
            "103 block4b_drop False\n",
            "104 block4b_add False\n",
            "105 block4c_expand_conv False\n",
            "106 block4c_expand_bn False\n",
            "107 block4c_expand_activation False\n",
            "108 block4c_dwconv False\n",
            "109 block4c_bn False\n",
            "110 block4c_activation False\n",
            "111 block4c_se_squeeze False\n",
            "112 block4c_se_reshape False\n",
            "113 block4c_se_reduce False\n",
            "114 block4c_se_expand False\n",
            "115 block4c_se_excite False\n",
            "116 block4c_project_conv False\n",
            "117 block4c_project_bn False\n",
            "118 block4c_drop False\n",
            "119 block4c_add False\n",
            "120 block5a_expand_conv False\n",
            "121 block5a_expand_bn False\n",
            "122 block5a_expand_activation False\n",
            "123 block5a_dwconv False\n",
            "124 block5a_bn False\n",
            "125 block5a_activation False\n",
            "126 block5a_se_squeeze False\n",
            "127 block5a_se_reshape False\n",
            "128 block5a_se_reduce False\n",
            "129 block5a_se_expand False\n",
            "130 block5a_se_excite False\n",
            "131 block5a_project_conv False\n",
            "132 block5a_project_bn False\n",
            "133 block5b_expand_conv False\n",
            "134 block5b_expand_bn False\n",
            "135 block5b_expand_activation False\n",
            "136 block5b_dwconv False\n",
            "137 block5b_bn False\n",
            "138 block5b_activation False\n",
            "139 block5b_se_squeeze False\n",
            "140 block5b_se_reshape False\n",
            "141 block5b_se_reduce False\n",
            "142 block5b_se_expand False\n",
            "143 block5b_se_excite False\n",
            "144 block5b_project_conv False\n",
            "145 block5b_project_bn False\n",
            "146 block5b_drop False\n",
            "147 block5b_add False\n",
            "148 block5c_expand_conv False\n",
            "149 block5c_expand_bn False\n",
            "150 block5c_expand_activation False\n",
            "151 block5c_dwconv False\n",
            "152 block5c_bn False\n",
            "153 block5c_activation False\n",
            "154 block5c_se_squeeze False\n",
            "155 block5c_se_reshape False\n",
            "156 block5c_se_reduce False\n",
            "157 block5c_se_expand False\n",
            "158 block5c_se_excite False\n",
            "159 block5c_project_conv False\n",
            "160 block5c_project_bn False\n",
            "161 block5c_drop False\n",
            "162 block5c_add False\n",
            "163 block6a_expand_conv False\n",
            "164 block6a_expand_bn False\n",
            "165 block6a_expand_activation False\n",
            "166 block6a_dwconv_pad False\n",
            "167 block6a_dwconv False\n",
            "168 block6a_bn False\n",
            "169 block6a_activation False\n",
            "170 block6a_se_squeeze False\n",
            "171 block6a_se_reshape False\n",
            "172 block6a_se_reduce False\n",
            "173 block6a_se_expand False\n",
            "174 block6a_se_excite False\n",
            "175 block6a_project_conv False\n",
            "176 block6a_project_bn False\n",
            "177 block6b_expand_conv False\n",
            "178 block6b_expand_bn False\n",
            "179 block6b_expand_activation False\n",
            "180 block6b_dwconv False\n",
            "181 block6b_bn False\n",
            "182 block6b_activation False\n",
            "183 block6b_se_squeeze False\n",
            "184 block6b_se_reshape False\n",
            "185 block6b_se_reduce False\n",
            "186 block6b_se_expand False\n",
            "187 block6b_se_excite False\n",
            "188 block6b_project_conv False\n",
            "189 block6b_project_bn False\n",
            "190 block6b_drop False\n",
            "191 block6b_add False\n",
            "192 block6c_expand_conv False\n",
            "193 block6c_expand_bn False\n",
            "194 block6c_expand_activation False\n",
            "195 block6c_dwconv False\n",
            "196 block6c_bn False\n",
            "197 block6c_activation False\n",
            "198 block6c_se_squeeze False\n",
            "199 block6c_se_reshape False\n",
            "200 block6c_se_reduce False\n",
            "201 block6c_se_expand False\n",
            "202 block6c_se_excite False\n",
            "203 block6c_project_conv False\n",
            "204 block6c_project_bn False\n",
            "205 block6c_drop False\n",
            "206 block6c_add False\n",
            "207 block6d_expand_conv False\n",
            "208 block6d_expand_bn False\n",
            "209 block6d_expand_activation False\n",
            "210 block6d_dwconv False\n",
            "211 block6d_bn False\n",
            "212 block6d_activation False\n",
            "213 block6d_se_squeeze False\n",
            "214 block6d_se_reshape False\n",
            "215 block6d_se_reduce False\n",
            "216 block6d_se_expand False\n",
            "217 block6d_se_excite False\n",
            "218 block6d_project_conv False\n",
            "219 block6d_project_bn False\n",
            "220 block6d_drop False\n",
            "221 block6d_add False\n",
            "222 block7a_expand_conv False\n",
            "223 block7a_expand_bn False\n",
            "224 block7a_expand_activation False\n",
            "225 block7a_dwconv False\n",
            "226 block7a_bn False\n",
            "227 block7a_activation False\n",
            "228 block7a_se_squeeze True\n",
            "229 block7a_se_reshape True\n",
            "230 block7a_se_reduce True\n",
            "231 block7a_se_expand True\n",
            "232 block7a_se_excite True\n",
            "233 block7a_project_conv True\n",
            "234 block7a_project_bn True\n",
            "235 top_conv True\n",
            "236 top_bn True\n",
            "237 top_activation True\n"
          ]
        }
      ]
    },
    {
      "cell_type": "code",
      "source": [
        "# Fine tune for another 5 epochs\n",
        "initial_epochs = 5\n",
        "fine_tune_epochs = initial_epochs +5\n",
        "\n",
        "# Refit the model\n",
        "history_fine_10_percent_data_aug = model_2.fit(train_data_10_percent,\n",
        "                                               epochs = fine_tune_epochs,\n",
        "                                               validation_data = test_data,\n",
        "                                               validation_steps =int(0.25*len(test_data)),\n",
        "                                               initial_epoch = history_10_percent.epoch[-1],\n",
        "                                               callbacks = [create_tensorboard_callback(dir_name=\"transfer_learning\",\n",
        "                                                                                        experiment_name=\"10_percent_fine_tune_last_10\")])"
      ],
      "metadata": {
        "colab": {
          "base_uri": "https://localhost:8080/"
        },
        "id": "Cux7bz6hPcm6",
        "outputId": "d4c44b00-f141-4661-a1d6-1adb67fec8b8"
      },
      "execution_count": null,
      "outputs": [
        {
          "output_type": "stream",
          "name": "stdout",
          "text": [
            "Saving TensorBoard log files to: transfer_learning/10_percent_fine_tune_last_10/20230105-140326\n",
            "Epoch 5/10\n",
            "24/24 [==============================] - 15s 347ms/step - loss: 0.6291 - accuracy: 0.8307 - val_loss: 0.4675 - val_accuracy: 0.8553\n",
            "Epoch 6/10\n",
            "24/24 [==============================] - 8s 291ms/step - loss: 0.4948 - accuracy: 0.8427 - val_loss: 0.4517 - val_accuracy: 0.8569\n",
            "Epoch 7/10\n",
            "24/24 [==============================] - 7s 277ms/step - loss: 0.4387 - accuracy: 0.8773 - val_loss: 0.4408 - val_accuracy: 0.8569\n",
            "Epoch 8/10\n",
            "24/24 [==============================] - 9s 367ms/step - loss: 0.3579 - accuracy: 0.8960 - val_loss: 0.4115 - val_accuracy: 0.8635\n",
            "Epoch 9/10\n",
            "24/24 [==============================] - 7s 285ms/step - loss: 0.3418 - accuracy: 0.9053 - val_loss: 0.4212 - val_accuracy: 0.8602\n",
            "Epoch 10/10\n",
            "24/24 [==============================] - 8s 328ms/step - loss: 0.3118 - accuracy: 0.9120 - val_loss: 0.3955 - val_accuracy: 0.8536\n"
          ]
        }
      ]
    },
    {
      "cell_type": "code",
      "source": [
        "# Evaluate the fine _tuned model\n",
        "results_fine_tune_10_percent = model_2.evaluate(test_data)"
      ],
      "metadata": {
        "colab": {
          "base_uri": "https://localhost:8080/"
        },
        "id": "kmBX8qjDR8Qg",
        "outputId": "5a7cb0ab-c650-49a3-9766-1ea7ebbf76da"
      },
      "execution_count": null,
      "outputs": [
        {
          "output_type": "stream",
          "name": "stdout",
          "text": [
            "79/79 [==============================] - 6s 73ms/step - loss: 0.4110 - accuracy: 0.8584\n"
          ]
        }
      ]
    },
    {
      "cell_type": "code",
      "source": [
        "# Check out the loss curve of our fine-tuned model\n",
        "plot_loss_curves(history_fine_10_percent_data_aug)"
      ],
      "metadata": {
        "colab": {
          "base_uri": "https://localhost:8080/",
          "height": 573
        },
        "id": "xpQvOLYlS86n",
        "outputId": "cd9ecb70-8809-4e3a-8dc4-fb034987a312"
      },
      "execution_count": null,
      "outputs": [
        {
          "output_type": "display_data",
          "data": {
            "text/plain": [
              "<Figure size 432x288 with 1 Axes>"
            ],
            "image/png": "[encoded data removed]"
          },
          "metadata": {
            "needs_background": "light"
          }
        },
        {
          "output_type": "display_data",
          "data": {
            "text/plain": [
              "<Figure size 432x288 with 1 Axes>"
            ],
            "image/png": "[encoded data removed]"
          },
          "metadata": {
            "needs_background": "light"
          }
        }
      ]
    },
    {
      "cell_type": "code",
      "source": [
        "# Lets create a function to compare histories\n",
        "def compare_historys(orignal_history,new_history,initial_epochs):\n",
        "  \"\"\"\n",
        "  comapre to tensorflow history objects\n",
        "  \"\"\"\n",
        "  # Get Orignal history measurements\n",
        "  acc = orignal_history.history[\"accuracy\"]\n",
        "  loss = orignal_history.history[\"loss\"]\n",
        "\n",
        "  val_acc = orignal_history.history[\"val_accuracy\"]\n",
        "  val_loss = orignal_history.history[\"val_loss\"]\n",
        "\n",
        "  # Combine orignal history\n",
        "  total_acc = acc +new_history.history[\"accuracy\"]\n",
        "  total_loss = loss + new_history.history[\"loss\"]\n",
        "\n",
        "  total_val_acc = acc +new_history.history[\"val_accuracy\"]\n",
        "  total_val_loss = loss + new_history.history[\"val_loss\"]\n",
        "\n",
        "  # Make plots for accuracy\n",
        "  plt.figure(figsize = (8,8))\n",
        "  plt.subplot(2,1,1)\n",
        "  plt.plot(total_acc,label = \"Training Accuracy\")\n",
        "  plt.plot(total_val_acc , label=\"val_Accuracy\")\n",
        "  plt.plot([initial_epochs-1,initial_epochs-1],plt.ylim(),label=\"Start Fine Tuning\")\n",
        "  plt.legend(loc=\"lower right\")\n",
        "  plt.title(\"Training and Validation Accuracy\")\n",
        "  \n",
        "  # Make plots for loss\n",
        "  plt.figure(figsize = (8,8))\n",
        "  plt.subplot(2,1,1)\n",
        "  plt.plot(total_loss,label = \"Training Loss\")\n",
        "  plt.plot(total_val_loss , label=\"val_loss\")\n",
        "  plt.plot([initial_epochs-1,initial_epochs-1],plt.ylim(),label=\"Start Fine Tuning\")\n",
        "  plt.legend(loc=\" upper right\")\n",
        "  plt.title(\"Training and Validation Loss\")\n"
      ],
      "metadata": {
        "id": "5yikMcNvFvb4"
      },
      "execution_count": null,
      "outputs": []
    },
    {
      "cell_type": "code",
      "source": [
        "compare_historys(history_10_percent,\n",
        "                 history_fine_10_percent_data_aug,\n",
        "                 initial_epochs=5)"
      ],
      "metadata": {
        "colab": {
          "base_uri": "https://localhost:8080/",
          "height": 770
        },
        "id": "XYuV4PT2I-24",
        "outputId": "259a0857-c39b-46f0-ea4a-4c4703007b1a"
      },
      "execution_count": null,
      "outputs": [
        {
          "output_type": "stream",
          "name": "stderr",
          "text": [
            "<ipython-input-124-b1c21ab37fcd>:35: MatplotlibDeprecationWarning: Unrecognized location ' upper right'. Falling back on 'best'; valid locations are\n",
            "\tbest\n",
            "\tupper right\n",
            "\tupper left\n",
            "\tlower left\n",
            "\tlower right\n",
            "\tright\n",
            "\tcenter left\n",
            "\tcenter right\n",
            "\tlower center\n",
            "\tupper center\n",
            "\tcenter\n",
            "This will raise an exception in 3.3.\n",
            "  plt.legend(loc=\" upper right\")\n"
          ]
        },
        {
          "output_type": "display_data",
          "data": {
            "text/plain": [
              "<Figure size 576x576 with 1 Axes>"
            ],
            "image/png": "[encoded data removed]"
          },
          "metadata": {
            "needs_background": "light"
          }
        },
        {
          "output_type": "display_data",
          "data": {
            "text/plain": [
              "<Figure size 576x576 with 1 Axes>"
            ],
            "image/png": "[encoded data removed]"
          },
          "metadata": {
            "needs_background": "light"
          }
        }
      ]
    },
    {
      "cell_type": "markdown",
      "source": [
        "## Model 4 : fine tuning a trained model on 100 percent of data"
      ],
      "metadata": {
        "id": "HVJdv0UOJXD0"
      }
    },
    {
      "cell_type": "code",
      "source": [
        "# Download and unzip 10 classes of food 101 data with all images\n",
        "!wget https://storage.googleapis.com/ztm_tf_course/food_vision/10_food_classes_all_data.zip\n",
        "\n",
        "unzip_data(\"10_food_classes_all_data.zip\")"
      ],
      "metadata": {
        "colab": {
          "base_uri": "https://localhost:8080/"
        },
        "id": "i91CZhiDKk2-",
        "outputId": "f1461247-8b90-430f-f936-79285ef5fd82"
      },
      "execution_count": null,
      "outputs": [
        {
          "output_type": "stream",
          "name": "stdout",
          "text": [
            "--2023-01-05 14:04:39--  https://storage.googleapis.com/ztm_tf_course/food_vision/10_food_classes_all_data.zip\n",
            "Resolving storage.googleapis.com (storage.googleapis.com)... 142.250.153.128, 142.250.145.128, 74.125.128.128, ...\n",
            "Connecting to storage.googleapis.com (storage.googleapis.com)|142.250.153.128|:443... connected.\n",
            "HTTP request sent, awaiting response... 200 OK\n",
            "Length: 519183241 (495M) [application/zip]\n",
            "Saving to: ‘10_food_classes_all_data.zip.1’\n",
            "\n",
            "10_food_classes_all 100%[===================>] 495.13M  34.8MB/s    in 16s     \n",
            "\n",
            "2023-01-05 14:04:55 (31.2 MB/s) - ‘10_food_classes_all_data.zip.1’ saved [519183241/519183241]\n",
            "\n"
          ]
        }
      ]
    },
    {
      "cell_type": "code",
      "source": [
        "# Setup training and test dir\n",
        "train_dir = \"10_food_classes_all_data/train\"\n",
        "test_dir = \"10_food_classes_all_data/test\""
      ],
      "metadata": {
        "id": "zAdAG9SML30v"
      },
      "execution_count": null,
      "outputs": []
    },
    {
      "cell_type": "code",
      "source": [
        "# How many images are we working with\n",
        "walk_through_dir(\"10_food_classes_all_data\")"
      ],
      "metadata": {
        "colab": {
          "base_uri": "https://localhost:8080/"
        },
        "id": "gdNSnXTGMDyc",
        "outputId": "09685d6b-6cb1-41db-8409-36de9dce06b6"
      },
      "execution_count": null,
      "outputs": [
        {
          "output_type": "stream",
          "name": "stdout",
          "text": [
            "There are 2 directories and 0 images in '10_food_classes_all_data'.\n",
            "There are 10 directories and 0 images in '10_food_classes_all_data/train'.\n",
            "There are 0 directories and 750 images in '10_food_classes_all_data/train/ramen'.\n",
            "There are 0 directories and 750 images in '10_food_classes_all_data/train/hamburger'.\n",
            "There are 0 directories and 750 images in '10_food_classes_all_data/train/pizza'.\n",
            "There are 0 directories and 750 images in '10_food_classes_all_data/train/steak'.\n",
            "There are 0 directories and 750 images in '10_food_classes_all_data/train/sushi'.\n",
            "There are 0 directories and 750 images in '10_food_classes_all_data/train/chicken_curry'.\n",
            "There are 0 directories and 750 images in '10_food_classes_all_data/train/ice_cream'.\n",
            "There are 0 directories and 750 images in '10_food_classes_all_data/train/chicken_wings'.\n",
            "There are 0 directories and 750 images in '10_food_classes_all_data/train/grilled_salmon'.\n",
            "There are 0 directories and 750 images in '10_food_classes_all_data/train/fried_rice'.\n",
            "There are 10 directories and 0 images in '10_food_classes_all_data/test'.\n",
            "There are 0 directories and 250 images in '10_food_classes_all_data/test/ramen'.\n",
            "There are 0 directories and 250 images in '10_food_classes_all_data/test/hamburger'.\n",
            "There are 0 directories and 250 images in '10_food_classes_all_data/test/pizza'.\n",
            "There are 0 directories and 250 images in '10_food_classes_all_data/test/steak'.\n",
            "There are 0 directories and 250 images in '10_food_classes_all_data/test/sushi'.\n",
            "There are 0 directories and 250 images in '10_food_classes_all_data/test/chicken_curry'.\n",
            "There are 0 directories and 250 images in '10_food_classes_all_data/test/ice_cream'.\n",
            "There are 0 directories and 250 images in '10_food_classes_all_data/test/chicken_wings'.\n",
            "There are 0 directories and 250 images in '10_food_classes_all_data/test/grilled_salmon'.\n",
            "There are 0 directories and 250 images in '10_food_classes_all_data/test/fried_rice'.\n"
          ]
        }
      ]
    },
    {
      "cell_type": "code",
      "source": [
        "# Setup data inputs\n",
        "import tensorflow as tf\n",
        "train_data_all = tf.keras.preprocessing.image_dataset_from_directory(\"10_food_classes_all_data/train\",image_size=(224,224),label_mode=\"categorical\")\n",
        "test_data = tf.keras.preprocessing.image_dataset_from_directory(\"10_food_classes_all_data/test\",image_size=(224,224),label_mode=\"categorical\")"
      ],
      "metadata": {
        "colab": {
          "base_uri": "https://localhost:8080/"
        },
        "id": "O5HBkPvrMLx2",
        "outputId": "af7a322f-cc43-4645-cfe8-ef78015f29c7"
      },
      "execution_count": null,
      "outputs": [
        {
          "output_type": "stream",
          "name": "stdout",
          "text": [
            "Found 7500 files belonging to 10 classes.\n",
            "Found 2500 files belonging to 10 classes.\n"
          ]
        }
      ]
    },
    {
      "cell_type": "markdown",
      "source": [
        "to train a fine_tuning model qwe need to revert the model to its feature extraction stage"
      ],
      "metadata": {
        "id": "-9kVGFVMMnQN"
      }
    },
    {
      "cell_type": "code",
      "source": [
        "model_2.load_weights(checkpoint_path)"
      ],
      "metadata": {
        "colab": {
          "base_uri": "https://localhost:8080/"
        },
        "id": "gcrfDq7-OD6u",
        "outputId": "5224e90c-6f7c-44c1-d6f1-ded2629a7fed"
      },
      "execution_count": null,
      "outputs": [
        {
          "output_type": "execute_result",
          "data": {
            "text/plain": [
              "<tensorflow.python.training.tracking.util.CheckpointLoadStatus at 0x7fe26015c550>"
            ]
          },
          "metadata": {},
          "execution_count": 130
        }
      ]
    },
    {
      "cell_type": "code",
      "source": [
        "model_2.summary()"
      ],
      "metadata": {
        "colab": {
          "base_uri": "https://localhost:8080/"
        },
        "id": "CC4jvRMtWogk",
        "outputId": "bd52d74e-6dc6-4a4c-aac9-0c8bc0b9a4cb"
      },
      "execution_count": null,
      "outputs": [
        {
          "output_type": "stream",
          "name": "stdout",
          "text": [
            "Model: \"model_5\"\n",
            "_________________________________________________________________\n",
            " Layer (type)                Output Shape              Param #   \n",
            "=================================================================\n",
            " input_layer (InputLayer)    [(None, 224, 224, 3)]     0         \n",
            "                                                                 \n",
            " data_augmentation (Sequenti  (None, 224, 224, 3)      0         \n",
            " al)                                                             \n",
            "                                                                 \n",
            " efficientnetb0 (Functional)  (None, None, None, 1280)  4049571  \n",
            "                                                                 \n",
            " global_average_pooling2d_5   (None, 1280)             0         \n",
            " (GlobalAveragePooling2D)                                        \n",
            "                                                                 \n",
            " output_layer (Dense)        (None, 10)                12810     \n",
            "                                                                 \n",
            "=================================================================\n",
            "Total params: 4,062,381\n",
            "Trainable params: 906,042\n",
            "Non-trainable params: 3,156,339\n",
            "_________________________________________________________________\n"
          ]
        }
      ]
    },
    {
      "cell_type": "code",
      "source": [
        "model_2.evaluate(test_data)"
      ],
      "metadata": {
        "colab": {
          "base_uri": "https://localhost:8080/"
        },
        "id": "IyUf65EHOQgY",
        "outputId": "8ef53714-9f58-443e-a91b-858b52c58563"
      },
      "execution_count": null,
      "outputs": [
        {
          "output_type": "stream",
          "name": "stdout",
          "text": [
            "79/79 [==============================] - 6s 74ms/step - loss: 0.6220 - accuracy: 0.8400\n"
          ]
        },
        {
          "output_type": "execute_result",
          "data": {
            "text/plain": [
              "[0.6219931840896606, 0.8399999737739563]"
            ]
          },
          "metadata": {},
          "execution_count": 152
        }
      ]
    },
    {
      "cell_type": "code",
      "source": [],
      "metadata": {
        "id": "_19yZubIOYlb"
      },
      "execution_count": null,
      "outputs": []
    }
  ]
}